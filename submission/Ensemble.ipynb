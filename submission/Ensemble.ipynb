{
  "nbformat": 4,
  "nbformat_minor": 0,
  "metadata": {
    "colab": {
      "name": "Ensemble.ipynb",
      "version": "0.3.2",
      "provenance": [],
      "collapsed_sections": []
    },
    "kernelspec": {
      "name": "python3",
      "display_name": "Python 3"
    },
    "accelerator": "GPU"
  },
  "cells": [
    {
      "cell_type": "markdown",
      "metadata": {
        "id": "B2qaT25ZiS-P",
        "colab_type": "text"
      },
      "source": [
        "## Connect Directories"
      ]
    },
    {
      "cell_type": "markdown",
      "metadata": {
        "id": "o6Q3FPg4-bWw",
        "colab_type": "text"
      },
      "source": [
        "Import the github repository and move it into the local directory  and remove the defult samples directoy if this has not been done already)\n"
      ]
    },
    {
      "cell_type": "code",
      "metadata": {
        "id": "Q9pnfHbSqgXh",
        "colab_type": "code",
        "outputId": "1d19196a-7ab2-4abb-ebd5-a26cdaec5db6",
        "colab": {
          "base_uri": "https://localhost:8080/",
          "height": 153
        }
      },
      "source": [
        "from getpass import getpass\n",
        "import os\n",
        "\n",
        "if not os.path.isdir(\".git\"):\n",
        "    user = \"Boyne272\"\n",
        "    password = getpass('github password')\n",
        "    os.environ['GITHUB_AUTH'] = user + ':' + password\n",
        "\n",
        "    # clone the repo\n",
        "    !git clone https://$GITHUB_AUTH@github.com/msc-acse/acse-8-miniproject-softmax.git repo\n",
        "\n",
        "    # move the repo up one\n",
        "    !mv repo/* .\n",
        "    !mv repo/.git .\n",
        "\n",
        "    # delete un needed stuff\n",
        "    !rm -r repo\n",
        "    !rm -r sample_data/\n",
        "\n",
        "!git checkout richard\n",
        "!git pull origin richard\n",
        "!git log -2"
      ],
      "execution_count": 0,
      "outputs": [
        {
          "output_type": "stream",
          "text": [
            "github password··········\n",
            "Cloning into 'repo'...\n",
            "remote: Enumerating objects: 46, done.\u001b[K\n",
            "remote: Counting objects: 100% (46/46), done.\u001b[K\n",
            "remote: Compressing objects: 100% (40/40), done.\u001b[K\n",
            "remote: Total 633 (delta 13), reused 33 (delta 6), pack-reused 587\u001b[K\n",
            "Receiving objects: 100% (633/633), 171.79 MiB | 28.68 MiB/s, done.\n",
            "Resolving deltas: 100% (333/333), done.\n"
          ],
          "name": "stdout"
        }
      ]
    },
    {
      "cell_type": "markdown",
      "metadata": {
        "id": "xMVNRJBtj848",
        "colab_type": "text"
      },
      "source": [
        "Mount the google drive"
      ]
    },
    {
      "cell_type": "code",
      "metadata": {
        "id": "ZSL0qF39j8H5",
        "colab_type": "code",
        "colab": {}
      },
      "source": [
        "from google.colab import drive\n",
        "drive.mount('/content/gdrive/')"
      ],
      "execution_count": 0,
      "outputs": []
    },
    {
      "cell_type": "markdown",
      "metadata": {
        "id": "4iGLYFKY1CnP",
        "colab_type": "text"
      },
      "source": [
        "## Imports"
      ]
    },
    {
      "cell_type": "markdown",
      "metadata": {
        "id": "EvJ4qN51_mPP",
        "colab_type": "text"
      },
      "source": [
        "Ipython imports and functions"
      ]
    },
    {
      "cell_type": "code",
      "metadata": {
        "id": "kdWZQ7cefhiI",
        "colab_type": "code",
        "outputId": "a68a2c28-11ec-42c9-c029-d9792d40c3db",
        "colab": {
          "base_uri": "https://localhost:8080/",
          "height": 1023
        }
      },
      "source": [
        "# ipython setup\n",
        "!pip install pycm livelossplot\n",
        "%pylab inline\n",
        "%load_ext autoreload\n",
        "%autoreload 2"
      ],
      "execution_count": 0,
      "outputs": [
        {
          "output_type": "stream",
          "text": [
            "Collecting pycm\n",
            "\u001b[?25l  Downloading https://files.pythonhosted.org/packages/35/86/14ebc41098fb81eb7e458d234622a9ce50857bb7d6f350b29765273c00f5/pycm-2.1-py2.py3-none-any.whl (45kB)\n",
            "\u001b[K     |████████████████████████████████| 51kB 1.3MB/s \n",
            "\u001b[?25hCollecting livelossplot\n",
            "  Downloading https://files.pythonhosted.org/packages/55/2b/4be0b3de085cfacf25fc1934f391bd85f90565db4f110f3f7b2220666b09/livelossplot-0.4.0-py3-none-any.whl\n",
            "Requirement already satisfied: numpy>=1.9.0 in /usr/local/lib/python3.6/dist-packages (from pycm) (1.16.3)\n",
            "Collecting art>=1.8 (from pycm)\n",
            "\u001b[?25l  Downloading https://files.pythonhosted.org/packages/6e/cb/12329146ae052d8cc797edec123f87ff54f349af34438d01f1ffe7fc6e1c/art-3.6-py2.py3-none-any.whl (489kB)\n",
            "\u001b[K     |████████████████████████████████| 491kB 5.5MB/s \n",
            "\u001b[?25hRequirement already satisfied: notebook in /usr/local/lib/python3.6/dist-packages (from livelossplot) (5.2.2)\n",
            "Requirement already satisfied: matplotlib in /usr/local/lib/python3.6/dist-packages (from livelossplot) (3.0.3)\n",
            "Collecting coverage>=4.1 (from art>=1.8->pycm)\n",
            "\u001b[?25l  Downloading https://files.pythonhosted.org/packages/f8/4e/f28fc04019bac97d301512d904992791569234a06826cd420f78fba9a361/coverage-4.5.3-cp36-cp36m-manylinux1_x86_64.whl (205kB)\n",
            "\u001b[K     |████████████████████████████████| 215kB 38.5MB/s \n",
            "\u001b[?25hRequirement already satisfied: jupyter-core in /usr/local/lib/python3.6/dist-packages (from notebook->livelossplot) (4.4.0)\n",
            "Requirement already satisfied: terminado>=0.3.3; sys_platform != \"win32\" in /usr/local/lib/python3.6/dist-packages (from notebook->livelossplot) (0.8.2)\n",
            "Requirement already satisfied: traitlets>=4.2.1 in /usr/local/lib/python3.6/dist-packages (from notebook->livelossplot) (4.3.2)\n",
            "Requirement already satisfied: nbformat in /usr/local/lib/python3.6/dist-packages (from notebook->livelossplot) (4.4.0)\n",
            "Requirement already satisfied: tornado>=4 in /usr/local/lib/python3.6/dist-packages (from notebook->livelossplot) (4.5.3)\n",
            "Requirement already satisfied: jupyter-client in /usr/local/lib/python3.6/dist-packages (from notebook->livelossplot) (5.2.4)\n",
            "Requirement already satisfied: ipykernel in /usr/local/lib/python3.6/dist-packages (from notebook->livelossplot) (4.6.1)\n",
            "Requirement already satisfied: nbconvert in /usr/local/lib/python3.6/dist-packages (from notebook->livelossplot) (5.5.0)\n",
            "Requirement already satisfied: ipython-genutils in /usr/local/lib/python3.6/dist-packages (from notebook->livelossplot) (0.2.0)\n",
            "Requirement already satisfied: jinja2 in /usr/local/lib/python3.6/dist-packages (from notebook->livelossplot) (2.10.1)\n",
            "Requirement already satisfied: python-dateutil>=2.1 in /usr/local/lib/python3.6/dist-packages (from matplotlib->livelossplot) (2.5.3)\n",
            "Requirement already satisfied: kiwisolver>=1.0.1 in /usr/local/lib/python3.6/dist-packages (from matplotlib->livelossplot) (1.1.0)\n",
            "Requirement already satisfied: cycler>=0.10 in /usr/local/lib/python3.6/dist-packages (from matplotlib->livelossplot) (0.10.0)\n",
            "Requirement already satisfied: pyparsing!=2.0.4,!=2.1.2,!=2.1.6,>=2.0.1 in /usr/local/lib/python3.6/dist-packages (from matplotlib->livelossplot) (2.4.0)\n",
            "Requirement already satisfied: ptyprocess; os_name != \"nt\" in /usr/local/lib/python3.6/dist-packages (from terminado>=0.3.3; sys_platform != \"win32\"->notebook->livelossplot) (0.6.0)\n",
            "Requirement already satisfied: decorator in /usr/local/lib/python3.6/dist-packages (from traitlets>=4.2.1->notebook->livelossplot) (4.4.0)\n",
            "Requirement already satisfied: six in /usr/local/lib/python3.6/dist-packages (from traitlets>=4.2.1->notebook->livelossplot) (1.12.0)\n",
            "Requirement already satisfied: jsonschema!=2.5.0,>=2.4 in /usr/local/lib/python3.6/dist-packages (from nbformat->notebook->livelossplot) (2.6.0)\n",
            "Requirement already satisfied: pyzmq>=13 in /usr/local/lib/python3.6/dist-packages (from jupyter-client->notebook->livelossplot) (17.0.0)\n",
            "Requirement already satisfied: ipython>=4.0.0 in /usr/local/lib/python3.6/dist-packages (from ipykernel->notebook->livelossplot) (5.5.0)\n",
            "Requirement already satisfied: entrypoints>=0.2.2 in /usr/local/lib/python3.6/dist-packages (from nbconvert->notebook->livelossplot) (0.3)\n",
            "Requirement already satisfied: bleach in /usr/local/lib/python3.6/dist-packages (from nbconvert->notebook->livelossplot) (3.1.0)\n",
            "Requirement already satisfied: mistune>=0.8.1 in /usr/local/lib/python3.6/dist-packages (from nbconvert->notebook->livelossplot) (0.8.4)\n",
            "Requirement already satisfied: defusedxml in /usr/local/lib/python3.6/dist-packages (from nbconvert->notebook->livelossplot) (0.6.0)\n",
            "Requirement already satisfied: pygments in /usr/local/lib/python3.6/dist-packages (from nbconvert->notebook->livelossplot) (2.1.3)\n",
            "Requirement already satisfied: testpath in /usr/local/lib/python3.6/dist-packages (from nbconvert->notebook->livelossplot) (0.4.2)\n",
            "Requirement already satisfied: pandocfilters>=1.4.1 in /usr/local/lib/python3.6/dist-packages (from nbconvert->notebook->livelossplot) (1.4.2)\n",
            "Requirement already satisfied: MarkupSafe>=0.23 in /usr/local/lib/python3.6/dist-packages (from jinja2->notebook->livelossplot) (1.1.1)\n",
            "Requirement already satisfied: setuptools in /usr/local/lib/python3.6/dist-packages (from kiwisolver>=1.0.1->matplotlib->livelossplot) (41.0.1)\n",
            "Requirement already satisfied: pexpect; sys_platform != \"win32\" in /usr/local/lib/python3.6/dist-packages (from ipython>=4.0.0->ipykernel->notebook->livelossplot) (4.7.0)\n",
            "Requirement already satisfied: prompt-toolkit<2.0.0,>=1.0.4 in /usr/local/lib/python3.6/dist-packages (from ipython>=4.0.0->ipykernel->notebook->livelossplot) (1.0.16)\n",
            "Requirement already satisfied: simplegeneric>0.8 in /usr/local/lib/python3.6/dist-packages (from ipython>=4.0.0->ipykernel->notebook->livelossplot) (0.8.1)\n",
            "Requirement already satisfied: pickleshare in /usr/local/lib/python3.6/dist-packages (from ipython>=4.0.0->ipykernel->notebook->livelossplot) (0.7.5)\n",
            "Requirement already satisfied: webencodings in /usr/local/lib/python3.6/dist-packages (from bleach->nbconvert->notebook->livelossplot) (0.5.1)\n",
            "Requirement already satisfied: wcwidth in /usr/local/lib/python3.6/dist-packages (from prompt-toolkit<2.0.0,>=1.0.4->ipython>=4.0.0->ipykernel->notebook->livelossplot) (0.1.7)\n",
            "\u001b[31mERROR: datascience 0.10.6 has requirement coverage==3.7.1, but you'll have coverage 4.5.3 which is incompatible.\u001b[0m\n",
            "\u001b[31mERROR: datascience 0.10.6 has requirement folium==0.2.1, but you'll have folium 0.8.3 which is incompatible.\u001b[0m\n",
            "\u001b[31mERROR: coveralls 0.5 has requirement coverage<3.999,>=3.6, but you'll have coverage 4.5.3 which is incompatible.\u001b[0m\n",
            "Installing collected packages: coverage, art, pycm, livelossplot\n",
            "  Found existing installation: coverage 3.7.1\n",
            "    Uninstalling coverage-3.7.1:\n",
            "      Successfully uninstalled coverage-3.7.1\n",
            "Successfully installed art-3.6 coverage-4.5.3 livelossplot-0.4.0 pycm-2.1\n",
            "Populating the interactive namespace from numpy and matplotlib\n"
          ],
          "name": "stdout"
        }
      ]
    },
    {
      "cell_type": "markdown",
      "metadata": {
        "id": "5gKjhgzi_qph",
        "colab_type": "text"
      },
      "source": [
        "Module imports"
      ]
    },
    {
      "cell_type": "code",
      "metadata": {
        "id": "aAqIjtvZiVfG",
        "colab_type": "code",
        "colab": {}
      },
      "source": [
        "# imports\n",
        "from sklearn.metrics import accuracy_score\n",
        "from sklearn.model_selection import StratifiedShuffleSplit, StratifiedKFold\n",
        "from torchvision.transforms import Compose, ToTensor, Normalize, RandomRotation, RandomCrop, ToPILImage, Pad\n",
        "\n",
        "from livelossplot import PlotLosses\n",
        "from pycm import *\n",
        "\n",
        "import torch\n",
        "import torch.nn as nn\n",
        "import torch.nn.functional as F\n",
        "from torch.utils.data import TensorDataset, DataLoader\n",
        "import torchvision.transforms as transforms\n",
        "import matplotlib.pyplot as plt\n",
        "\n",
        "# imports from github\n",
        "from tools import *"
      ],
      "execution_count": 0,
      "outputs": []
    },
    {
      "cell_type": "markdown",
      "metadata": {
        "id": "-VOT6jtg_uLq",
        "colab_type": "text"
      },
      "source": [
        "Check runtime device"
      ]
    },
    {
      "cell_type": "code",
      "metadata": {
        "id": "xY6dnhJut2N1",
        "colab_type": "code",
        "outputId": "0affdf8d-5d26-4cfc-d030-5fa34385d992",
        "colab": {
          "base_uri": "https://localhost:8080/",
          "height": 34
        }
      },
      "source": [
        "# check running device\n",
        "device = 'cpu'\n",
        "if torch.cuda.device_count() > 0 and torch.cuda.is_available():\n",
        "    print(\"Cuda installed! Running on GPU!\")\n",
        "    device = 'cuda'\n",
        "else:\n",
        "    print(\"No GPU available!\")"
      ],
      "execution_count": 0,
      "outputs": [
        {
          "output_type": "stream",
          "text": [
            "Cuda installed! Running on GPU!\n"
          ],
          "name": "stdout"
        }
      ]
    },
    {
      "cell_type": "markdown",
      "metadata": {
        "id": "7debqQ0a8s1X",
        "colab_type": "text"
      },
      "source": [
        "## Ensemble of all 4 Models"
      ]
    },
    {
      "cell_type": "markdown",
      "metadata": {
        "id": "IdLibIsnox6n",
        "colab_type": "text"
      },
      "source": [
        " ### Load the CSV files of their predictions"
      ]
    },
    {
      "cell_type": "code",
      "metadata": {
        "id": "63jp2Tee9K-T",
        "colab_type": "code",
        "colab": {}
      },
      "source": [
        "import pandas as pd\n",
        "\n",
        "db = pd.read_csv(\"/content/models/Comparisons/combined_predictions.csv\")"
      ],
      "execution_count": 0,
      "outputs": []
    },
    {
      "cell_type": "markdown",
      "metadata": {
        "id": "fFhWnxOdo_m8",
        "colab_type": "text"
      },
      "source": [
        "Check the cross corrleation of these matrices"
      ]
    },
    {
      "cell_type": "code",
      "metadata": {
        "id": "3d4ybJa_O84M",
        "colab_type": "code",
        "outputId": "b232282d-21c9-4793-896b-e80626239274",
        "colab": {
          "base_uri": "https://localhost:8080/",
          "height": 549
        }
      },
      "source": [
        "db.corr()"
      ],
      "execution_count": 0,
      "outputs": [
        {
          "output_type": "execute_result",
          "data": {
            "text/html": [
              "<div>\n",
              "<style scoped>\n",
              "    .dataframe tbody tr th:only-of-type {\n",
              "        vertical-align: middle;\n",
              "    }\n",
              "\n",
              "    .dataframe tbody tr th {\n",
              "        vertical-align: top;\n",
              "    }\n",
              "\n",
              "    .dataframe thead th {\n",
              "        text-align: right;\n",
              "    }\n",
              "</style>\n",
              "<table border=\"1\" class=\"dataframe\">\n",
              "  <thead>\n",
              "    <tr style=\"text-align: right;\">\n",
              "      <th></th>\n",
              "      <th>DAB Drop Aug (98.88%)</th>\n",
              "      <th>DAB Drop Aug full (98.2%)</th>\n",
              "      <th>DAB opt SGD 2</th>\n",
              "      <th>DAB opt ADAM 1</th>\n",
              "      <th>DAB opt ADAM 2</th>\n",
              "      <th>AlexNet 7 Adam</th>\n",
              "      <th>AlexNet 7 SGD</th>\n",
              "      <th>AlexNet 7 Adam full</th>\n",
              "      <th>AlexNet 7 SGD full</th>\n",
              "      <th>Super Awesome Dodgie thing no pad</th>\n",
              "      <th>Super Awesome Dodgie thing pad</th>\n",
              "      <th>AlexNet 6 wide</th>\n",
              "    </tr>\n",
              "  </thead>\n",
              "  <tbody>\n",
              "    <tr>\n",
              "      <th>DAB Drop Aug (98.88%)</th>\n",
              "      <td>1.000000</td>\n",
              "      <td>0.988160</td>\n",
              "      <td>0.987419</td>\n",
              "      <td>0.986022</td>\n",
              "      <td>0.986022</td>\n",
              "      <td>0.987594</td>\n",
              "      <td>0.988542</td>\n",
              "      <td>0.985701</td>\n",
              "      <td>0.984890</td>\n",
              "      <td>0.987295</td>\n",
              "      <td>0.984803</td>\n",
              "      <td>0.984671</td>\n",
              "    </tr>\n",
              "    <tr>\n",
              "      <th>DAB Drop Aug full (98.2%)</th>\n",
              "      <td>0.988160</td>\n",
              "      <td>1.000000</td>\n",
              "      <td>0.985661</td>\n",
              "      <td>0.983934</td>\n",
              "      <td>0.983934</td>\n",
              "      <td>0.985670</td>\n",
              "      <td>0.986916</td>\n",
              "      <td>0.981631</td>\n",
              "      <td>0.984927</td>\n",
              "      <td>0.985840</td>\n",
              "      <td>0.982116</td>\n",
              "      <td>0.980758</td>\n",
              "    </tr>\n",
              "    <tr>\n",
              "      <th>DAB opt SGD 2</th>\n",
              "      <td>0.987419</td>\n",
              "      <td>0.985661</td>\n",
              "      <td>1.000000</td>\n",
              "      <td>0.983237</td>\n",
              "      <td>0.983237</td>\n",
              "      <td>0.984192</td>\n",
              "      <td>0.985791</td>\n",
              "      <td>0.984815</td>\n",
              "      <td>0.982747</td>\n",
              "      <td>0.987268</td>\n",
              "      <td>0.981633</td>\n",
              "      <td>0.979733</td>\n",
              "    </tr>\n",
              "    <tr>\n",
              "      <th>DAB opt ADAM 1</th>\n",
              "      <td>0.986022</td>\n",
              "      <td>0.983934</td>\n",
              "      <td>0.983237</td>\n",
              "      <td>1.000000</td>\n",
              "      <td>1.000000</td>\n",
              "      <td>0.984980</td>\n",
              "      <td>0.985189</td>\n",
              "      <td>0.982190</td>\n",
              "      <td>0.984366</td>\n",
              "      <td>0.984201</td>\n",
              "      <td>0.982942</td>\n",
              "      <td>0.980670</td>\n",
              "    </tr>\n",
              "    <tr>\n",
              "      <th>DAB opt ADAM 2</th>\n",
              "      <td>0.986022</td>\n",
              "      <td>0.983934</td>\n",
              "      <td>0.983237</td>\n",
              "      <td>1.000000</td>\n",
              "      <td>1.000000</td>\n",
              "      <td>0.984980</td>\n",
              "      <td>0.985189</td>\n",
              "      <td>0.982190</td>\n",
              "      <td>0.984366</td>\n",
              "      <td>0.984201</td>\n",
              "      <td>0.982942</td>\n",
              "      <td>0.980670</td>\n",
              "    </tr>\n",
              "    <tr>\n",
              "      <th>AlexNet 7 Adam</th>\n",
              "      <td>0.987594</td>\n",
              "      <td>0.985670</td>\n",
              "      <td>0.984192</td>\n",
              "      <td>0.984980</td>\n",
              "      <td>0.984980</td>\n",
              "      <td>1.000000</td>\n",
              "      <td>0.987954</td>\n",
              "      <td>0.986296</td>\n",
              "      <td>0.985068</td>\n",
              "      <td>0.985386</td>\n",
              "      <td>0.980343</td>\n",
              "      <td>0.983232</td>\n",
              "    </tr>\n",
              "    <tr>\n",
              "      <th>AlexNet 7 SGD</th>\n",
              "      <td>0.988542</td>\n",
              "      <td>0.986916</td>\n",
              "      <td>0.985791</td>\n",
              "      <td>0.985189</td>\n",
              "      <td>0.985189</td>\n",
              "      <td>0.987954</td>\n",
              "      <td>1.000000</td>\n",
              "      <td>0.987855</td>\n",
              "      <td>0.987465</td>\n",
              "      <td>0.985860</td>\n",
              "      <td>0.981396</td>\n",
              "      <td>0.984165</td>\n",
              "    </tr>\n",
              "    <tr>\n",
              "      <th>AlexNet 7 Adam full</th>\n",
              "      <td>0.985701</td>\n",
              "      <td>0.981631</td>\n",
              "      <td>0.984815</td>\n",
              "      <td>0.982190</td>\n",
              "      <td>0.982190</td>\n",
              "      <td>0.986296</td>\n",
              "      <td>0.987855</td>\n",
              "      <td>1.000000</td>\n",
              "      <td>0.983851</td>\n",
              "      <td>0.984448</td>\n",
              "      <td>0.978563</td>\n",
              "      <td>0.982342</td>\n",
              "    </tr>\n",
              "    <tr>\n",
              "      <th>AlexNet 7 SGD full</th>\n",
              "      <td>0.984890</td>\n",
              "      <td>0.984927</td>\n",
              "      <td>0.982747</td>\n",
              "      <td>0.984366</td>\n",
              "      <td>0.984366</td>\n",
              "      <td>0.985068</td>\n",
              "      <td>0.987465</td>\n",
              "      <td>0.983851</td>\n",
              "      <td>1.000000</td>\n",
              "      <td>0.984754</td>\n",
              "      <td>0.979847</td>\n",
              "      <td>0.981868</td>\n",
              "    </tr>\n",
              "    <tr>\n",
              "      <th>Super Awesome Dodgie thing no pad</th>\n",
              "      <td>0.987295</td>\n",
              "      <td>0.985840</td>\n",
              "      <td>0.987268</td>\n",
              "      <td>0.984201</td>\n",
              "      <td>0.984201</td>\n",
              "      <td>0.985386</td>\n",
              "      <td>0.985860</td>\n",
              "      <td>0.984448</td>\n",
              "      <td>0.984754</td>\n",
              "      <td>1.000000</td>\n",
              "      <td>0.984643</td>\n",
              "      <td>0.979731</td>\n",
              "    </tr>\n",
              "    <tr>\n",
              "      <th>Super Awesome Dodgie thing pad</th>\n",
              "      <td>0.984803</td>\n",
              "      <td>0.982116</td>\n",
              "      <td>0.981633</td>\n",
              "      <td>0.982942</td>\n",
              "      <td>0.982942</td>\n",
              "      <td>0.980343</td>\n",
              "      <td>0.981396</td>\n",
              "      <td>0.978563</td>\n",
              "      <td>0.979847</td>\n",
              "      <td>0.984643</td>\n",
              "      <td>1.000000</td>\n",
              "      <td>0.976917</td>\n",
              "    </tr>\n",
              "    <tr>\n",
              "      <th>AlexNet 6 wide</th>\n",
              "      <td>0.984671</td>\n",
              "      <td>0.980758</td>\n",
              "      <td>0.979733</td>\n",
              "      <td>0.980670</td>\n",
              "      <td>0.980670</td>\n",
              "      <td>0.983232</td>\n",
              "      <td>0.984165</td>\n",
              "      <td>0.982342</td>\n",
              "      <td>0.981868</td>\n",
              "      <td>0.979731</td>\n",
              "      <td>0.976917</td>\n",
              "      <td>1.000000</td>\n",
              "    </tr>\n",
              "  </tbody>\n",
              "</table>\n",
              "</div>"
            ],
            "text/plain": [
              "                                   DAB Drop Aug (98.88%)  ...  AlexNet 6 wide\n",
              "DAB Drop Aug (98.88%)                           1.000000  ...        0.984671\n",
              "DAB Drop Aug full (98.2%)                       0.988160  ...        0.980758\n",
              "DAB opt SGD 2                                   0.987419  ...        0.979733\n",
              "DAB opt ADAM 1                                  0.986022  ...        0.980670\n",
              "DAB opt ADAM 2                                  0.986022  ...        0.980670\n",
              "AlexNet 7 Adam                                  0.987594  ...        0.983232\n",
              "AlexNet 7 SGD                                   0.988542  ...        0.984165\n",
              "AlexNet 7 Adam full                             0.985701  ...        0.982342\n",
              "AlexNet 7 SGD full                              0.984890  ...        0.981868\n",
              "Super Awesome Dodgie thing no pad               0.987295  ...        0.979731\n",
              "Super Awesome Dodgie thing pad                  0.984803  ...        0.976917\n",
              "AlexNet 6 wide                                  0.984671  ...        1.000000\n",
              "\n",
              "[12 rows x 12 columns]"
            ]
          },
          "metadata": {
            "tags": []
          },
          "execution_count": 34
        }
      ]
    },
    {
      "cell_type": "code",
      "metadata": {
        "id": "hV0O4ifZUd9m",
        "colab_type": "code",
        "outputId": "2e1a8a36-4c03-40b0-dae5-c1127534b76e",
        "colab": {
          "base_uri": "https://localhost:8080/",
          "height": 124
        }
      },
      "source": [
        "names = db.keys()\n",
        "names"
      ],
      "execution_count": 0,
      "outputs": [
        {
          "output_type": "execute_result",
          "data": {
            "text/plain": [
              "Index(['DAB Drop Aug (98.88%)', 'DAB Drop Aug full (98.2%)', 'DAB opt SGD 2',\n",
              "       'DAB opt ADAM 1', 'DAB opt ADAM 2', 'AlexNet 7 Adam', 'AlexNet 7 SGD',\n",
              "       'AlexNet 7 Adam full', 'AlexNet 7 SGD full',\n",
              "       'Super Awesome Dodgie thing no pad', 'Super Awesome Dodgie thing pad',\n",
              "       'AlexNet 6 wide'],\n",
              "      dtype='object')"
            ]
          },
          "metadata": {
            "tags": []
          },
          "execution_count": 36
        }
      ]
    },
    {
      "cell_type": "markdown",
      "metadata": {
        "id": "Q8d7k932o6_S",
        "colab_type": "text"
      },
      "source": [
        "### Select the Ensemble"
      ]
    },
    {
      "cell_type": "code",
      "metadata": {
        "id": "69Jq33i5UhdX",
        "colab_type": "code",
        "colab": {}
      },
      "source": [
        "ensemble_names = [\"DAB opt SGD 2\", \"DAB opt ADAM 1\", \"AlexNet 7 Adam\", \"AlexNet 7 SGD\"]"
      ],
      "execution_count": 0,
      "outputs": []
    },
    {
      "cell_type": "code",
      "metadata": {
        "id": "eHBQYRLCVShz",
        "colab_type": "code",
        "outputId": "24434669-c670-41db-fe22-6bd4e5d117e4",
        "colab": {
          "base_uri": "https://localhost:8080/",
          "height": 1930
        }
      },
      "source": [
        "ensemble = db[ensemble_names]\n",
        "ensemble"
      ],
      "execution_count": 0,
      "outputs": [
        {
          "output_type": "execute_result",
          "data": {
            "text/html": [
              "<div>\n",
              "<style scoped>\n",
              "    .dataframe tbody tr th:only-of-type {\n",
              "        vertical-align: middle;\n",
              "    }\n",
              "\n",
              "    .dataframe tbody tr th {\n",
              "        vertical-align: top;\n",
              "    }\n",
              "\n",
              "    .dataframe thead th {\n",
              "        text-align: right;\n",
              "    }\n",
              "</style>\n",
              "<table border=\"1\" class=\"dataframe\">\n",
              "  <thead>\n",
              "    <tr style=\"text-align: right;\">\n",
              "      <th></th>\n",
              "      <th>DAB opt SGD 2</th>\n",
              "      <th>DAB opt ADAM 1</th>\n",
              "      <th>AlexNet 7 Adam</th>\n",
              "      <th>AlexNet 7 SGD</th>\n",
              "    </tr>\n",
              "  </thead>\n",
              "  <tbody>\n",
              "    <tr>\n",
              "      <th>0</th>\n",
              "      <td>2</td>\n",
              "      <td>2</td>\n",
              "      <td>2</td>\n",
              "      <td>2</td>\n",
              "    </tr>\n",
              "    <tr>\n",
              "      <th>1</th>\n",
              "      <td>9</td>\n",
              "      <td>9</td>\n",
              "      <td>9</td>\n",
              "      <td>9</td>\n",
              "    </tr>\n",
              "    <tr>\n",
              "      <th>2</th>\n",
              "      <td>3</td>\n",
              "      <td>3</td>\n",
              "      <td>3</td>\n",
              "      <td>3</td>\n",
              "    </tr>\n",
              "    <tr>\n",
              "      <th>3</th>\n",
              "      <td>8</td>\n",
              "      <td>8</td>\n",
              "      <td>8</td>\n",
              "      <td>8</td>\n",
              "    </tr>\n",
              "    <tr>\n",
              "      <th>4</th>\n",
              "      <td>3</td>\n",
              "      <td>3</td>\n",
              "      <td>3</td>\n",
              "      <td>3</td>\n",
              "    </tr>\n",
              "    <tr>\n",
              "      <th>5</th>\n",
              "      <td>3</td>\n",
              "      <td>3</td>\n",
              "      <td>3</td>\n",
              "      <td>3</td>\n",
              "    </tr>\n",
              "    <tr>\n",
              "      <th>6</th>\n",
              "      <td>8</td>\n",
              "      <td>8</td>\n",
              "      <td>8</td>\n",
              "      <td>8</td>\n",
              "    </tr>\n",
              "    <tr>\n",
              "      <th>7</th>\n",
              "      <td>3</td>\n",
              "      <td>3</td>\n",
              "      <td>3</td>\n",
              "      <td>3</td>\n",
              "    </tr>\n",
              "    <tr>\n",
              "      <th>8</th>\n",
              "      <td>2</td>\n",
              "      <td>2</td>\n",
              "      <td>2</td>\n",
              "      <td>2</td>\n",
              "    </tr>\n",
              "    <tr>\n",
              "      <th>9</th>\n",
              "      <td>5</td>\n",
              "      <td>5</td>\n",
              "      <td>5</td>\n",
              "      <td>5</td>\n",
              "    </tr>\n",
              "    <tr>\n",
              "      <th>10</th>\n",
              "      <td>6</td>\n",
              "      <td>6</td>\n",
              "      <td>6</td>\n",
              "      <td>6</td>\n",
              "    </tr>\n",
              "    <tr>\n",
              "      <th>11</th>\n",
              "      <td>3</td>\n",
              "      <td>3</td>\n",
              "      <td>3</td>\n",
              "      <td>3</td>\n",
              "    </tr>\n",
              "    <tr>\n",
              "      <th>12</th>\n",
              "      <td>3</td>\n",
              "      <td>3</td>\n",
              "      <td>3</td>\n",
              "      <td>3</td>\n",
              "    </tr>\n",
              "    <tr>\n",
              "      <th>13</th>\n",
              "      <td>3</td>\n",
              "      <td>3</td>\n",
              "      <td>3</td>\n",
              "      <td>3</td>\n",
              "    </tr>\n",
              "    <tr>\n",
              "      <th>14</th>\n",
              "      <td>1</td>\n",
              "      <td>1</td>\n",
              "      <td>1</td>\n",
              "      <td>1</td>\n",
              "    </tr>\n",
              "    <tr>\n",
              "      <th>15</th>\n",
              "      <td>5</td>\n",
              "      <td>5</td>\n",
              "      <td>5</td>\n",
              "      <td>5</td>\n",
              "    </tr>\n",
              "    <tr>\n",
              "      <th>16</th>\n",
              "      <td>4</td>\n",
              "      <td>4</td>\n",
              "      <td>4</td>\n",
              "      <td>4</td>\n",
              "    </tr>\n",
              "    <tr>\n",
              "      <th>17</th>\n",
              "      <td>8</td>\n",
              "      <td>8</td>\n",
              "      <td>8</td>\n",
              "      <td>8</td>\n",
              "    </tr>\n",
              "    <tr>\n",
              "      <th>18</th>\n",
              "      <td>6</td>\n",
              "      <td>6</td>\n",
              "      <td>6</td>\n",
              "      <td>6</td>\n",
              "    </tr>\n",
              "    <tr>\n",
              "      <th>19</th>\n",
              "      <td>3</td>\n",
              "      <td>3</td>\n",
              "      <td>3</td>\n",
              "      <td>3</td>\n",
              "    </tr>\n",
              "    <tr>\n",
              "      <th>20</th>\n",
              "      <td>7</td>\n",
              "      <td>7</td>\n",
              "      <td>7</td>\n",
              "      <td>7</td>\n",
              "    </tr>\n",
              "    <tr>\n",
              "      <th>21</th>\n",
              "      <td>5</td>\n",
              "      <td>5</td>\n",
              "      <td>5</td>\n",
              "      <td>5</td>\n",
              "    </tr>\n",
              "    <tr>\n",
              "      <th>22</th>\n",
              "      <td>7</td>\n",
              "      <td>7</td>\n",
              "      <td>7</td>\n",
              "      <td>7</td>\n",
              "    </tr>\n",
              "    <tr>\n",
              "      <th>23</th>\n",
              "      <td>5</td>\n",
              "      <td>5</td>\n",
              "      <td>5</td>\n",
              "      <td>5</td>\n",
              "    </tr>\n",
              "    <tr>\n",
              "      <th>24</th>\n",
              "      <td>7</td>\n",
              "      <td>7</td>\n",
              "      <td>7</td>\n",
              "      <td>7</td>\n",
              "    </tr>\n",
              "    <tr>\n",
              "      <th>25</th>\n",
              "      <td>0</td>\n",
              "      <td>0</td>\n",
              "      <td>0</td>\n",
              "      <td>0</td>\n",
              "    </tr>\n",
              "    <tr>\n",
              "      <th>26</th>\n",
              "      <td>3</td>\n",
              "      <td>3</td>\n",
              "      <td>3</td>\n",
              "      <td>3</td>\n",
              "    </tr>\n",
              "    <tr>\n",
              "      <th>27</th>\n",
              "      <td>5</td>\n",
              "      <td>5</td>\n",
              "      <td>5</td>\n",
              "      <td>5</td>\n",
              "    </tr>\n",
              "    <tr>\n",
              "      <th>28</th>\n",
              "      <td>4</td>\n",
              "      <td>4</td>\n",
              "      <td>4</td>\n",
              "      <td>4</td>\n",
              "    </tr>\n",
              "    <tr>\n",
              "      <th>29</th>\n",
              "      <td>4</td>\n",
              "      <td>4</td>\n",
              "      <td>4</td>\n",
              "      <td>4</td>\n",
              "    </tr>\n",
              "    <tr>\n",
              "      <th>...</th>\n",
              "      <td>...</td>\n",
              "      <td>...</td>\n",
              "      <td>...</td>\n",
              "      <td>...</td>\n",
              "    </tr>\n",
              "    <tr>\n",
              "      <th>9970</th>\n",
              "      <td>7</td>\n",
              "      <td>7</td>\n",
              "      <td>7</td>\n",
              "      <td>7</td>\n",
              "    </tr>\n",
              "    <tr>\n",
              "      <th>9971</th>\n",
              "      <td>7</td>\n",
              "      <td>7</td>\n",
              "      <td>7</td>\n",
              "      <td>7</td>\n",
              "    </tr>\n",
              "    <tr>\n",
              "      <th>9972</th>\n",
              "      <td>5</td>\n",
              "      <td>5</td>\n",
              "      <td>5</td>\n",
              "      <td>5</td>\n",
              "    </tr>\n",
              "    <tr>\n",
              "      <th>9973</th>\n",
              "      <td>6</td>\n",
              "      <td>6</td>\n",
              "      <td>6</td>\n",
              "      <td>6</td>\n",
              "    </tr>\n",
              "    <tr>\n",
              "      <th>9974</th>\n",
              "      <td>4</td>\n",
              "      <td>4</td>\n",
              "      <td>4</td>\n",
              "      <td>4</td>\n",
              "    </tr>\n",
              "    <tr>\n",
              "      <th>9975</th>\n",
              "      <td>7</td>\n",
              "      <td>7</td>\n",
              "      <td>7</td>\n",
              "      <td>7</td>\n",
              "    </tr>\n",
              "    <tr>\n",
              "      <th>9976</th>\n",
              "      <td>3</td>\n",
              "      <td>3</td>\n",
              "      <td>3</td>\n",
              "      <td>3</td>\n",
              "    </tr>\n",
              "    <tr>\n",
              "      <th>9977</th>\n",
              "      <td>9</td>\n",
              "      <td>9</td>\n",
              "      <td>9</td>\n",
              "      <td>9</td>\n",
              "    </tr>\n",
              "    <tr>\n",
              "      <th>9978</th>\n",
              "      <td>5</td>\n",
              "      <td>5</td>\n",
              "      <td>5</td>\n",
              "      <td>5</td>\n",
              "    </tr>\n",
              "    <tr>\n",
              "      <th>9979</th>\n",
              "      <td>1</td>\n",
              "      <td>1</td>\n",
              "      <td>1</td>\n",
              "      <td>1</td>\n",
              "    </tr>\n",
              "    <tr>\n",
              "      <th>9980</th>\n",
              "      <td>5</td>\n",
              "      <td>5</td>\n",
              "      <td>5</td>\n",
              "      <td>5</td>\n",
              "    </tr>\n",
              "    <tr>\n",
              "      <th>9981</th>\n",
              "      <td>3</td>\n",
              "      <td>3</td>\n",
              "      <td>3</td>\n",
              "      <td>3</td>\n",
              "    </tr>\n",
              "    <tr>\n",
              "      <th>9982</th>\n",
              "      <td>1</td>\n",
              "      <td>1</td>\n",
              "      <td>1</td>\n",
              "      <td>1</td>\n",
              "    </tr>\n",
              "    <tr>\n",
              "      <th>9983</th>\n",
              "      <td>3</td>\n",
              "      <td>3</td>\n",
              "      <td>3</td>\n",
              "      <td>3</td>\n",
              "    </tr>\n",
              "    <tr>\n",
              "      <th>9984</th>\n",
              "      <td>0</td>\n",
              "      <td>0</td>\n",
              "      <td>0</td>\n",
              "      <td>0</td>\n",
              "    </tr>\n",
              "    <tr>\n",
              "      <th>9985</th>\n",
              "      <td>1</td>\n",
              "      <td>1</td>\n",
              "      <td>1</td>\n",
              "      <td>1</td>\n",
              "    </tr>\n",
              "    <tr>\n",
              "      <th>9986</th>\n",
              "      <td>5</td>\n",
              "      <td>5</td>\n",
              "      <td>5</td>\n",
              "      <td>5</td>\n",
              "    </tr>\n",
              "    <tr>\n",
              "      <th>9987</th>\n",
              "      <td>7</td>\n",
              "      <td>7</td>\n",
              "      <td>7</td>\n",
              "      <td>7</td>\n",
              "    </tr>\n",
              "    <tr>\n",
              "      <th>9988</th>\n",
              "      <td>3</td>\n",
              "      <td>3</td>\n",
              "      <td>3</td>\n",
              "      <td>3</td>\n",
              "    </tr>\n",
              "    <tr>\n",
              "      <th>9989</th>\n",
              "      <td>9</td>\n",
              "      <td>9</td>\n",
              "      <td>9</td>\n",
              "      <td>9</td>\n",
              "    </tr>\n",
              "    <tr>\n",
              "      <th>9990</th>\n",
              "      <td>2</td>\n",
              "      <td>2</td>\n",
              "      <td>2</td>\n",
              "      <td>2</td>\n",
              "    </tr>\n",
              "    <tr>\n",
              "      <th>9991</th>\n",
              "      <td>4</td>\n",
              "      <td>4</td>\n",
              "      <td>4</td>\n",
              "      <td>4</td>\n",
              "    </tr>\n",
              "    <tr>\n",
              "      <th>9992</th>\n",
              "      <td>7</td>\n",
              "      <td>7</td>\n",
              "      <td>7</td>\n",
              "      <td>7</td>\n",
              "    </tr>\n",
              "    <tr>\n",
              "      <th>9993</th>\n",
              "      <td>6</td>\n",
              "      <td>6</td>\n",
              "      <td>6</td>\n",
              "      <td>6</td>\n",
              "    </tr>\n",
              "    <tr>\n",
              "      <th>9994</th>\n",
              "      <td>0</td>\n",
              "      <td>0</td>\n",
              "      <td>0</td>\n",
              "      <td>0</td>\n",
              "    </tr>\n",
              "    <tr>\n",
              "      <th>9995</th>\n",
              "      <td>4</td>\n",
              "      <td>4</td>\n",
              "      <td>4</td>\n",
              "      <td>4</td>\n",
              "    </tr>\n",
              "    <tr>\n",
              "      <th>9996</th>\n",
              "      <td>0</td>\n",
              "      <td>0</td>\n",
              "      <td>0</td>\n",
              "      <td>0</td>\n",
              "    </tr>\n",
              "    <tr>\n",
              "      <th>9997</th>\n",
              "      <td>9</td>\n",
              "      <td>9</td>\n",
              "      <td>9</td>\n",
              "      <td>9</td>\n",
              "    </tr>\n",
              "    <tr>\n",
              "      <th>9998</th>\n",
              "      <td>4</td>\n",
              "      <td>4</td>\n",
              "      <td>4</td>\n",
              "      <td>4</td>\n",
              "    </tr>\n",
              "    <tr>\n",
              "      <th>9999</th>\n",
              "      <td>2</td>\n",
              "      <td>2</td>\n",
              "      <td>2</td>\n",
              "      <td>2</td>\n",
              "    </tr>\n",
              "  </tbody>\n",
              "</table>\n",
              "<p>10000 rows × 4 columns</p>\n",
              "</div>"
            ],
            "text/plain": [
              "      DAB opt SGD 2  DAB opt ADAM 1  AlexNet 7 Adam  AlexNet 7 SGD\n",
              "0                 2               2               2              2\n",
              "1                 9               9               9              9\n",
              "2                 3               3               3              3\n",
              "3                 8               8               8              8\n",
              "4                 3               3               3              3\n",
              "5                 3               3               3              3\n",
              "6                 8               8               8              8\n",
              "7                 3               3               3              3\n",
              "8                 2               2               2              2\n",
              "9                 5               5               5              5\n",
              "10                6               6               6              6\n",
              "11                3               3               3              3\n",
              "12                3               3               3              3\n",
              "13                3               3               3              3\n",
              "14                1               1               1              1\n",
              "15                5               5               5              5\n",
              "16                4               4               4              4\n",
              "17                8               8               8              8\n",
              "18                6               6               6              6\n",
              "19                3               3               3              3\n",
              "20                7               7               7              7\n",
              "21                5               5               5              5\n",
              "22                7               7               7              7\n",
              "23                5               5               5              5\n",
              "24                7               7               7              7\n",
              "25                0               0               0              0\n",
              "26                3               3               3              3\n",
              "27                5               5               5              5\n",
              "28                4               4               4              4\n",
              "29                4               4               4              4\n",
              "...             ...             ...             ...            ...\n",
              "9970              7               7               7              7\n",
              "9971              7               7               7              7\n",
              "9972              5               5               5              5\n",
              "9973              6               6               6              6\n",
              "9974              4               4               4              4\n",
              "9975              7               7               7              7\n",
              "9976              3               3               3              3\n",
              "9977              9               9               9              9\n",
              "9978              5               5               5              5\n",
              "9979              1               1               1              1\n",
              "9980              5               5               5              5\n",
              "9981              3               3               3              3\n",
              "9982              1               1               1              1\n",
              "9983              3               3               3              3\n",
              "9984              0               0               0              0\n",
              "9985              1               1               1              1\n",
              "9986              5               5               5              5\n",
              "9987              7               7               7              7\n",
              "9988              3               3               3              3\n",
              "9989              9               9               9              9\n",
              "9990              2               2               2              2\n",
              "9991              4               4               4              4\n",
              "9992              7               7               7              7\n",
              "9993              6               6               6              6\n",
              "9994              0               0               0              0\n",
              "9995              4               4               4              4\n",
              "9996              0               0               0              0\n",
              "9997              9               9               9              9\n",
              "9998              4               4               4              4\n",
              "9999              2               2               2              2\n",
              "\n",
              "[10000 rows x 4 columns]"
            ]
          },
          "metadata": {
            "tags": []
          },
          "execution_count": 39
        }
      ]
    },
    {
      "cell_type": "markdown",
      "metadata": {
        "id": "MqrR7zS7pDjw",
        "colab_type": "text"
      },
      "source": [
        "Combine there predictions with a voting algorithm"
      ]
    },
    {
      "cell_type": "code",
      "metadata": {
        "id": "-e8RpTQSVZ01",
        "colab_type": "code",
        "outputId": "cb195487-62c2-495e-fe11-7fe7e26d5746",
        "colab": {
          "base_uri": "https://localhost:8080/",
          "height": 55
        }
      },
      "source": [
        "output = []\n",
        "\n",
        "for index, row in ensemble.iterrows():\n",
        "\n",
        "    # find the unique entries of each row and their duplicates\n",
        "    uniq, cnt = np.unique(row.values, return_counts=True)\n",
        "    \n",
        "    # if there is only one choose it\n",
        "    if len(uniq) == 1:\n",
        "        output.append(*uniq)\n",
        "    \n",
        "    # if there are two it is a split and pick one at random\n",
        "    elif cnt[0]==2:\n",
        "        output.append(np.random.choice(uniq))\n",
        "        \n",
        "    # else pick the one with the most agreement\n",
        "    else:\n",
        "        output.append(uniq[np.argmax(cnt)])\n",
        "        \n",
        "    # there is no case of all 4 models disagreeing\n",
        "    \n",
        "print(output)"
      ],
      "execution_count": 0,
      "outputs": [
        {
          "output_type": "stream",
          "text": [
            "[2, 9, 3, 8, 3, 3, 8, 3, 2, 5, 6, 3, 3, 3, 1, 5, 4, 8, 6, 3, 7, 5, 7, 5, 7, 0, 3, 5, 4, 4, 6, 8, 5, 9, 5, 6, 6, 3, 0, 6, 4, 7, 8, 1, 1, 6, 9, 0, 5, 0, 1, 1, 4, 8, 4, 1, 3, 3, 3, 4, 6, 4, 8, 3, 6, 5, 3, 4, 6, 1, 5, 9, 9, 7, 3, 2, 3, 7, 6, 3, 4, 1, 1, 5, 9, 6, 5, 1, 0, 1, 2, 7, 1, 6, 7, 3, 6, 5, 9, 2, 0, 8, 8, 2, 3, 5, 9, 1, 0, 8, 5, 2, 0, 0, 5, 5, 2, 9, 0, 9, 3, 6, 9, 5, 6, 2, 0, 7, 6, 2, 9, 0, 4, 1, 3, 4, 6, 9, 9, 5, 8, 4, 5, 9, 6, 8, 2, 4, 7, 3, 5, 1, 8, 5, 8, 6, 3, 2, 7, 6, 2, 5, 6, 7, 5, 2, 8, 0, 6, 6, 4, 1, 9, 5, 8, 6, 5, 6, 8, 7, 4, 4, 0, 6, 5, 7, 2, 6, 2, 1, 8, 9, 0, 7, 4, 3, 0, 4, 6, 3, 1, 3, 5, 0, 8, 8, 5, 8, 2, 2, 3, 2, 7, 5, 7, 5, 4, 5, 4, 7, 2, 3, 7, 5, 8, 9, 0, 7, 5, 0, 1, 6, 6, 3, 0, 9, 8, 4, 9, 0, 2, 0, 3, 0, 0, 6, 8, 3, 7, 9, 4, 4, 0, 5, 5, 9, 6, 4, 0, 4, 2, 7, 3, 2, 6, 7, 0, 9, 1, 5, 4, 5, 5, 9, 8, 7, 9, 0, 3, 3, 6, 1, 6, 8, 7, 7, 9, 2, 6, 5, 2, 7, 5, 7, 3, 8, 0, 8, 3, 0, 3, 2, 8, 7, 9, 2, 0, 2, 1, 0, 0, 7, 8, 7, 9, 4, 2, 2, 9, 8, 6, 6, 8, 4, 9, 7, 4, 3, 5, 2, 2, 8, 2, 2, 2, 1, 4, 9, 3, 7, 8, 3, 1, 9, 1, 2, 2, 1, 8, 8, 1, 5, 3, 3, 7, 1, 4, 5, 7, 8, 6, 9, 3, 6, 4, 2, 0, 3, 3, 8, 1, 7, 4, 4, 8, 5, 2, 4, 5, 2, 7, 6, 9, 6, 6, 5, 2, 0, 4, 4, 8, 1, 3, 3, 7, 7, 7, 7, 5, 3, 4, 6, 8, 9, 5, 6, 9, 1, 5, 9, 1, 5, 6, 0, 2, 8, 9, 1, 2, 0, 5, 5, 5, 5, 4, 6, 6, 7, 9, 0, 2, 4, 2, 8, 3, 8, 3, 8, 1, 2, 3, 3, 7, 8, 8, 6, 3, 6, 8, 3, 8, 7, 7, 1, 5, 0, 0, 3, 8, 1, 6, 2, 3, 3, 0, 1, 3, 1, 0, 1, 7, 3, 6, 0, 5, 8, 9, 4, 8, 3, 2, 4, 9, 6, 6, 1, 8, 2, 6, 0, 5, 1, 2, 0, 0, 0, 1, 2, 2, 9, 8, 1, 2, 8, 5, 4, 3, 3, 6, 5, 4, 4, 2, 0, 2, 0, 9, 1, 7, 9, 8, 6, 6, 4, 5, 8, 6, 7, 2, 5, 3, 4, 9, 6, 6, 2, 3, 8, 7, 5, 2, 7, 2, 9, 2, 0, 4, 7, 2, 2, 9, 9, 4, 1, 7, 4, 2, 5, 0, 4, 4, 2, 1, 7, 8, 5, 2, 2, 2, 0, 1, 8, 7, 1, 3, 0, 8, 7, 1, 9, 1, 4, 0, 5, 7, 2, 6, 5, 7, 4, 0, 6, 1, 2, 5, 7, 2, 4, 8, 4, 7, 2, 2, 3, 0, 0, 3, 6, 2, 3, 2, 1, 2, 3, 3, 5, 6, 8, 8, 3, 4, 3, 8, 9, 3, 4, 1, 7, 0, 9, 5, 8, 8, 5, 1, 6, 6, 1, 0, 7, 0, 5, 7, 6, 8, 1, 0, 0, 5, 4, 5, 9, 6, 0, 7, 2, 1, 2, 6, 7, 3, 1, 5, 1, 9, 2, 0, 8, 5, 4, 5, 6, 2, 2, 5, 5, 0, 3, 0, 3, 2, 5, 7, 7, 5, 3, 7, 4, 0, 2, 0, 8, 2, 5, 3, 9, 7, 6, 1, 9, 3, 9, 0, 1, 4, 1, 6, 9, 7, 1, 1, 0, 9, 7, 5, 8, 1, 3, 6, 0, 8, 6, 0, 6, 2, 9, 4, 4, 8, 8, 9, 6, 1, 2, 6, 6, 4, 1, 1, 6, 7, 1, 9, 1, 6, 9, 5, 7, 4, 6, 6, 3, 0, 9, 9, 7, 0, 9, 0, 4, 5, 6, 0, 0, 1, 0, 9, 7, 5, 2, 7, 0, 3, 4, 5, 1, 1, 4, 2, 6, 9, 0, 5, 8, 5, 6, 6, 7, 4, 0, 2, 8, 9, 6, 5, 7, 3, 7, 1, 0, 5, 7, 2, 3, 9, 5, 9, 9, 1, 0, 3, 8, 0, 3, 3, 2, 3, 9, 0, 4, 5, 9, 2, 1, 4, 7, 4, 9, 5, 5, 0, 1, 8, 0, 0, 0, 0, 7, 1, 3, 6, 6, 0, 4, 2, 9, 7, 7, 6, 8, 4, 8, 1, 1, 9, 0, 2, 3, 7, 9, 1, 5, 8, 4, 2, 1, 1, 2, 5, 6, 4, 5, 4, 8, 8, 1, 8, 6, 9, 9, 3, 5, 3, 7, 7, 5, 8, 0, 8, 1, 1, 5, 8, 3, 2, 8, 9, 3, 5, 5, 1, 0, 4, 6, 7, 9, 3, 0, 0, 3, 7, 1, 1, 8, 4, 8, 0, 4, 9, 0, 5, 6, 7, 4, 2, 4, 0, 2, 0, 1, 0, 2, 6, 5, 4, 1, 3, 5, 3, 8, 9, 2, 5, 0, 7, 4, 7, 4, 8, 3, 0, 1, 3, 4, 0, 2, 9, 3, 8, 5, 4, 7, 1, 7, 9, 4, 6, 3, 3, 6, 0, 3, 2, 6, 1, 9, 7, 4, 8, 2, 2, 5, 2, 7, 0, 5, 5, 1, 7, 8, 7, 4, 1, 1, 8, 7, 9, 3, 4, 1, 6, 6, 2, 8, 2, 2, 4, 7, 7, 4, 7, 5, 5, 1, 9, 9, 7, 7, 8, 6, 9, 8, 0, 1, 5, 8, 6, 2, 2, 8, 0, 8, 6, 2, 6, 3, 4, 8, 3, 2, 3, 9, 3, 4, 4, 6, 4, 1, 6, 7, 5, 1, 8, 4, 2, 6, 8, 1, 9, 0, 0, 7, 8, 0, 3, 5, 0, 3, 6, 9, 0, 5, 6, 4, 0, 1, 1, 2, 5, 5, 4, 7, 1, 4, 5, 3, 1, 1, 5, 7, 4, 5, 5, 1, 7, 8, 1, 5, 0, 5, 6, 5, 3, 1, 1, 0, 6, 2, 9, 5, 0, 4, 0, 1, 4, 3, 6, 1, 7, 7, 0, 6, 3, 2, 0, 2, 3, 4, 6, 2, 9, 7, 7, 3, 6, 1, 4, 3, 7, 0, 7, 5, 4, 9, 5, 2, 7, 3, 3, 3, 5, 7, 2, 2, 1, 2, 7, 5, 4, 2, 2, 7, 3, 8, 4, 3, 7, 8, 0, 7, 9, 1, 5, 5, 7, 3, 5, 9, 0, 8, 3, 3, 5, 9, 3, 1, 3, 6, 8, 3, 6, 6, 9, 7, 3, 0, 8, 4, 1, 6, 1, 5, 4, 7, 6, 0, 0, 6, 3, 8, 9, 1, 9, 1, 5, 4, 7, 3, 9, 1, 4, 0, 3, 6, 9, 4, 1, 8, 8, 4, 8, 5, 1, 1, 8, 4, 6, 1, 1, 9, 3, 6, 3, 8, 5, 6, 7, 8, 1, 5, 4, 5, 7, 4, 0, 2, 7, 8, 9, 7, 5, 1, 9, 6, 1, 3, 5, 5, 6, 3, 6, 8, 4, 9, 8, 7, 1, 9, 6, 8, 4, 5, 6, 7, 4, 4, 9, 9, 0, 7, 6, 4, 1, 6, 5, 1, 6, 7, 3, 2, 2, 0, 9, 0, 6, 9, 4, 8, 7, 6, 6, 6, 3, 2, 1, 2, 8, 7, 5, 2, 5, 8, 5, 8, 6, 2, 1, 0, 5, 1, 0, 1, 1, 3, 6, 0, 1, 4, 7, 2, 0, 8, 6, 1, 9, 9, 0, 5, 4, 6, 8, 4, 7, 1, 9, 5, 3, 4, 1, 9, 8, 1, 1, 6, 0, 3, 8, 5, 0, 4, 5, 7, 0, 9, 5, 6, 6, 1, 0, 2, 9, 8, 8, 9, 2, 2, 2, 8, 8, 4, 7, 5, 1, 9, 6, 8, 7, 5, 3, 3, 6, 6, 6, 1, 7, 7, 6, 4, 7, 1, 5, 5, 6, 0, 4, 1, 4, 7, 3, 1, 2, 6, 2, 7, 3, 3, 3, 2, 1, 8, 4, 7, 4, 6, 2, 9, 1, 1, 1, 1, 5, 1, 7, 5, 9, 4, 3, 3, 8, 0, 8, 7, 2, 9, 6, 1, 7, 3, 0, 3, 8, 4, 4, 3, 8, 8, 8, 3, 0, 1, 4, 1, 0, 8, 8, 0, 9, 3, 9, 5, 6, 0, 6, 7, 2, 7, 5, 1, 4, 9, 6, 6, 3, 3, 4, 1, 4, 9, 2, 7, 6, 7, 8, 7, 0, 4, 8, 8, 9, 5, 6, 4, 3, 7, 2, 5, 4, 6, 5, 6, 1, 3, 5, 6, 2, 1, 2, 0, 8, 5, 7, 2, 8, 6, 2, 5, 0, 3, 0, 2, 6, 6, 8, 1, 3, 9, 2, 1, 3, 7, 8, 2, 0, 0, 4, 3, 7, 1, 3, 4, 4, 9, 9, 4, 6, 1, 2, 5, 8, 8, 4, 2, 9, 6, 5, 9, 7, 6, 2, 0, 6, 9, 9, 2, 4, 3, 7, 7, 9, 3, 2, 3, 8, 4, 5, 0, 7, 7, 7, 0, 2, 3, 5, 1, 2, 7, 9, 7, 4, 1, 2, 1, 6, 8, 5, 3, 6, 5, 7, 9, 6, 3, 1, 6, 7, 3, 3, 4, 0, 5, 1, 5, 1, 1, 2, 4, 6, 2, 0, 0, 2, 1, 1, 0, 4, 9, 8, 7, 9, 4, 7, 3, 8, 0, 2, 3, 1, 4, 1, 3, 5, 0, 5, 8, 1, 4, 1, 2, 4, 2, 7, 3, 0, 3, 2, 9, 6, 7, 9, 6, 7, 6, 0, 6, 7, 7, 2, 5, 6, 7, 1, 4, 3, 1, 1, 9, 5, 4, 5, 1, 2, 4, 1, 7, 0, 8, 3, 3, 1, 4, 6, 3, 5, 3, 1, 9, 4, 3, 6, 2, 8, 7, 6, 1, 5, 3, 8, 8, 8, 9, 0, 9, 7, 2, 5, 0, 8, 4, 3, 6, 3, 3, 9, 1, 3, 7, 4, 3, 7, 8, 1, 3, 9, 3, 7, 0, 2, 2, 3, 8, 2, 3, 8, 0, 8, 7, 5, 0, 4, 8, 6, 7, 2, 1, 1, 9, 8, 7, 2, 9, 9, 2, 0, 2, 0, 2, 3, 4, 7, 6, 1, 0, 1, 4, 1, 4, 2, 2, 6, 8, 4, 8, 0, 9, 8, 9, 2, 2, 2, 8, 9, 3, 5, 9, 7, 1, 4, 6, 3, 7, 4, 1, 9, 4, 8, 6, 4, 2, 1, 1, 0, 6, 8, 7, 6, 3, 4, 7, 2, 5, 8, 2, 0, 6, 8, 1, 7, 9, 7, 9, 4, 6, 8, 8, 2, 5, 6, 5, 9, 3, 7, 0, 8, 4, 3, 9, 0, 9, 4, 2, 0, 6, 4, 8, 6, 1, 3, 0, 3, 7, 3, 2, 5, 2, 6, 4, 4, 5, 0, 2, 5, 1, 2, 4, 2, 0, 3, 3, 6, 6, 3, 8, 2, 0, 8, 3, 4, 1, 6, 8, 7, 2, 3, 8, 8, 0, 0, 4, 6, 0, 0, 7, 3, 0, 9, 7, 9, 5, 6, 4, 1, 8, 9, 8, 7, 0, 4, 3, 2, 5, 3, 7, 3, 6, 4, 6, 8, 0, 7, 2, 8, 9, 5, 7, 4, 7, 7, 3, 1, 8, 5, 7, 1, 1, 0, 8, 6, 4, 6, 2, 9, 4, 5, 9, 8, 6, 0, 5, 2, 9, 5, 1, 4, 3, 3, 1, 3, 7, 4, 0, 2, 8, 1, 0, 1, 0, 8, 7, 9, 8, 1, 2, 3, 1, 1, 0, 4, 1, 6, 6, 1, 6, 2, 9, 9, 2, 4, 8, 2, 1, 6, 8, 6, 3, 1, 8, 2, 4, 6, 4, 8, 3, 4, 8, 6, 2, 5, 5, 7, 6, 0, 2, 6, 2, 0, 2, 3, 6, 8, 5, 5, 4, 9, 2, 1, 8, 5, 7, 6, 2, 2, 6, 6, 8, 9, 8, 6, 3, 0, 6, 9, 7, 0, 0, 8, 0, 3, 6, 4, 2, 0, 1, 9, 2, 7, 6, 4, 7, 5, 3, 0, 9, 9, 8, 0, 3, 7, 6, 4, 6, 8, 2, 9, 1, 7, 8, 0, 8, 8, 2, 0, 5, 2, 3, 1, 4, 1, 5, 4, 8, 1, 5, 6, 6, 3, 9, 4, 0, 6, 2, 5, 7, 9, 8, 4, 2, 0, 1, 9, 9, 9, 1, 5, 5, 8, 5, 8, 8, 3, 8, 0, 1, 7, 7, 0, 1, 6, 4, 0, 9, 2, 3, 8, 7, 7, 9, 9, 1, 8, 2, 3, 9, 4, 9, 6, 8, 4, 4, 2, 4, 6, 4, 2, 5, 0, 5, 9, 0, 0, 7, 7, 2, 4, 3, 8, 5, 3, 0, 7, 1, 6, 8, 0, 6, 5, 1, 3, 4, 4, 9, 4, 0, 5, 4, 1, 0, 5, 7, 3, 8, 3, 9, 7, 3, 4, 7, 9, 6, 1, 5, 7, 8, 1, 1, 9, 2, 7, 7, 6, 8, 9, 1, 0, 4, 5, 1, 8, 9, 9, 0, 1, 3, 5, 6, 0, 8, 6, 2, 9, 4, 9, 9, 3, 3, 7, 9, 7, 9, 4, 3, 5, 7, 1, 0, 1, 5, 9, 4, 3, 4, 6, 1, 9, 1, 8, 6, 4, 4, 6, 7, 8, 9, 2, 2, 3, 5, 7, 7, 3, 2, 9, 5, 4, 3, 9, 4, 8, 9, 8, 6, 0, 4, 0, 2, 5, 9, 7, 6, 4, 8, 8, 3, 0, 8, 0, 7, 2, 1, 3, 6, 6, 6, 0, 6, 0, 4, 0, 9, 1, 4, 9, 6, 0, 3, 8, 0, 6, 4, 2, 2, 2, 6, 5, 1, 8, 6, 6, 4, 4, 3, 0, 0, 8, 9, 0, 4, 2, 3, 3, 2, 3, 7, 4, 0, 5, 9, 2, 6, 9, 6, 3, 8, 1, 4, 4, 6, 8, 5, 6, 1, 1, 1, 0, 8, 0, 6, 7, 3, 5, 6, 0, 3, 3, 5, 3, 1, 3, 9, 8, 5, 7, 6, 1, 4, 4, 7, 1, 7, 4, 9, 4, 1, 1, 1, 9, 5, 9, 0, 4, 1, 2, 2, 9, 0, 4, 7, 1, 6, 5, 6, 0, 3, 8, 1, 3, 3, 7, 9, 6, 2, 0, 6, 4, 2, 3, 8, 3, 6, 8, 7, 7, 3, 3, 0, 6, 2, 9, 7, 5, 7, 2, 4, 3, 3, 6, 3, 3, 9, 1, 1, 8, 8, 3, 8, 3, 7, 3, 0, 5, 6, 4, 1, 7, 4, 1, 0, 3, 7, 9, 6, 1, 3, 0, 8, 6, 6, 9, 0, 9, 4, 7, 9, 1, 4, 4, 9, 5, 1, 2, 1, 4, 8, 6, 3, 4, 7, 1, 4, 7, 4, 8, 7, 3, 4, 9, 1, 5, 5, 9, 2, 7, 2, 4, 4, 6, 5, 6, 4, 1, 0, 1, 6, 6, 0, 2, 8, 0, 8, 2, 8, 6, 4, 8, 3, 7, 2, 6, 6, 1, 2, 0, 5, 0, 9, 5, 2, 2, 6, 5, 8, 2, 2, 5, 8, 2, 2, 5, 8, 0, 2, 5, 8, 4, 6, 7, 2, 0, 7, 2, 1, 4, 8, 0, 8, 8, 0, 0, 7, 0, 0, 0, 4, 7, 4, 6, 0, 0, 7, 0, 0, 1, 5, 3, 8, 5, 6, 6, 6, 1, 8, 1, 5, 1, 8, 4, 0, 4, 4, 7, 8, 0, 8, 9, 7, 4, 7, 7, 7, 1, 6, 7, 3, 3, 6, 1, 4, 1, 5, 4, 5, 5, 1, 4, 9, 9, 6, 6, 3, 3, 2, 1, 2, 7, 2, 8, 9, 9, 0, 1, 6, 4, 0, 8, 9, 4, 7, 7, 1, 6, 6, 7, 6, 7, 8, 4, 2, 0, 8, 2, 0, 6, 1, 3, 2, 7, 6, 3, 7, 3, 3, 0, 8, 0, 7, 4, 6, 0, 7, 6, 7, 6, 9, 1, 3, 9, 6, 0, 7, 0, 1, 0, 4, 9, 5, 6, 6, 9, 1, 6, 2, 0, 1, 5, 1, 3, 4, 4, 2, 1, 9, 4, 3, 6, 5, 3, 1, 1, 3, 3, 9, 0, 8, 0, 8, 0, 8, 7, 4, 2, 6, 0, 2, 7, 9, 8, 3, 5, 7, 2, 3, 5, 9, 0, 1, 2, 4, 1, 7, 1, 7, 9, 0, 8, 3, 2, 7, 8, 6, 4, 1, 8, 0, 9, 9, 8, 2, 1, 5, 1, 1, 4, 0, 9, 0, 9, 9, 3, 7, 7, 7, 0, 6, 6, 6, 9, 2, 6, 3, 0, 1, 7, 3, 9, 0, 4, 1, 2, 9, 0, 1, 3, 0, 5, 8, 1, 3, 1, 6, 8, 1, 7, 5, 3, 9, 3, 6, 5, 8, 3, 4, 5, 5, 4, 8, 6, 6, 5, 9, 0, 9, 0, 5, 2, 2, 5, 7, 1, 8, 1, 0, 7, 6, 4, 8, 1, 8, 5, 7, 0, 6, 5, 1, 2, 7, 2, 2, 0, 4, 8, 3, 2, 8, 1, 3, 4, 9, 3, 3, 0, 5, 4, 9, 7, 8, 6, 6, 7, 3, 5, 8, 8, 1, 4, 7, 4, 9, 4, 8, 3, 7, 7, 1, 0, 5, 9, 4, 9, 1, 8, 5, 0, 0, 2, 3, 8, 0, 8, 2, 4, 8, 0, 8, 7, 7, 4, 6, 3, 6, 4, 3, 4, 9, 0, 2, 7, 4, 9, 4, 7, 1, 9, 7, 5, 1, 2, 9, 1, 0, 6, 4, 3, 1, 2, 7, 5, 7, 3, 9, 4, 6, 7, 4, 4, 0, 4, 1, 6, 6, 7, 6, 7, 4, 9, 0, 1, 6, 2, 9, 0, 9, 0, 3, 9, 8, 2, 0, 8, 0, 2, 4, 9, 7, 7, 6, 9, 0, 4, 4, 8, 5, 6, 0, 0, 2, 2, 2, 0, 0, 2, 8, 1, 3, 1, 2, 0, 6, 4, 5, 8, 5, 0, 9, 8, 5, 1, 7, 1, 2, 5, 7, 3, 8, 1, 2, 0, 7, 9, 5, 7, 2, 9, 0, 3, 8, 1, 7, 2, 2, 2, 8, 2, 0, 4, 0, 1, 1, 1, 4, 1, 1, 1, 7, 0, 1, 3, 7, 3, 8, 9, 7, 3, 8, 3, 0, 8, 5, 4, 6, 3, 8, 6, 1, 1, 8, 2, 2, 1, 0, 0, 2, 7, 6, 3, 4, 2, 2, 3, 5, 2, 9, 3, 0, 7, 8, 1, 8, 1, 6, 1, 3, 4, 0, 9, 2, 4, 5, 7, 7, 3, 8, 3, 7, 6, 8, 3, 9, 0, 4, 1, 0, 6, 5, 4, 0, 4, 8, 6, 7, 6, 1, 6, 7, 5, 0, 6, 5, 4, 3, 2, 4, 8, 2, 2, 7, 1, 0, 5, 8, 8, 5, 9, 7, 5, 3, 5, 8, 5, 5, 9, 6, 5, 1, 9, 0, 6, 1, 1, 3, 8, 7, 2, 1, 2, 0, 8, 7, 5, 2, 2, 1, 2, 7, 8, 3, 5, 7, 0, 7, 1, 8, 9, 9, 6, 1, 6, 6, 8, 5, 4, 0, 5, 7, 7, 1, 6, 8, 1, 6, 9, 7, 8, 6, 8, 8, 3, 5, 9, 4, 7, 7, 3, 0, 5, 3, 4, 2, 0, 5, 5, 2, 3, 8, 3, 1, 1, 1, 9, 5, 3, 8, 1, 2, 1, 1, 1, 9, 9, 1, 7, 5, 3, 5, 3, 6, 8, 1, 1, 8, 0, 9, 1, 8, 1, 0, 2, 8, 7, 0, 3, 2, 3, 0, 9, 0, 2, 9, 7, 9, 8, 4, 4, 1, 4, 8, 9, 0, 6, 4, 5, 5, 8, 9, 2, 0, 2, 0, 9, 0, 6, 2, 6, 8, 6, 0, 4, 2, 2, 5, 2, 9, 4, 2, 6, 4, 9, 0, 0, 9, 5, 6, 4, 1, 8, 8, 0, 4, 8, 1, 4, 3, 2, 1, 9, 4, 1, 3, 6, 1, 7, 9, 9, 1, 5, 6, 3, 6, 1, 9, 6, 9, 6, 3, 0, 6, 4, 1, 9, 9, 7, 7, 4, 6, 6, 4, 7, 4, 4, 3, 1, 1, 1, 6, 7, 8, 1, 5, 6, 0, 4, 1, 2, 0, 9, 6, 4, 3, 4, 7, 3, 3, 6, 1, 7, 9, 6, 1, 3, 8, 5, 1, 2, 9, 7, 9, 5, 9, 9, 2, 9, 9, 2, 8, 6, 7, 0, 5, 6, 5, 2, 0, 3, 5, 6, 8, 7, 9, 3, 8, 1, 6, 4, 9, 9, 0, 9, 6, 8, 1, 8, 9, 2, 5, 8, 3, 7, 4, 2, 5, 7, 7, 8, 2, 6, 4, 2, 2, 5, 7, 3, 3, 2, 3, 4, 8, 5, 6, 7, 9, 9, 0, 8, 5, 0, 8, 4, 6, 3, 5, 3, 2, 0, 3, 9, 7, 3, 1, 8, 5, 9, 6, 6, 5, 2, 3, 1, 4, 9, 4, 8, 6, 2, 0, 3, 5, 9, 2, 8, 9, 3, 2, 6, 8, 7, 7, 5, 5, 6, 7, 9, 9, 7, 7, 6, 6, 9, 7, 3, 3, 0, 4, 5, 8, 4, 7, 5, 7, 8, 5, 1, 9, 8, 6, 4, 2, 6, 0, 6, 5, 1, 5, 4, 0, 4, 4, 9, 1, 5, 1, 3, 2, 0, 1, 6, 8, 0, 4, 7, 6, 3, 0, 8, 7, 5, 7, 7, 1, 4, 1, 2, 0, 0, 0, 8, 4, 5, 2, 0, 2, 1, 5, 1, 5, 0, 6, 2, 4, 5, 6, 2, 6, 5, 4, 0, 4, 3, 4, 9, 6, 5, 7, 8, 8, 2, 7, 1, 7, 6, 1, 9, 9, 5, 9, 0, 5, 0, 5, 1, 7, 6, 0, 2, 3, 4, 4, 0, 1, 7, 9, 7, 7, 1, 8, 2, 7, 9, 3, 6, 9, 7, 4, 8, 5, 8, 4, 2, 7, 6, 1, 4, 2, 7, 5, 2, 7, 5, 2, 0, 4, 9, 5, 7, 1, 6, 5, 3, 2, 6, 5, 5, 0, 3, 6, 5, 9, 6, 3, 3, 0, 2, 9, 0, 2, 0, 6, 0, 9, 7, 6, 0, 6, 5, 0, 4, 2, 4, 4, 4, 5, 6, 3, 0, 4, 3, 6, 2, 7, 4, 9, 3, 1, 2, 0, 1, 9, 4, 6, 0, 3, 4, 6, 8, 7, 1, 6, 5, 8, 1, 2, 0, 6, 0, 1, 9, 4, 4, 8, 4, 2, 3, 1, 7, 6, 3, 6, 9, 1, 0, 4, 7, 2, 7, 4, 9, 9, 6, 8, 3, 5, 6, 2, 5, 5, 7, 8, 4, 4, 0, 2, 7, 1, 2, 5, 6, 4, 2, 4, 0, 8, 2, 8, 1, 5, 8, 9, 6, 7, 6, 1, 0, 2, 4, 0, 3, 5, 6, 8, 0, 8, 1, 4, 2, 2, 5, 4, 7, 8, 3, 9, 4, 0, 2, 3, 1, 3, 1, 8, 2, 0, 9, 5, 9, 7, 1, 0, 5, 8, 6, 9, 0, 0, 4, 4, 4, 2, 8, 4, 5, 2, 3, 5, 8, 5, 9, 9, 9, 5, 5, 9, 7, 9, 2, 5, 9, 9, 3, 9, 8, 8, 4, 0, 2, 7, 9, 8, 9, 2, 6, 6, 2, 8, 8, 3, 1, 1, 5, 9, 2, 8, 5, 8, 8, 6, 2, 5, 1, 1, 4, 8, 0, 3, 3, 3, 6, 5, 8, 5, 0, 0, 7, 8, 0, 5, 1, 8, 4, 0, 6, 5, 5, 3, 0, 1, 6, 3, 3, 8, 6, 2, 8, 2, 0, 1, 4, 6, 4, 8, 6, 7, 8, 2, 1, 8, 5, 3, 0, 0, 7, 2, 6, 6, 9, 2, 0, 8, 6, 9, 5, 4, 9, 7, 8, 5, 7, 4, 0, 3, 5, 0, 3, 8, 0, 5, 9, 0, 9, 0, 9, 5, 3, 9, 7, 0, 2, 0, 6, 8, 2, 7, 7, 0, 2, 3, 8, 2, 0, 7, 8, 4, 4, 5, 5, 2, 8, 8, 0, 6, 5, 9, 0, 1, 8, 1, 3, 2, 0, 4, 7, 9, 0, 8, 6, 9, 5, 8, 5, 3, 3, 7, 5, 8, 7, 2, 1, 8, 7, 6, 0, 1, 3, 0, 1, 1, 3, 2, 7, 6, 2, 4, 3, 0, 2, 6, 3, 6, 2, 8, 8, 6, 9, 7, 4, 3, 3, 0, 1, 7, 2, 2, 0, 0, 9, 4, 6, 3, 9, 0, 0, 0, 4, 4, 6, 9, 0, 7, 5, 5, 4, 2, 7, 3, 5, 1, 1, 3, 3, 2, 8, 9, 0, 6, 8, 0, 7, 2, 5, 0, 0, 7, 5, 8, 8, 3, 4, 4, 3, 4, 8, 3, 0, 9, 9, 1, 2, 6, 6, 2, 0, 9, 4, 0, 7, 2, 5, 6, 5, 7, 1, 5, 8, 3, 7, 9, 6, 5, 5, 6, 3, 8, 3, 3, 7, 8, 4, 1, 9, 0, 4, 6, 3, 9, 3, 8, 7, 7, 7, 4, 4, 8, 1, 6, 8, 5, 0, 6, 3, 6, 6, 9, 1, 9, 4, 3, 2, 5, 1, 9, 1, 6, 4, 9, 1, 0, 3, 6, 5, 0, 9, 3, 2, 7, 8, 6, 2, 5, 1, 5, 5, 9, 3, 9, 8, 9, 2, 6, 6, 5, 2, 3, 9, 3, 7, 2, 7, 7, 8, 9, 2, 9, 5, 5, 1, 5, 6, 0, 8, 9, 9, 6, 6, 1, 0, 3, 7, 8, 0, 8, 4, 9, 3, 0, 8, 2, 8, 1, 4, 9, 2, 1, 7, 7, 2, 3, 5, 3, 6, 0, 6, 2, 0, 9, 6, 8, 1, 5, 0, 8, 8, 8, 0, 8, 6, 1, 3, 9, 3, 9, 5, 8, 2, 1, 1, 5, 6, 0, 1, 1, 5, 9, 9, 7, 5, 2, 0, 1, 0, 5, 8, 8, 5, 8, 0, 8, 2, 6, 6, 4, 1, 1, 7, 3, 5, 9, 3, 2, 0, 7, 5, 0, 0, 5, 8, 1, 1, 8, 7, 0, 1, 7, 7, 9, 1, 5, 4, 5, 3, 4, 9, 2, 6, 1, 6, 8, 5, 0, 2, 1, 9, 9, 3, 8, 2, 6, 9, 0, 5, 9, 4, 8, 8, 4, 7, 7, 6, 5, 9, 2, 7, 0, 8, 6, 0, 5, 9, 1, 8, 1, 4, 4, 5, 5, 2, 7, 6, 6, 3, 7, 2, 2, 5, 8, 8, 0, 7, 5, 0, 8, 4, 2, 3, 8, 0, 2, 2, 0, 7, 6, 8, 1, 1, 0, 0, 6, 4, 6, 7, 1, 3, 2, 5, 9, 7, 9, 7, 5, 6, 0, 3, 0, 4, 5, 4, 2, 0, 6, 5, 0, 9, 6, 9, 4, 7, 4, 5, 8, 1, 4, 9, 4, 2, 3, 5, 1, 2, 5, 1, 8, 3, 0, 1, 9, 7, 4, 5, 2, 8, 2, 1, 5, 7, 3, 2, 5, 5, 2, 3, 1, 3, 6, 0, 5, 3, 0, 7, 2, 5, 2, 1, 5, 3, 1, 3, 1, 2, 4, 9, 5, 1, 3, 2, 9, 5, 8, 6, 7, 4, 1, 1, 5, 1, 5, 1, 7, 1, 4, 9, 4, 9, 8, 0, 1, 6, 7, 4, 3, 1, 9, 2, 2, 9, 6, 5, 5, 6, 1, 2, 8, 2, 0, 2, 2, 4, 1, 9, 8, 8, 8, 6, 9, 5, 3, 8, 0, 8, 7, 2, 5, 5, 4, 4, 0, 3, 7, 4, 1, 8, 9, 7, 0, 4, 4, 3, 3, 8, 4, 1, 7, 1, 9, 9, 7, 3, 2, 7, 4, 2, 8, 1, 4, 5, 7, 3, 2, 6, 9, 9, 8, 4, 4, 6, 0, 4, 4, 4, 3, 4, 5, 9, 4, 0, 3, 2, 0, 2, 5, 6, 1, 9, 2, 5, 5, 1, 4, 8, 9, 6, 7, 0, 3, 1, 0, 5, 2, 0, 4, 0, 9, 3, 5, 4, 8, 3, 3, 2, 2, 5, 7, 2, 3, 0, 5, 9, 1, 9, 4, 2, 5, 3, 7, 1, 5, 9, 0, 2, 4, 4, 1, 3, 4, 8, 4, 6, 4, 4, 1, 6, 6, 0, 0, 8, 2, 3, 3, 3, 6, 9, 2, 9, 5, 1, 2, 7, 9, 0, 5, 4, 3, 0, 6, 9, 4, 6, 1, 9, 9, 3, 1, 4, 6, 6, 9, 7, 8, 5, 3, 1, 2, 2, 8, 2, 7, 6, 4, 7, 2, 4, 1, 0, 3, 7, 1, 8, 4, 0, 0, 2, 6, 0, 9, 5, 9, 2, 5, 6, 7, 8, 6, 0, 0, 6, 1, 2, 4, 7, 6, 0, 8, 4, 1, 4, 8, 1, 7, 5, 0, 7, 8, 7, 0, 0, 6, 6, 3, 8, 7, 3, 8, 6, 4, 0, 2, 4, 8, 9, 1, 7, 1, 8, 6, 4, 3, 7, 3, 6, 5, 0, 3, 4, 8, 1, 4, 1, 3, 2, 2, 9, 8, 2, 5, 1, 1, 6, 9, 4, 7, 2, 2, 5, 1, 6, 0, 9, 3, 8, 8, 7, 9, 6, 3, 3, 3, 6, 4, 6, 2, 8, 9, 8, 6, 4, 0, 8, 9, 7, 6, 9, 3, 2, 0, 4, 1, 1, 2, 6, 7, 9, 4, 9, 4, 4, 0, 1, 8, 4, 9, 7, 4, 3, 1, 1, 4, 4, 8, 9, 3, 3, 4, 5, 4, 0, 9, 7, 3, 6, 9, 1, 3, 8, 4, 3, 5, 5, 1, 9, 6, 5, 9, 4, 7, 6, 2, 5, 3, 0, 8, 3, 2, 9, 7, 8, 0, 1, 2, 8, 7, 7, 5, 8, 8, 1, 7, 0, 1, 8, 7, 6, 9, 7, 3, 7, 6, 3, 9, 4, 5, 7, 7, 7, 2, 6, 2, 3, 7, 1, 8, 5, 4, 3, 0, 7, 8, 2, 9, 5, 8, 4, 4, 3, 5, 3, 0, 7, 8, 0, 0, 0, 5, 7, 1, 7, 3, 0, 6, 9, 6, 4, 7, 7, 2, 6, 9, 2, 8, 8, 3, 6, 6, 5, 5, 6, 8, 0, 1, 2, 5, 1, 2, 9, 8, 0, 3, 7, 7, 2, 2, 1, 2, 8, 9, 5, 6, 8, 8, 9, 4, 4, 9, 2, 3, 3, 1, 1, 4, 8, 1, 4, 3, 6, 6, 3, 1, 6, 9, 6, 2, 2, 6, 5, 3, 8, 5, 7, 8, 7, 6, 8, 3, 3, 5, 9, 9, 4, 6, 0, 3, 3, 2, 9, 6, 8, 3, 8, 0, 1, 0, 5, 6, 9, 7, 2, 2, 3, 4, 8, 4, 7, 2, 3, 6, 0, 4, 6, 7, 5, 2, 5, 4, 0, 6, 7, 6, 7, 6, 2, 5, 2, 2, 9, 1, 0, 4, 6, 5, 2, 5, 8, 0, 0, 8, 0, 6, 5, 7, 5, 4, 7, 1, 2, 3, 0, 9, 6, 9, 4, 6, 1, 6, 7, 9, 7, 4, 3, 7, 8, 9, 8, 1, 9, 0, 1, 6, 1, 5, 8, 8, 8, 1, 3, 3, 0, 8, 6, 1, 9, 8, 9, 9, 9, 9, 6, 8, 9, 8, 8, 9, 4, 7, 0, 0, 9, 6, 2, 9, 5, 0, 5, 8, 5, 2, 8, 7, 7, 3, 8, 9, 1, 6, 4, 8, 5, 4, 8, 1, 2, 1, 5, 5, 3, 0, 1, 3, 5, 6, 1, 7, 0, 0, 5, 3, 6, 5, 5, 0, 4, 2, 6, 2, 1, 1, 4, 0, 5, 8, 4, 6, 2, 8, 4, 0, 0, 6, 9, 2, 7, 5, 0, 5, 6, 1, 9, 3, 0, 6, 2, 2, 0, 4, 7, 7, 5, 0, 5, 1, 8, 5, 4, 7, 0, 9, 6, 2, 0, 1, 9, 8, 8, 1, 3, 3, 1, 4, 8, 5, 5, 8, 2, 8, 7, 6, 9, 7, 4, 0, 8, 2, 1, 0, 7, 9, 0, 4, 2, 7, 3, 9, 9, 4, 2, 1, 0, 5, 8, 2, 6, 9, 8, 4, 8, 4, 2, 2, 6, 8, 1, 7, 4, 5, 6, 1, 8, 0, 5, 3, 1, 3, 6, 7, 8, 7, 6, 5, 1, 8, 2, 5, 3, 6, 8, 3, 4, 6, 1, 9, 8, 5, 6, 8, 4, 4, 5, 7, 9, 6, 3, 2, 2, 0, 3, 7, 2, 3, 4, 5, 3, 0, 7, 2, 7, 9, 4, 3, 7, 4, 8, 8, 3, 3, 4, 1, 1, 7, 1, 4, 7, 4, 1, 0, 4, 2, 2, 0, 6, 2, 7, 9, 4, 2, 7, 0, 7, 6, 5, 2, 0, 1, 8, 9, 3, 5, 7, 8, 3, 2, 3, 7, 2, 9, 1, 9, 3, 3, 5, 8, 6, 7, 4, 8, 9, 4, 1, 0, 7, 9, 6, 2, 9, 0, 6, 9, 4, 5, 8, 1, 8, 9, 3, 4, 1, 7, 7, 7, 9, 5, 6, 5, 0, 3, 6, 7, 1, 9, 4, 1, 2, 8, 2, 9, 8, 6, 4, 3, 3, 4, 6, 8, 5, 8, 4, 0, 3, 0, 7, 7, 6, 1, 7, 4, 0, 4, 7, 4, 5, 5, 4, 8, 2, 0, 9, 8, 3, 1, 3, 8, 5, 0, 9, 5, 3, 7, 6, 7, 8, 7, 8, 7, 2, 1, 4, 9, 8, 5, 3, 2, 5, 5, 4, 9, 9, 9, 1, 1, 6, 2, 1, 7, 3, 2, 9, 0, 5, 0, 7, 8, 1, 6, 8, 3, 4, 5, 1, 0, 5, 2, 7, 2, 2, 1, 1, 9, 0, 6, 7, 6, 5, 3, 9, 6, 3, 0, 9, 3, 0, 7, 3, 8, 0, 1, 5, 7, 0, 2, 1, 5, 7, 1, 8, 6, 7, 8, 5, 9, 7, 6, 0, 1, 1, 5, 1, 4, 2, 7, 2, 4, 6, 3, 4, 7, 1, 3, 3, 7, 4, 4, 2, 0, 8, 5, 5, 9, 5, 9, 6, 7, 4, 8, 3, 6, 8, 7, 2, 9, 6, 4, 0, 6, 7, 2, 4, 9, 4, 7, 8, 5, 7, 2, 7, 8, 7, 0, 1, 0, 4, 5, 2, 0, 0, 1, 4, 5, 6, 2, 9, 2, 3, 9, 9, 4, 5, 0, 3, 7, 2, 3, 9, 7, 2, 6, 5, 0, 5, 8, 9, 2, 2, 9, 3, 5, 0, 8, 9, 6, 7, 8, 0, 9, 7, 2, 9, 2, 6, 1, 4, 6, 3, 7, 0, 5, 2, 0, 1, 6, 1, 0, 1, 2, 2, 2, 3, 2, 9, 3, 2, 9, 9, 5, 1, 4, 5, 3, 1, 2, 1, 8, 5, 2, 2, 5, 2, 3, 3, 9, 0, 5, 1, 6, 5, 1, 6, 8, 2, 0, 1, 5, 2, 5, 0, 2, 5, 9, 3, 6, 1, 6, 6, 3, 3, 0, 8, 0, 9, 2, 8, 1, 0, 3, 6, 3, 3, 1, 0, 8, 2, 7, 7, 2, 1, 2, 9, 2, 4, 7, 2, 3, 5, 0, 0, 3, 3, 9, 3, 8, 6, 6, 9, 1, 1, 1, 2, 9, 9, 7, 9, 8, 4, 1, 1, 3, 7, 2, 6, 3, 3, 2, 8, 4, 4, 0, 6, 5, 1, 8, 0, 6, 6, 8, 4, 6, 6, 6, 0, 0, 2, 5, 1, 3, 0, 3, 5, 9, 3, 4, 7, 5, 3, 2, 7, 5, 8, 3, 0, 9, 1, 6, 9, 7, 5, 9, 7, 3, 1, 0, 2, 2, 7, 2, 4, 2, 8, 1, 4, 4, 9, 7, 3, 2, 6, 1, 5, 1, 8, 4, 5, 0, 9, 8, 2, 4, 2, 6, 5, 5, 7, 0, 3, 9, 3, 6, 7, 4, 5, 7, 4, 7, 8, 7, 6, 3, 6, 7, 4, 2, 0, 1, 1, 2, 2, 9, 6, 6, 5, 4, 7, 9, 8, 2, 7, 8, 1, 3, 3, 7, 4, 1, 4, 8, 3, 9, 2, 0, 5, 5, 5, 5, 0, 6, 1, 0, 5, 5, 1, 9, 4, 9, 9, 7, 1, 5, 2, 1, 6, 6, 1, 0, 2, 7, 9, 2, 7, 5, 0, 0, 5, 8, 0, 7, 9, 4, 6, 6, 2, 1, 6, 2, 1, 3, 0, 9, 7, 4, 8, 6, 6, 9, 6, 1, 8, 9, 5, 0, 8, 9, 7, 7, 1, 7, 2, 2, 5, 8, 7, 9, 9, 1, 3, 4, 8, 0, 7, 2, 3, 8, 4, 4, 1, 3, 1, 8, 0, 9, 4, 1, 9, 3, 7, 7, 3, 8, 6, 3, 6, 7, 7, 8, 6, 2, 5, 3, 4, 1, 8, 0, 7, 4, 1, 3, 1, 1, 1, 6, 9, 4, 7, 8, 8, 1, 2, 4, 8, 5, 1, 3, 7, 4, 3, 2, 5, 3, 4, 9, 2, 7, 3, 8, 8, 0, 0, 3, 0, 5, 1, 5, 0, 9, 2, 1, 4, 2, 7, 6, 7, 0, 4, 2, 8, 6, 1, 1, 7, 0, 9, 2, 5, 4, 5, 4, 6, 3, 3, 7, 3, 0, 1, 9, 5, 2, 5, 7, 9, 1, 6, 6, 0, 7, 6, 9, 5, 3, 8, 3, 8, 9, 9, 2, 9, 3, 5, 4, 6, 4, 2, 7, 0, 3, 8, 5, 1, 6, 3, 7, 9, 1, 2, 8, 1, 0, 0, 2, 1, 4, 1, 0, 4, 9, 7, 7, 0, 1, 7, 8, 8, 3, 6, 0, 8, 3, 0, 7, 2, 1, 8, 6, 1, 2, 3, 7, 4, 3, 0, 4, 0, 1, 0, 1, 4, 3, 8, 7, 7, 5, 6, 0, 2, 1, 4, 4, 8, 5, 4, 8, 9, 6, 9, 7, 8, 3, 3, 2, 0, 2, 4, 4, 0, 1, 8, 2, 4, 2, 1, 2, 7, 4, 6, 3, 3, 8, 5, 6, 0, 4, 8, 8, 0, 3, 7, 3, 2, 6, 9, 3, 9, 8, 4, 8, 6, 0, 5, 6, 2, 1, 2, 7, 7, 7, 5, 8, 0, 0, 5, 1, 1, 0, 0, 6, 6, 2, 5, 9, 4, 6, 0, 3, 7, 4, 0, 3, 4, 1, 5, 3, 4, 0, 5, 5, 2, 4, 2, 7, 8, 1, 5, 2, 9, 7, 5, 0, 4, 3, 1, 2, 8, 7, 9, 8, 3, 2, 9, 5, 5, 9, 8, 1, 3, 0, 5, 6, 8, 1, 4, 4, 6, 9, 6, 1, 9, 2, 7, 5, 0, 7, 0, 1, 6, 0, 8, 6, 3, 9, 4, 8, 5, 3, 6, 3, 7, 2, 5, 0, 8, 7, 0, 6, 1, 9, 5, 6, 6, 3, 4, 6, 0, 0, 3, 0, 6, 8, 6, 7, 5, 5, 6, 2, 9, 6, 8, 1, 3, 8, 5, 9, 0, 0, 3, 4, 0, 4, 7, 6, 0, 6, 8, 8, 2, 2, 9, 3, 1, 1, 5, 7, 3, 4, 8, 2, 0, 2, 9, 0, 0, 3, 0, 5, 8, 6, 2, 9, 8, 3, 7, 1, 6, 3, 9, 0, 3, 0, 5, 0, 4, 4, 5, 2, 4, 5, 6, 2, 7, 5, 5, 8, 2, 9, 3, 4, 0, 9, 7, 5, 8, 7, 3, 8, 1, 0, 2, 2, 3, 6, 4, 3, 1, 1, 4, 4, 7, 4, 8, 6, 9, 4, 4, 6, 5, 9, 6, 4, 5, 1, 1, 4, 5, 3, 7, 9, 1, 5, 5, 2, 6, 7, 2, 6, 3, 3, 9, 0, 2, 5, 9, 9, 7, 7, 5, 6, 9, 7, 9, 0, 1, 3, 2, 2, 5, 2, 3, 4, 1, 7, 9, 3, 5, 5, 1, 2, 1, 4, 6, 1, 0, 7, 4, 7, 8, 4, 5, 7, 0, 3, 6, 7, 3, 4, 3, 6, 9, 7, 6, 7, 9, 3, 3, 0, 8, 9, 3, 4, 1, 3, 9, 5, 0, 3, 1, 7, 8, 5, 8, 3, 2, 6, 1, 9, 9, 4, 0, 5, 8, 1, 8, 7, 0, 6, 6, 4, 7, 4, 5, 8, 8, 1, 1, 7, 2, 1, 7, 7, 9, 6, 8, 1, 1, 6, 8, 1, 5, 6, 8, 6, 7, 2, 5, 4, 0, 4, 3, 7, 8, 6, 4, 2, 1, 1, 1, 9, 6, 6, 8, 3, 2, 0, 9, 8, 1, 5, 6, 6, 2, 3, 2, 9, 9, 4, 2, 7, 3, 2, 7, 3, 7, 0, 1, 8, 7, 8, 9, 9, 5, 5, 0, 9, 0, 5, 9, 8, 7, 9, 2, 0, 7, 9, 3, 3, 0, 1, 2, 2, 2, 7, 4, 8, 8, 1, 6, 7, 6, 1, 2, 6, 0, 2, 0, 8, 9, 3, 2, 5, 8, 8, 6, 4, 5, 9, 3, 4, 2, 9, 2, 4, 5, 5, 7, 6, 8, 9, 2, 5, 7, 2, 6, 1, 0, 2, 1, 9, 6, 3, 9, 5, 0, 9, 7, 2, 7, 3, 6, 5, 1, 2, 4, 3, 1, 2, 6, 9, 4, 8, 5, 8, 4, 1, 6, 1, 7, 1, 8, 3, 9, 4, 3, 3, 5, 6, 6, 2, 1, 6, 9, 3, 5, 8, 7, 4, 8, 7, 4, 9, 8, 2, 7, 9, 7, 6, 6, 0, 2, 6, 9, 9, 0, 3, 8, 2, 5, 8, 5, 3, 2, 4, 9, 3, 5, 6, 0, 8, 9, 4, 8, 4, 3, 1, 4, 8, 4, 9, 8, 5, 3, 4, 8, 6, 1, 8, 2, 8, 8, 2, 0, 0, 3, 8, 5, 6, 3, 4, 3, 2, 8, 1, 0, 4, 2, 3, 6, 5, 5, 4, 9, 5, 9, 3, 3, 9, 3, 2, 3, 9, 1, 2, 0, 6, 7, 2, 0, 4, 9, 2, 0, 1, 0, 5, 8, 7, 8, 6, 8, 5, 7, 0, 5, 4, 7, 0, 9, 8, 9, 9, 5, 6, 4, 1, 6, 7, 9, 6, 3, 9, 5, 4, 5, 0, 6, 7, 0, 1, 5, 2, 3, 7, 3, 6, 8, 2, 6, 0, 6, 9, 0, 1, 3, 5, 3, 1, 2, 1, 9, 6, 8, 5, 5, 5, 5, 8, 5, 4, 2, 2, 7, 0, 9, 1, 3, 7, 8, 0, 6, 4, 6, 5, 8, 0, 5, 3, 7, 6, 5, 7, 7, 0, 8, 8, 0, 8, 3, 7, 2, 0, 3, 4, 7, 9, 3, 6, 5, 8, 8, 6, 7, 0, 0, 8, 2, 6, 3, 0, 5, 2, 4, 4, 6, 8, 0, 1, 6, 3, 1, 3, 9, 1, 1, 0, 7, 7, 1, 2, 7, 0, 6, 4, 9, 6, 4, 4, 5, 3, 1, 6, 5, 8, 3, 9, 5, 2, 2, 4, 5, 9, 0, 5, 2, 8, 3, 7, 1, 8, 9, 0, 4, 0, 0, 3, 9, 3, 7, 4, 7, 0, 8, 3, 8, 1, 2, 4, 2, 1, 8, 2, 1, 5, 2, 3, 9, 2, 5, 1, 5, 4, 6, 8, 4, 2, 7, 5, 0, 8, 9, 9, 2, 2, 5, 9, 5, 4, 9, 9, 7, 3, 5, 7, 9, 3, 2, 9, 2, 6, 9, 6, 5, 9, 1, 9, 4, 7, 4, 8, 8, 4, 2, 4, 1, 6, 3, 0, 5, 9, 7, 5, 2, 3, 7, 6, 3, 9, 3, 4, 5, 2, 5, 1, 9, 7, 9, 7, 5, 6, 9, 6, 7, 4, 1, 1, 5, 3, 5, 7, 4, 7, 0, 6, 1, 5, 3, 5, 6, 6, 5, 8, 2, 7, 8, 9, 1, 0, 0, 6, 2, 0, 4, 5, 6, 3, 4, 5, 3, 5, 6, 0, 0, 4, 7, 7, 3, 3, 3, 5, 9, 0, 7, 6, 0, 3, 7, 9, 1, 3, 0, 2, 2, 2, 6, 3, 6, 2, 1, 3, 6, 9, 2, 9, 5, 2, 4, 9, 6, 3, 3, 3, 4, 2, 9, 8, 9, 0, 0, 4, 3, 8, 7, 8, 6, 7, 7, 1, 3, 4, 8, 2, 7, 4, 5, 1, 3, 8, 6, 9, 0, 9, 1, 9, 7, 9, 1, 7, 3, 3, 2, 8, 9, 0, 0, 0, 1, 2, 0, 1, 3, 4, 5, 6, 4, 4, 8, 3, 3, 5, 6, 0, 5, 6, 0, 2, 0, 4, 0, 2, 9, 7, 4, 6, 3, 9, 4, 8, 2, 9, 4, 0, 8, 5, 9, 7, 6, 7, 0, 2, 4, 4, 4, 2, 0, 3, 9, 2, 2, 4, 6, 5, 0, 5, 2, 6, 9, 9, 0, 9, 9, 7, 4, 0, 7, 3, 4, 4, 1, 2, 2, 5, 5, 2, 8, 7, 4, 7, 8, 5, 5, 7, 4, 6, 7, 3, 3, 8, 2, 6, 8, 0, 6, 6, 4, 2, 0, 1, 7, 7, 9, 8, 4, 3, 5, 4, 5, 8, 6, 8, 1, 8, 4, 4, 6, 4, 8, 9, 0, 7, 0, 6, 9, 5, 3, 3, 3, 1, 9, 8, 7, 5, 6, 7, 2, 9, 8, 9, 4, 5, 9, 5, 5, 8, 6, 3, 3, 1, 5, 9, 1, 6, 2, 7, 6, 0, 9, 9, 2, 1, 0, 6, 4, 9, 3, 0, 8, 5, 8, 8, 3, 2, 4, 0, 3, 2, 3, 0, 8, 1, 5, 6, 4, 3, 4, 3, 1, 2, 2, 6, 5, 9, 4, 5, 0, 2, 8, 9, 3, 8, 6, 5, 0, 5, 0, 7, 5, 9, 8, 2, 8, 9, 5, 2, 1, 1, 7, 0, 5, 6, 8, 4, 9, 6, 4, 6, 5, 9, 7, 4, 6, 2, 4, 5, 2, 5, 9, 8, 7, 7, 1, 0, 8, 9, 7, 5, 0, 3, 2, 6, 0, 3, 7, 6, 9, 8, 8, 7, 9, 7, 9, 7, 6, 0, 6, 9, 9, 7, 1, 7, 6, 5, 1, 9, 8, 3, 7, 2, 1, 1, 0, 5, 2, 6, 1, 5, 4, 7, 8, 8, 7, 1, 9, 8, 5, 3, 1, 1, 5, 4, 3, 3, 6, 2, 3, 6, 0, 7, 3, 2, 9, 0, 6, 8, 3, 1, 2, 0, 7, 5, 3, 7, 0, 0, 6, 4, 8, 5, 6, 3, 1, 7, 7, 9, 6, 7, 0, 1, 1, 5, 6, 7, 6, 1, 7, 2, 7, 3, 2, 9, 5, 5, 0, 9, 2, 3, 7, 4, 5, 5, 9, 4, 2, 3, 6, 3, 5, 5, 5, 0, 0, 0, 6, 5, 2, 7, 6, 3, 6, 6, 8, 3, 9, 6, 2, 9, 4, 0, 3, 8, 0, 9, 5, 4, 0, 8, 9, 2, 2, 5, 2, 2, 2, 6, 3, 8, 5, 1, 9, 3, 0, 6, 9, 6, 3, 3, 3, 3, 0, 6, 2, 2, 0, 8, 6, 8, 9, 5, 1, 7, 7, 1, 8, 9, 7, 2, 1, 9, 3, 7, 4, 5, 9, 8, 0, 6, 8, 6, 1, 9, 5, 2, 9, 6, 3, 7, 7, 0, 7, 3, 5, 1, 4, 9, 2, 4, 1, 6, 0, 0, 6, 4, 7, 0, 6, 1, 8, 2, 3, 4, 5, 6, 2, 9, 6, 9, 8, 3, 9, 1, 7, 4, 3, 2, 9, 4, 5, 5, 4, 9, 2, 9, 9, 8, 0, 6, 8, 0, 5, 6, 1, 1, 2, 2, 1, 7, 1, 2, 5, 2, 8, 4, 4, 3, 7, 0, 5, 3, 5, 0, 7, 9, 0, 7, 0, 0, 8, 7, 9, 9, 6, 0, 7, 0, 9, 2, 9, 8, 5, 7, 4, 5, 2, 4, 2, 5, 2, 2, 9, 9, 4, 9, 9, 7, 4, 9, 0, 8, 8, 7, 5, 6, 3, 2, 4, 2, 9, 0, 9, 3, 9, 1, 2, 8, 8, 5, 3, 7, 8, 3, 3, 7, 8, 1, 9, 2, 7, 2, 6, 8, 1, 9, 9, 8, 7, 7, 7, 7, 6, 5, 6, 8, 9, 3, 3, 4, 0, 0, 3, 6, 9, 7, 9, 1, 4, 7, 0, 6, 7, 3, 7, 0, 1, 8, 1, 1, 3, 8, 0, 9, 3, 6, 6, 6, 6, 0, 8, 7, 3, 2, 4, 5, 5, 7, 7, 3, 9, 6, 3, 5, 8, 2, 3, 1, 1, 2, 1, 0, 6, 0, 9, 9, 7, 3, 4, 6, 8, 1, 8, 6, 4, 2, 7, 5, 4, 2, 4, 9, 8, 6, 3, 8, 4, 4, 1, 9, 7, 5, 4, 7, 5, 1, 3, 5, 9, 7, 6, 7, 7, 6, 2, 3, 5, 4, 5, 7, 1, 5, 9, 2, 0, 3, 8, 3, 4, 3, 5, 1, 6, 7, 5, 9, 8, 0, 2, 1, 9, 5, 6, 5, 5, 5, 4, 5, 8, 2, 6, 5, 0, 0, 9, 7, 9, 2, 8, 2, 1, 0, 5, 7, 4, 8, 7, 9, 0, 0, 6, 8, 3, 4, 5, 5, 8, 0, 8, 7, 5, 5, 1, 0, 1, 3, 6, 5, 1, 0, 6, 9, 4, 5, 7, 1, 6, 6, 3, 0, 7, 5, 2, 2, 4, 0, 6, 8, 7, 3, 9, 6, 3, 2, 7, 2, 7, 6, 0, 6, 3, 3, 1, 8, 1, 0, 5, 3, 3, 6, 1, 9, 2, 6, 2, 2, 1, 7, 7, 1, 8, 8, 4, 0, 9, 4, 2, 6, 1, 1, 6, 8, 9, 9, 2, 0, 4, 0, 2, 6, 0, 8, 8, 6, 2, 8, 7, 8, 1, 9, 0, 8, 8, 0, 4, 1, 9, 7, 5, 9, 3, 9, 3, 2, 0, 3, 0, 8, 3, 8, 9, 6, 9, 7, 4, 0, 1, 6, 7, 7, 1, 5, 7, 2, 4, 9, 8, 0, 6, 9, 1, 2, 5, 4, 1, 6, 4, 4, 0, 1, 0, 6, 8, 3, 5, 9, 7, 1, 6, 6, 5, 8, 5, 9, 7, 2, 5, 5, 0, 7, 0, 3, 1, 0, 8, 4, 6, 9, 1, 9, 5, 6, 8, 6, 0, 0, 0, 7, 1, 0, 4, 1, 6, 0, 0, 1, 4, 0, 9, 2, 4, 7, 3, 9, 7, 0, 5, 1, 6, 8, 9, 7, 4, 3, 3, 7, 2, 3, 3, 8, 3, 4, 7, 2, 9, 5, 6, 3, 6, 4, 4, 2, 9, 8, 8, 2, 2, 6, 0, 5, 8, 2, 3, 5, 6, 2, 7, 3, 4, 7, 1, 0, 8, 3, 0, 7, 1, 9, 6, 1, 5, 9, 4, 9, 9, 1, 1, 0, 5, 6, 1, 9, 7, 9, 1, 2, 5, 4, 9, 2, 1, 5, 8, 1, 5, 6, 9, 3, 2, 1, 9, 1, 0, 9, 4, 6, 9, 9, 4, 3, 9, 9, 5, 5, 2, 1, 3, 2, 2, 9, 8, 4, 7, 1, 0, 7, 7, 9, 8, 2, 5, 1, 4, 8, 9, 3, 3, 3, 6, 9, 4, 5, 8, 7, 7, 6, 0, 1, 9, 0, 6, 3, 3, 5, 4, 2, 1, 6, 0, 1, 9, 2, 7, 4, 6, 2, 7, 8, 6, 8, 6, 0, 9, 2, 2, 7, 5, 6, 5, 4, 3, 4, 9, 2, 3, 6, 1, 3, 2, 6, 4, 7, 4, 8, 4, 4, 3, 8, 4, 8, 7, 7, 6, 3, 0, 7, 7, 6, 5, 0, 7, 5, 7, 0, 4, 5, 7, 1, 4, 3, 7, 6, 1, 4, 1, 9, 2, 3, 7, 9, 6, 3, 2, 0, 7, 5, 1, 7, 2, 4, 3, 0, 1, 2, 1, 0, 1, 2, 8, 9, 8, 9, 4, 1, 1, 8, 8, 0, 3, 4, 9, 2, 8, 8, 2, 0, 6, 4, 1, 5, 0, 8, 8, 1, 8, 5, 4, 2, 9, 4, 8, 2, 3, 4, 0, 8, 2, 5, 8, 2, 8, 8, 8, 2, 8, 4, 0, 1, 7, 6, 0, 1, 5, 0, 7, 4, 9, 6, 4, 6, 4, 3, 4, 3, 7, 1, 0, 4, 4, 4, 4, 0, 6, 5, 0, 9, 9, 9, 2, 0, 1, 3, 4, 7, 6, 0, 5, 0, 9, 9, 7, 0, 8, 1, 2, 4, 4, 9, 5, 3, 0, 2, 3, 7, 9, 0, 7, 7, 2, 3, 6, 8, 8, 5, 8, 1, 5, 2, 3, 3, 3, 0, 1, 7, 9, 4, 7, 6, 2, 5, 3, 6, 8, 6, 1, 3, 9, 0, 6, 4, 7, 8, 9, 6, 7, 8, 9, 8, 2, 0, 6, 1, 9, 8, 4, 3, 9, 5, 3, 5, 7, 3, 3, 7, 6, 6, 7, 7, 2, 3, 8, 8, 4, 0, 0, 2, 4, 0, 9, 5, 4, 9, 8, 2, 4, 0, 7, 9, 4, 4, 8, 8, 8, 6, 6, 4, 9, 8, 5, 8, 3, 2, 4, 7, 8, 4, 3, 8, 6, 3, 5, 1, 1, 9, 4, 8, 5, 4, 4, 5, 6, 2, 9, 3, 2, 7, 9, 8, 9, 9, 4, 6, 0, 5, 2, 9, 9, 8, 2, 3, 7, 6, 8, 4, 5, 9, 0, 5, 5, 7, 5, 7, 1, 5, 2, 3, 9, 2, 3, 6, 0, 1, 3, 0, 1, 7, 0, 2, 1, 1, 8, 7, 7, 2, 8, 4, 9, 5, 7, 8, 8, 3, 7, 3, 2, 8, 1, 1, 5, 4, 9, 2, 8, 5, 9, 2, 0, 9, 7, 4, 5, 6, 4, 9, 5, 3, 2, 5, 9, 4, 5, 3, 1, 6, 6, 4, 8, 3, 9, 1, 6, 5, 9, 3, 6, 4, 7, 4, 3, 2, 3, 3, 4, 2, 1, 8, 3, 9, 7, 2, 8, 5, 4, 1, 5, 6, 9, 9, 8, 0, 1, 4, 8, 4, 3, 7, 5, 5, 1, 9, 6, 4, 3, 7, 8, 0, 8, 5, 7, 9, 1, 1, 6, 8, 4, 7, 5, 8, 1, 0, 8, 7, 8, 7, 5, 0, 5, 3, 9, 5, 3, 3, 3, 6, 3, 0, 7, 9, 1, 1, 0, 9, 4, 6, 0, 6, 7, 2, 4, 0, 8, 0, 1, 4, 9, 7, 8, 5, 8, 9, 7, 3, 8, 1, 9, 0, 0, 2, 7, 1, 8, 3, 9, 0, 4, 9, 4, 0, 3, 7, 9, 6, 1, 1, 7, 6, 4, 3, 7, 1, 0, 4, 2, 7, 1, 7, 2, 2, 7, 2, 4, 7, 9, 6, 6, 4, 8, 4, 4, 2, 7, 7, 0, 1, 7, 7, 6, 3, 8, 5, 0, 8, 2, 7, 8, 9, 7, 3, 6, 8, 5, 9, 6, 5, 0, 8, 3, 0, 2, 3, 5, 1, 4, 4, 5, 9, 7, 0, 9, 0, 8, 9, 0, 2, 3, 6, 8, 7, 0, 3, 1, 3, 2, 6, 3, 3, 1, 8, 1, 0, 0, 3, 7, 1, 7, 3, 2, 0, 9, 5, 0, 5, 0, 6, 8, 1, 0, 3, 3, 3, 5, 8, 5, 7, 6, 1, 2, 6, 6, 8, 0, 2, 2, 5, 4, 7, 2, 6, 4, 5, 4, 9, 5, 9, 6, 5, 0, 5, 5, 1, 1, 1, 2, 6, 1, 6, 8, 0, 2, 8, 1, 0, 1, 8, 3, 9, 4, 0, 9, 3, 7, 1, 2, 0, 9, 1, 2, 6, 5, 9, 8, 8, 9, 8, 7, 7, 0, 4, 1, 0, 9, 6, 8, 5, 6, 9, 4, 5, 0, 2, 4, 9, 0, 1, 3, 4, 3, 3, 6, 4, 0, 1, 3, 2, 0, 9, 7, 1, 0, 5, 3, 1, 7, 0, 9, 8, 9, 7, 7, 5, 9, 6, 0, 0, 4, 0, 0, 3, 1, 3, 2, 7, 0, 7, 2, 9, 7, 5, 5, 5, 9, 9, 1, 4, 7, 4, 3, 8, 3, 0, 6, 1, 5, 8, 1, 5, 1, 8, 2, 3, 9, 4, 8, 7, 2, 4, 1, 1, 9, 5, 8, 3, 9, 3, 3, 3, 9, 1, 2, 3, 1, 7, 8, 9, 9, 1, 3, 7, 6, 7, 3, 3, 7, 0, 4, 9, 3, 7, 9, 9, 6, 0, 0, 2, 9, 5, 8, 2, 5, 0, 9, 6, 6, 6, 2, 0, 1, 6, 3, 0, 2, 2, 4, 3, 7, 1, 5, 8, 0, 9, 9, 8, 3, 1, 6, 4, 9, 2, 5, 4, 8, 1, 4, 1, 7, 0, 3, 7, 1, 5, 3, 0, 2, 9, 8, 6, 6, 8, 2, 8, 2, 4, 1, 1, 4, 6, 4, 1, 6, 2, 1, 4, 9, 8, 6, 2, 7, 5, 1, 0, 0, 8, 3, 9, 0, 9, 5, 6, 3, 0, 4, 4, 7, 2, 2, 1, 9, 7, 7, 5, 3, 9, 5, 6, 8, 5, 7, 7, 2, 4, 1, 2, 2, 7, 2, 3, 1, 3, 7, 6, 7, 1, 2, 6, 6, 5, 6, 4, 6, 5, 3, 8, 6, 5, 6, 8, 1, 4, 1, 2, 6, 9, 3, 6, 3, 8, 7, 8, 5, 1, 1, 9, 2, 6, 6, 7, 9, 4, 7, 3, 9, 4, 5, 6, 5, 9, 5, 8, 4, 0, 4, 3, 8, 2, 4, 8, 4, 2, 4, 5, 7, 0, 8, 6, 8, 6, 7, 0, 3, 1, 8, 2, 7, 3, 9, 9, 2, 7, 1, 4, 0, 8, 3, 2, 4, 3, 0, 8, 7, 9, 2, 8, 1, 3, 0, 1, 1, 7, 8, 9, 1, 6, 7, 2, 0, 6, 1, 2, 0, 9, 2, 6, 4, 9, 5, 9, 1, 3, 6, 8, 2, 6, 5, 5, 8, 4, 8, 1, 5, 6, 1, 2, 0, 0, 6, 4, 1, 4, 2, 0, 8, 3, 7, 6, 2, 6, 5, 9, 8, 3, 8, 3, 5, 2, 1, 0, 9, 5, 7, 4, 9, 9, 9, 2, 2, 5, 4, 2, 9, 2, 2, 2, 6, 0, 8, 8, 9, 2, 1, 3, 7, 4, 2, 8, 5, 4, 6, 3, 9, 5, 7, 8, 8, 2, 9, 1, 8, 7, 5, 8, 5, 6, 7, 3, 6, 2, 4, 3, 9, 2, 1, 0, 0, 3, 5, 1, 5, 5, 3, 8, 8, 9, 6, 8, 2, 8, 5, 4, 0, 9, 6, 6, 9, 2, 8, 4, 4, 0, 6, 4, 8, 4, 6, 2, 4, 2, 6, 5, 3, 6, 6, 5, 2, 3, 8, 1, 5, 1, 7, 7, 8, 6, 6, 1, 5, 5, 2, 0, 8, 9, 0, 2, 4, 0, 4, 3, 1, 7, 5, 4, 2, 3, 9, 8, 9, 3, 2, 6, 8, 9, 2, 2, 4, 7, 8, 5, 2, 7, 0, 7, 9, 2, 3, 7, 5, 1, 3, 5, 3, 8, 6, 2, 6, 1, 5, 9, 7, 8, 0, 2, 6, 4, 5, 8, 8, 3, 6, 9, 6, 5, 5, 0, 8, 8, 9, 6, 6, 1, 4, 0, 4, 8, 9, 1, 5, 8, 1, 3, 4, 3, 6, 9, 0, 1, 4, 9, 9, 2, 2, 7, 5, 1, 5, 2, 5, 6, 7, 9, 8, 0, 8, 0, 4, 0, 5, 5, 8, 2, 8, 1, 5, 4, 2, 6, 5, 0, 5, 9, 1, 6, 7, 8, 1, 5, 4, 4, 8, 4, 8, 2, 1, 0, 6, 7, 7, 4, 1, 1, 9, 4, 6, 0, 6, 5, 3, 4, 5, 2, 7, 4, 6, 0, 8, 3, 9, 0, 4, 9, 3, 4, 9, 4, 3, 5, 0, 9, 1, 4, 7, 9, 1, 4, 8, 0, 3, 3, 0, 4, 4, 5, 4, 0, 7, 8, 7, 6, 8, 3, 5, 0, 3, 3, 4, 3, 4, 0, 0, 6, 8, 4, 7, 5, 2, 6, 7, 5, 8, 9, 2, 5, 6, 9, 9, 0, 9, 5, 5, 5, 2, 3, 9, 9, 0, 4, 8, 6, 8, 7, 1, 7, 0, 2, 0, 5, 9, 5, 5, 4, 9, 4, 7, 6, 2, 7, 0, 4, 4, 5, 8, 8, 7, 6, 2, 5, 0, 5, 7, 7, 4, 5, 2, 7, 4, 7, 4, 1, 3, 6, 4, 9, 6, 3, 3, 5, 1, 8, 9, 6, 2, 9, 3, 6, 0, 0, 3, 7, 3, 5, 3, 7, 9, 6, 7, 7, 5, 6, 4, 7, 3, 9, 5, 1, 5, 3, 1, 3, 0, 1, 5, 7, 3, 9, 2, 4, 7, 6, 0, 4, 0, 9, 4, 2]\n"
          ],
          "name": "stdout"
        }
      ]
    },
    {
      "cell_type": "markdown",
      "metadata": {
        "id": "y-12vgtPpbvP",
        "colab_type": "text"
      },
      "source": [
        "Compare this to the previous predictions"
      ]
    },
    {
      "cell_type": "code",
      "metadata": {
        "id": "8nTnh1EkXi5B",
        "colab_type": "code",
        "outputId": "52c79e6e-ea41-4963-a5d6-01a526a6812f",
        "colab": {
          "base_uri": "https://localhost:8080/",
          "height": 664
        }
      },
      "source": [
        "db[\"ensemble\"] = output\n",
        "db.corr()"
      ],
      "execution_count": 0,
      "outputs": [
        {
          "output_type": "execute_result",
          "data": {
            "text/html": [
              "<div>\n",
              "<style scoped>\n",
              "    .dataframe tbody tr th:only-of-type {\n",
              "        vertical-align: middle;\n",
              "    }\n",
              "\n",
              "    .dataframe tbody tr th {\n",
              "        vertical-align: top;\n",
              "    }\n",
              "\n",
              "    .dataframe thead th {\n",
              "        text-align: right;\n",
              "    }\n",
              "</style>\n",
              "<table border=\"1\" class=\"dataframe\">\n",
              "  <thead>\n",
              "    <tr style=\"text-align: right;\">\n",
              "      <th></th>\n",
              "      <th>DAB Drop Aug (98.88%)</th>\n",
              "      <th>DAB Drop Aug full (98.2%)</th>\n",
              "      <th>DAB opt SGD 2</th>\n",
              "      <th>DAB opt ADAM 1</th>\n",
              "      <th>DAB opt ADAM 2</th>\n",
              "      <th>AlexNet 7 Adam</th>\n",
              "      <th>AlexNet 7 SGD</th>\n",
              "      <th>AlexNet 7 Adam full</th>\n",
              "      <th>AlexNet 7 SGD full</th>\n",
              "      <th>Super Awesome Dodgie thing no pad</th>\n",
              "      <th>Super Awesome Dodgie thing pad</th>\n",
              "      <th>AlexNet 6 wide</th>\n",
              "      <th>ensemble</th>\n",
              "    </tr>\n",
              "  </thead>\n",
              "  <tbody>\n",
              "    <tr>\n",
              "      <th>DAB Drop Aug (98.88%)</th>\n",
              "      <td>1.000000</td>\n",
              "      <td>0.988160</td>\n",
              "      <td>0.987419</td>\n",
              "      <td>0.986022</td>\n",
              "      <td>0.986022</td>\n",
              "      <td>0.987594</td>\n",
              "      <td>0.988542</td>\n",
              "      <td>0.985701</td>\n",
              "      <td>0.984890</td>\n",
              "      <td>0.987295</td>\n",
              "      <td>0.984803</td>\n",
              "      <td>0.984671</td>\n",
              "      <td>0.989995</td>\n",
              "    </tr>\n",
              "    <tr>\n",
              "      <th>DAB Drop Aug full (98.2%)</th>\n",
              "      <td>0.988160</td>\n",
              "      <td>1.000000</td>\n",
              "      <td>0.985661</td>\n",
              "      <td>0.983934</td>\n",
              "      <td>0.983934</td>\n",
              "      <td>0.985670</td>\n",
              "      <td>0.986916</td>\n",
              "      <td>0.981631</td>\n",
              "      <td>0.984927</td>\n",
              "      <td>0.985840</td>\n",
              "      <td>0.982116</td>\n",
              "      <td>0.980758</td>\n",
              "      <td>0.988737</td>\n",
              "    </tr>\n",
              "    <tr>\n",
              "      <th>DAB opt SGD 2</th>\n",
              "      <td>0.987419</td>\n",
              "      <td>0.985661</td>\n",
              "      <td>1.000000</td>\n",
              "      <td>0.983237</td>\n",
              "      <td>0.983237</td>\n",
              "      <td>0.984192</td>\n",
              "      <td>0.985791</td>\n",
              "      <td>0.984815</td>\n",
              "      <td>0.982747</td>\n",
              "      <td>0.987268</td>\n",
              "      <td>0.981633</td>\n",
              "      <td>0.979733</td>\n",
              "      <td>0.989688</td>\n",
              "    </tr>\n",
              "    <tr>\n",
              "      <th>DAB opt ADAM 1</th>\n",
              "      <td>0.986022</td>\n",
              "      <td>0.983934</td>\n",
              "      <td>0.983237</td>\n",
              "      <td>1.000000</td>\n",
              "      <td>1.000000</td>\n",
              "      <td>0.984980</td>\n",
              "      <td>0.985189</td>\n",
              "      <td>0.982190</td>\n",
              "      <td>0.984366</td>\n",
              "      <td>0.984201</td>\n",
              "      <td>0.982942</td>\n",
              "      <td>0.980670</td>\n",
              "      <td>0.989897</td>\n",
              "    </tr>\n",
              "    <tr>\n",
              "      <th>DAB opt ADAM 2</th>\n",
              "      <td>0.986022</td>\n",
              "      <td>0.983934</td>\n",
              "      <td>0.983237</td>\n",
              "      <td>1.000000</td>\n",
              "      <td>1.000000</td>\n",
              "      <td>0.984980</td>\n",
              "      <td>0.985189</td>\n",
              "      <td>0.982190</td>\n",
              "      <td>0.984366</td>\n",
              "      <td>0.984201</td>\n",
              "      <td>0.982942</td>\n",
              "      <td>0.980670</td>\n",
              "      <td>0.989897</td>\n",
              "    </tr>\n",
              "    <tr>\n",
              "      <th>AlexNet 7 Adam</th>\n",
              "      <td>0.987594</td>\n",
              "      <td>0.985670</td>\n",
              "      <td>0.984192</td>\n",
              "      <td>0.984980</td>\n",
              "      <td>0.984980</td>\n",
              "      <td>1.000000</td>\n",
              "      <td>0.987954</td>\n",
              "      <td>0.986296</td>\n",
              "      <td>0.985068</td>\n",
              "      <td>0.985386</td>\n",
              "      <td>0.980343</td>\n",
              "      <td>0.983232</td>\n",
              "      <td>0.992785</td>\n",
              "    </tr>\n",
              "    <tr>\n",
              "      <th>AlexNet 7 SGD</th>\n",
              "      <td>0.988542</td>\n",
              "      <td>0.986916</td>\n",
              "      <td>0.985791</td>\n",
              "      <td>0.985189</td>\n",
              "      <td>0.985189</td>\n",
              "      <td>0.987954</td>\n",
              "      <td>1.000000</td>\n",
              "      <td>0.987855</td>\n",
              "      <td>0.987465</td>\n",
              "      <td>0.985860</td>\n",
              "      <td>0.981396</td>\n",
              "      <td>0.984165</td>\n",
              "      <td>0.992534</td>\n",
              "    </tr>\n",
              "    <tr>\n",
              "      <th>AlexNet 7 Adam full</th>\n",
              "      <td>0.985701</td>\n",
              "      <td>0.981631</td>\n",
              "      <td>0.984815</td>\n",
              "      <td>0.982190</td>\n",
              "      <td>0.982190</td>\n",
              "      <td>0.986296</td>\n",
              "      <td>0.987855</td>\n",
              "      <td>1.000000</td>\n",
              "      <td>0.983851</td>\n",
              "      <td>0.984448</td>\n",
              "      <td>0.978563</td>\n",
              "      <td>0.982342</td>\n",
              "      <td>0.987745</td>\n",
              "    </tr>\n",
              "    <tr>\n",
              "      <th>AlexNet 7 SGD full</th>\n",
              "      <td>0.984890</td>\n",
              "      <td>0.984927</td>\n",
              "      <td>0.982747</td>\n",
              "      <td>0.984366</td>\n",
              "      <td>0.984366</td>\n",
              "      <td>0.985068</td>\n",
              "      <td>0.987465</td>\n",
              "      <td>0.983851</td>\n",
              "      <td>1.000000</td>\n",
              "      <td>0.984754</td>\n",
              "      <td>0.979847</td>\n",
              "      <td>0.981868</td>\n",
              "      <td>0.988131</td>\n",
              "    </tr>\n",
              "    <tr>\n",
              "      <th>Super Awesome Dodgie thing no pad</th>\n",
              "      <td>0.987295</td>\n",
              "      <td>0.985840</td>\n",
              "      <td>0.987268</td>\n",
              "      <td>0.984201</td>\n",
              "      <td>0.984201</td>\n",
              "      <td>0.985386</td>\n",
              "      <td>0.985860</td>\n",
              "      <td>0.984448</td>\n",
              "      <td>0.984754</td>\n",
              "      <td>1.000000</td>\n",
              "      <td>0.984643</td>\n",
              "      <td>0.979731</td>\n",
              "      <td>0.989139</td>\n",
              "    </tr>\n",
              "    <tr>\n",
              "      <th>Super Awesome Dodgie thing pad</th>\n",
              "      <td>0.984803</td>\n",
              "      <td>0.982116</td>\n",
              "      <td>0.981633</td>\n",
              "      <td>0.982942</td>\n",
              "      <td>0.982942</td>\n",
              "      <td>0.980343</td>\n",
              "      <td>0.981396</td>\n",
              "      <td>0.978563</td>\n",
              "      <td>0.979847</td>\n",
              "      <td>0.984643</td>\n",
              "      <td>1.000000</td>\n",
              "      <td>0.976917</td>\n",
              "      <td>0.983783</td>\n",
              "    </tr>\n",
              "    <tr>\n",
              "      <th>AlexNet 6 wide</th>\n",
              "      <td>0.984671</td>\n",
              "      <td>0.980758</td>\n",
              "      <td>0.979733</td>\n",
              "      <td>0.980670</td>\n",
              "      <td>0.980670</td>\n",
              "      <td>0.983232</td>\n",
              "      <td>0.984165</td>\n",
              "      <td>0.982342</td>\n",
              "      <td>0.981868</td>\n",
              "      <td>0.979731</td>\n",
              "      <td>0.976917</td>\n",
              "      <td>1.000000</td>\n",
              "      <td>0.982974</td>\n",
              "    </tr>\n",
              "    <tr>\n",
              "      <th>ensemble</th>\n",
              "      <td>0.989995</td>\n",
              "      <td>0.988737</td>\n",
              "      <td>0.989688</td>\n",
              "      <td>0.989897</td>\n",
              "      <td>0.989897</td>\n",
              "      <td>0.992785</td>\n",
              "      <td>0.992534</td>\n",
              "      <td>0.987745</td>\n",
              "      <td>0.988131</td>\n",
              "      <td>0.989139</td>\n",
              "      <td>0.983783</td>\n",
              "      <td>0.982974</td>\n",
              "      <td>1.000000</td>\n",
              "    </tr>\n",
              "  </tbody>\n",
              "</table>\n",
              "</div>"
            ],
            "text/plain": [
              "                                   DAB Drop Aug (98.88%)  ...  ensemble\n",
              "DAB Drop Aug (98.88%)                           1.000000  ...  0.989995\n",
              "DAB Drop Aug full (98.2%)                       0.988160  ...  0.988737\n",
              "DAB opt SGD 2                                   0.987419  ...  0.989688\n",
              "DAB opt ADAM 1                                  0.986022  ...  0.989897\n",
              "DAB opt ADAM 2                                  0.986022  ...  0.989897\n",
              "AlexNet 7 Adam                                  0.987594  ...  0.992785\n",
              "AlexNet 7 SGD                                   0.988542  ...  0.992534\n",
              "AlexNet 7 Adam full                             0.985701  ...  0.987745\n",
              "AlexNet 7 SGD full                              0.984890  ...  0.988131\n",
              "Super Awesome Dodgie thing no pad               0.987295  ...  0.989139\n",
              "Super Awesome Dodgie thing pad                  0.984803  ...  0.983783\n",
              "AlexNet 6 wide                                  0.984671  ...  0.982974\n",
              "ensemble                                        0.989995  ...  1.000000\n",
              "\n",
              "[13 rows x 13 columns]"
            ]
          },
          "metadata": {
            "tags": []
          },
          "execution_count": 64
        }
      ]
    },
    {
      "cell_type": "markdown",
      "metadata": {
        "id": "ypZrdDNipfDN",
        "colab_type": "text"
      },
      "source": [
        "Save this model"
      ]
    },
    {
      "cell_type": "code",
      "metadata": {
        "id": "MUF65Vc9Xx7e",
        "colab_type": "code",
        "outputId": "94052633-743d-4734-c974-1878179f6649",
        "colab": {
          "base_uri": "https://localhost:8080/",
          "height": 35
        }
      },
      "source": [
        "save_csv(output, \"ensemble\", \"/content/gdrive/My Drive/models/\")"
      ],
      "execution_count": 0,
      "outputs": [
        {
          "output_type": "stream",
          "text": [
            "successfully saved in /content/gdrive/My Drive/models/ensemble.csv\n"
          ],
          "name": "stdout"
        }
      ]
    },
    {
      "cell_type": "markdown",
      "metadata": {
        "id": "UFXVeIzZpiCc",
        "colab_type": "text"
      },
      "source": [
        "## Ensemble AlexNet7 Models"
      ]
    },
    {
      "cell_type": "markdown",
      "metadata": {
        "id": "FbfBvaS9lQwP",
        "colab_type": "text"
      },
      "source": [
        "### Load Data"
      ]
    },
    {
      "cell_type": "code",
      "metadata": {
        "id": "fbKRK5YNidaN",
        "colab_type": "code",
        "colab": {}
      },
      "source": [
        "train_feat = np.load(\"/content/data/kmnist-train-imgs.npy\")\n",
        "train_targ = np.load(\"/content/data/kmnist-train-labels.npy\")\n",
        "test_feat = np.load(\"/content/data/kmnist-test-imgs.npy\")"
      ],
      "execution_count": 0,
      "outputs": []
    },
    {
      "cell_type": "markdown",
      "metadata": {
        "id": "dPsphIoEqPX8",
        "colab_type": "text"
      },
      "source": [
        "Load the models"
      ]
    },
    {
      "cell_type": "code",
      "metadata": {
        "id": "JcbNSqJUQfqH",
        "colab_type": "code",
        "colab": {}
      },
      "source": [
        "mat_dict1 = torch.load(\"/content/models/results_AlexNet7_DropAug_ADAM/AlexNet7_DropAug_ADAM_175.pth\")\n",
        "mat_dict2 = torch.load(\"/content/models/results_AlexNet7_DropAug_SGD/AlexNet7_DropAug_200.pth\")"
      ],
      "execution_count": 0,
      "outputs": []
    },
    {
      "cell_type": "markdown",
      "metadata": {
        "id": "4wGdSMmZqRQi",
        "colab_type": "text"
      },
      "source": [
        "make wrappers for each model"
      ]
    },
    {
      "cell_type": "code",
      "metadata": {
        "id": "8it-VGP1Rk44",
        "colab_type": "code",
        "outputId": "8ae93db7-0434-45e4-b49a-7346138513a4",
        "colab": {
          "base_uri": "https://localhost:8080/",
          "height": 51
        }
      },
      "source": [
        "wrapper_1 = train_wrapper(mat_dict1[\"model\"], None, None, None, device=device)\n",
        "wrapper_2 = train_wrapper(mat_dict2[\"model\"], None, None, None, device=device)\n",
        "wrapper_1.transform = mat_dict1[\"transform\"]\n",
        "wrapper_2.transform = mat_dict2[\"transform\"]"
      ],
      "execution_count": 0,
      "outputs": [
        {
          "output_type": "stream",
          "text": [
            "No transform found, test data must be normalised manually\n",
            "No transform found, test data must be normalised manually\n"
          ],
          "name": "stdout"
        }
      ]
    },
    {
      "cell_type": "markdown",
      "metadata": {
        "id": "Y-yRbnjXqSv1",
        "colab_type": "text"
      },
      "source": [
        "Get PDFs from these models and check they each sum to 1"
      ]
    },
    {
      "cell_type": "code",
      "metadata": {
        "id": "2ZaZZCGtagRv",
        "colab_type": "code",
        "outputId": "04abd6b7-7cca-46a5-e07d-7bfc105c7f10",
        "colab": {
          "base_uri": "https://localhost:8080/",
          "height": 34
        }
      },
      "source": [
        "pred1 = wrapper_1.evaluate(test_feat, True)\n",
        "pred2 = wrapper_2.evaluate(test_feat, True)\n",
        "pred1.shape, pred2.shaped"
      ],
      "execution_count": 0,
      "outputs": [
        {
          "output_type": "execute_result",
          "data": {
            "text/plain": [
              "((10000, 10), (10000, 10))"
            ]
          },
          "metadata": {
            "tags": []
          },
          "execution_count": 60
        }
      ]
    },
    {
      "cell_type": "code",
      "metadata": {
        "id": "yLFrRwhXa3Rm",
        "colab_type": "code",
        "outputId": "2ca2acf5-fa0e-4cf6-81c6-7afc1462e2b8",
        "colab": {
          "base_uri": "https://localhost:8080/",
          "height": 34
        }
      },
      "source": [
        "log_pdfs = np.stack([pred1, pred2])\n",
        "log_pdfs.shape"
      ],
      "execution_count": 0,
      "outputs": [
        {
          "output_type": "execute_result",
          "data": {
            "text/plain": [
              "(2, 10000, 10)"
            ]
          },
          "metadata": {
            "tags": []
          },
          "execution_count": 62
        }
      ]
    },
    {
      "cell_type": "code",
      "metadata": {
        "id": "YFihAbSKa3Te",
        "colab_type": "code",
        "outputId": "1c0a845c-8097-4d0c-8044-c715cfc0325a",
        "colab": {
          "base_uri": "https://localhost:8080/",
          "height": 85
        }
      },
      "source": [
        "pdfs = np.exp(log_pdfs)\n",
        "pdfs.sum(axis=2)"
      ],
      "execution_count": 0,
      "outputs": [
        {
          "output_type": "execute_result",
          "data": {
            "text/plain": [
              "array([[1.0000001, 1.       , 1.       , ..., 1.       , 1.       ,\n",
              "        1.0000004],\n",
              "       [1.0000006, 1.0000001, 1.       , ..., 1.0000002, 1.       ,\n",
              "        0.9999992]], dtype=float32)"
            ]
          },
          "metadata": {
            "tags": []
          },
          "execution_count": 63
        }
      ]
    },
    {
      "cell_type": "markdown",
      "metadata": {
        "id": "mlMcwni4qhgK",
        "colab_type": "text"
      },
      "source": [
        "Combine these PDFs to an average and make a prediction by taking the max"
      ]
    },
    {
      "cell_type": "code",
      "metadata": {
        "id": "FYJZCwpJa3VO",
        "colab_type": "code",
        "outputId": "38dd11b2-08ed-4829-a583-c103d77d553d",
        "colab": {
          "base_uri": "https://localhost:8080/",
          "height": 34
        }
      },
      "source": [
        "avg_pdf = pdfs.mean(axis=0)\n",
        "prdict_combo = avg_pdf.argmax(axis=1)\n",
        "prdict_combo"
      ],
      "execution_count": 0,
      "outputs": [
        {
          "output_type": "execute_result",
          "data": {
            "text/plain": [
              "array([2, 9, 3, ..., 9, 4, 2])"
            ]
          },
          "metadata": {
            "tags": []
          },
          "execution_count": 64
        }
      ]
    },
    {
      "cell_type": "markdown",
      "metadata": {
        "id": "JMltlKaSqkEZ",
        "colab_type": "text"
      },
      "source": [
        "save the prediction"
      ]
    },
    {
      "cell_type": "code",
      "metadata": {
        "id": "B0D3FgNiR8S4",
        "colab_type": "code",
        "outputId": "d51b6d64-071a-423e-e655-98e1369c258d",
        "colab": {
          "base_uri": "https://localhost:8080/",
          "height": 34
        }
      },
      "source": [
        "save_csv(prdict_combo, \"AlexNeyt7_combo\", path=\"/content/gdrive/My Drive/models/\")"
      ],
      "execution_count": 0,
      "outputs": [
        {
          "output_type": "stream",
          "text": [
            "successfully saved in /content/gdrive/My Drive/models/AlexNeyt7_combo.csv\n"
          ],
          "name": "stdout"
        }
      ]
    }
  ]
}