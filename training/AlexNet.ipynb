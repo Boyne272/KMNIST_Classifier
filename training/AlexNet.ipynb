{
  "nbformat": 4,
  "nbformat_minor": 0,
  "metadata": {
    "colab": {
      "name": "AlexNet.ipynb",
      "version": "0.3.2",
      "provenance": [],
      "collapsed_sections": []
    },
    "kernelspec": {
      "name": "python3",
      "display_name": "Python 3"
    },
    "accelerator": "GPU"
  },
  "cells": [
    {
      "cell_type": "markdown",
      "metadata": {
        "id": "B2qaT25ZiS-P",
        "colab_type": "text"
      },
      "source": [
        "## Setup"
      ]
    },
    {
      "cell_type": "markdown",
      "metadata": {
        "id": "o6Q3FPg4-bWw",
        "colab_type": "text"
      },
      "source": [
        "Import the github repository and move it into the local directory (also remove the defult samples directoy if it exists)"
      ]
    },
    {
      "cell_type": "code",
      "metadata": {
        "id": "Q9pnfHbSqgXh",
        "colab_type": "code",
        "outputId": "8658cc47-6b57-4bdf-926d-a9c0c74bf0ec",
        "colab": {
          "base_uri": "https://localhost:8080/",
          "height": 163
        }
      },
      "source": [
        "from getpass import getpass\n",
        "import os\n",
        "\n",
        "user = \"mattiaguerri\"\n",
        "password = getpass('BitBucket password')\n",
        "os.environ['BITBUCKET_AUTH'] = user + ':' + password\n",
        "\n",
        "!rm -r sample_data/\n",
        "!git clone https://$BITBUCKET_AUTH@github.com/msc-acse/acse-8-miniproject-softmax.git repo\n",
        "!mv repo/* .\n",
        "!mv repo/.git .\n",
        "!rm -r repo"
      ],
      "execution_count": 1,
      "outputs": [
        {
          "output_type": "stream",
          "text": [
            "BitBucket password··········\n",
            "Cloning into 'repo'...\n",
            "remote: Enumerating objects: 146, done.\u001b[K\n",
            "remote: Counting objects: 100% (146/146), done.\u001b[K\n",
            "remote: Compressing objects: 100% (98/98), done.\u001b[K\n",
            "remote: Total 146 (delta 72), reused 106 (delta 40), pack-reused 0\u001b[K\n",
            "Receiving objects: 100% (146/146), 25.88 MiB | 17.87 MiB/s, done.\n",
            "Resolving deltas: 100% (72/72), done.\n"
          ],
          "name": "stdout"
        }
      ]
    },
    {
      "cell_type": "markdown",
      "metadata": {
        "id": "taP042kg_fDc",
        "colab_type": "text"
      },
      "source": [
        "Move to correct github branch"
      ]
    },
    {
      "cell_type": "code",
      "metadata": {
        "id": "LinpUehg09_o",
        "colab_type": "code",
        "outputId": "b010826b-02db-44f5-e84c-89b66a0f05c6",
        "colab": {
          "base_uri": "https://localhost:8080/",
          "height": 272
        }
      },
      "source": [
        "!git checkout mattia\n",
        "!git pull origin mattia\n",
        "!ls -l"
      ],
      "execution_count": 2,
      "outputs": [
        {
          "output_type": "stream",
          "text": [
            "D\t.gitignore\n",
            "Branch 'mattia' set up to track remote branch 'mattia' from 'origin'.\n",
            "Switched to a new branch 'mattia'\n",
            "From https://github.com/msc-acse/acse-8-miniproject-softmax\n",
            " * branch            mattia     -> FETCH_HEAD\n",
            "Already up to date.\n",
            "total 36\n",
            "drwxr-xr-x 2 root root 4096 May 21 08:53 data\n",
            "drwxr-xr-x 2 root root 4096 May 21 08:53 models\n",
            "-rw-r--r-- 1 root root 4189 May 21 08:53 networks.py\n",
            "-rw-r--r-- 1 root root  771 May 21 08:53 README.md\n",
            "drwxr-xr-x 2 root root 4096 May 21 08:53 spec\n",
            "-rw-r--r-- 1 root root 7501 May 21 08:53 tools.py\n",
            "drwxr-xr-x 2 root root 4096 May 21 08:53 training\n"
          ],
          "name": "stdout"
        }
      ]
    },
    {
      "cell_type": "markdown",
      "metadata": {
        "id": "EvJ4qN51_mPP",
        "colab_type": "text"
      },
      "source": [
        "Ipython imports and functions"
      ]
    },
    {
      "cell_type": "code",
      "metadata": {
        "id": "kdWZQ7cefhiI",
        "colab_type": "code",
        "outputId": "b5f9bbb5-a0a5-4ceb-c7e1-4a431cc99dc5",
        "colab": {
          "base_uri": "https://localhost:8080/",
          "height": 1092
        }
      },
      "source": [
        "# ipython setup\n",
        "!pip install pycm livelossplot\n",
        "%pylab inline\n",
        "%load_ext autoreload\n",
        "%autoreload 2"
      ],
      "execution_count": 3,
      "outputs": [
        {
          "output_type": "stream",
          "text": [
            "Collecting pycm\n",
            "\u001b[?25l  Downloading https://files.pythonhosted.org/packages/35/86/14ebc41098fb81eb7e458d234622a9ce50857bb7d6f350b29765273c00f5/pycm-2.1-py2.py3-none-any.whl (45kB)\n",
            "\u001b[K     |████████████████████████████████| 51kB 22.6MB/s \n",
            "\u001b[?25hCollecting livelossplot\n",
            "  Downloading https://files.pythonhosted.org/packages/55/2b/4be0b3de085cfacf25fc1934f391bd85f90565db4f110f3f7b2220666b09/livelossplot-0.4.0-py3-none-any.whl\n",
            "Collecting art>=1.8 (from pycm)\n",
            "\u001b[?25l  Downloading https://files.pythonhosted.org/packages/6e/cb/12329146ae052d8cc797edec123f87ff54f349af34438d01f1ffe7fc6e1c/art-3.6-py2.py3-none-any.whl (489kB)\n",
            "\u001b[K     |████████████████████████████████| 491kB 42.1MB/s \n",
            "\u001b[?25hRequirement already satisfied: numpy>=1.9.0 in /usr/local/lib/python3.6/dist-packages (from pycm) (1.16.3)\n",
            "Requirement already satisfied: matplotlib in /usr/local/lib/python3.6/dist-packages (from livelossplot) (3.0.3)\n",
            "Requirement already satisfied: notebook in /usr/local/lib/python3.6/dist-packages (from livelossplot) (5.2.2)\n",
            "Collecting coverage>=4.1 (from art>=1.8->pycm)\n",
            "\u001b[?25l  Downloading https://files.pythonhosted.org/packages/f8/4e/f28fc04019bac97d301512d904992791569234a06826cd420f78fba9a361/coverage-4.5.3-cp36-cp36m-manylinux1_x86_64.whl (205kB)\n",
            "\u001b[K     |████████████████████████████████| 215kB 50.2MB/s \n",
            "\u001b[?25hRequirement already satisfied: pyparsing!=2.0.4,!=2.1.2,!=2.1.6,>=2.0.1 in /usr/local/lib/python3.6/dist-packages (from matplotlib->livelossplot) (2.4.0)\n",
            "Requirement already satisfied: cycler>=0.10 in /usr/local/lib/python3.6/dist-packages (from matplotlib->livelossplot) (0.10.0)\n",
            "Requirement already satisfied: kiwisolver>=1.0.1 in /usr/local/lib/python3.6/dist-packages (from matplotlib->livelossplot) (1.1.0)\n",
            "Requirement already satisfied: python-dateutil>=2.1 in /usr/local/lib/python3.6/dist-packages (from matplotlib->livelossplot) (2.5.3)\n",
            "Requirement already satisfied: nbformat in /usr/local/lib/python3.6/dist-packages (from notebook->livelossplot) (4.4.0)\n",
            "Requirement already satisfied: traitlets>=4.2.1 in /usr/local/lib/python3.6/dist-packages (from notebook->livelossplot) (4.3.2)\n",
            "Requirement already satisfied: ipython-genutils in /usr/local/lib/python3.6/dist-packages (from notebook->livelossplot) (0.2.0)\n",
            "Requirement already satisfied: jupyter-core in /usr/local/lib/python3.6/dist-packages (from notebook->livelossplot) (4.4.0)\n",
            "Requirement already satisfied: jinja2 in /usr/local/lib/python3.6/dist-packages (from notebook->livelossplot) (2.10.1)\n",
            "Requirement already satisfied: tornado>=4 in /usr/local/lib/python3.6/dist-packages (from notebook->livelossplot) (4.5.3)\n",
            "Requirement already satisfied: ipykernel in /usr/local/lib/python3.6/dist-packages (from notebook->livelossplot) (4.6.1)\n",
            "Requirement already satisfied: jupyter-client in /usr/local/lib/python3.6/dist-packages (from notebook->livelossplot) (5.2.4)\n",
            "Requirement already satisfied: terminado>=0.3.3; sys_platform != \"win32\" in /usr/local/lib/python3.6/dist-packages (from notebook->livelossplot) (0.8.2)\n",
            "Requirement already satisfied: nbconvert in /usr/local/lib/python3.6/dist-packages (from notebook->livelossplot) (5.5.0)\n",
            "Requirement already satisfied: six in /usr/local/lib/python3.6/dist-packages (from cycler>=0.10->matplotlib->livelossplot) (1.12.0)\n",
            "Requirement already satisfied: setuptools in /usr/local/lib/python3.6/dist-packages (from kiwisolver>=1.0.1->matplotlib->livelossplot) (41.0.1)\n",
            "Requirement already satisfied: jsonschema!=2.5.0,>=2.4 in /usr/local/lib/python3.6/dist-packages (from nbformat->notebook->livelossplot) (2.6.0)\n",
            "Requirement already satisfied: decorator in /usr/local/lib/python3.6/dist-packages (from traitlets>=4.2.1->notebook->livelossplot) (4.4.0)\n",
            "Requirement already satisfied: MarkupSafe>=0.23 in /usr/local/lib/python3.6/dist-packages (from jinja2->notebook->livelossplot) (1.1.1)\n",
            "Requirement already satisfied: ipython>=4.0.0 in /usr/local/lib/python3.6/dist-packages (from ipykernel->notebook->livelossplot) (5.5.0)\n",
            "Requirement already satisfied: pyzmq>=13 in /usr/local/lib/python3.6/dist-packages (from jupyter-client->notebook->livelossplot) (17.0.0)\n",
            "Requirement already satisfied: ptyprocess; os_name != \"nt\" in /usr/local/lib/python3.6/dist-packages (from terminado>=0.3.3; sys_platform != \"win32\"->notebook->livelossplot) (0.6.0)\n",
            "Requirement already satisfied: testpath in /usr/local/lib/python3.6/dist-packages (from nbconvert->notebook->livelossplot) (0.4.2)\n",
            "Requirement already satisfied: mistune>=0.8.1 in /usr/local/lib/python3.6/dist-packages (from nbconvert->notebook->livelossplot) (0.8.4)\n",
            "Requirement already satisfied: pandocfilters>=1.4.1 in /usr/local/lib/python3.6/dist-packages (from nbconvert->notebook->livelossplot) (1.4.2)\n",
            "Requirement already satisfied: bleach in /usr/local/lib/python3.6/dist-packages (from nbconvert->notebook->livelossplot) (3.1.0)\n",
            "Requirement already satisfied: defusedxml in /usr/local/lib/python3.6/dist-packages (from nbconvert->notebook->livelossplot) (0.6.0)\n",
            "Requirement already satisfied: entrypoints>=0.2.2 in /usr/local/lib/python3.6/dist-packages (from nbconvert->notebook->livelossplot) (0.3)\n",
            "Requirement already satisfied: pygments in /usr/local/lib/python3.6/dist-packages (from nbconvert->notebook->livelossplot) (2.1.3)\n",
            "Requirement already satisfied: pexpect; sys_platform != \"win32\" in /usr/local/lib/python3.6/dist-packages (from ipython>=4.0.0->ipykernel->notebook->livelossplot) (4.7.0)\n",
            "Requirement already satisfied: prompt-toolkit<2.0.0,>=1.0.4 in /usr/local/lib/python3.6/dist-packages (from ipython>=4.0.0->ipykernel->notebook->livelossplot) (1.0.16)\n",
            "Requirement already satisfied: simplegeneric>0.8 in /usr/local/lib/python3.6/dist-packages (from ipython>=4.0.0->ipykernel->notebook->livelossplot) (0.8.1)\n",
            "Requirement already satisfied: pickleshare in /usr/local/lib/python3.6/dist-packages (from ipython>=4.0.0->ipykernel->notebook->livelossplot) (0.7.5)\n",
            "Requirement already satisfied: webencodings in /usr/local/lib/python3.6/dist-packages (from bleach->nbconvert->notebook->livelossplot) (0.5.1)\n",
            "Requirement already satisfied: wcwidth in /usr/local/lib/python3.6/dist-packages (from prompt-toolkit<2.0.0,>=1.0.4->ipython>=4.0.0->ipykernel->notebook->livelossplot) (0.1.7)\n",
            "\u001b[31mERROR: datascience 0.10.6 has requirement coverage==3.7.1, but you'll have coverage 4.5.3 which is incompatible.\u001b[0m\n",
            "\u001b[31mERROR: datascience 0.10.6 has requirement folium==0.2.1, but you'll have folium 0.8.3 which is incompatible.\u001b[0m\n",
            "\u001b[31mERROR: coveralls 0.5 has requirement coverage<3.999,>=3.6, but you'll have coverage 4.5.3 which is incompatible.\u001b[0m\n",
            "Installing collected packages: coverage, art, pycm, livelossplot\n",
            "  Found existing installation: coverage 3.7.1\n",
            "    Uninstalling coverage-3.7.1:\n",
            "      Successfully uninstalled coverage-3.7.1\n",
            "Successfully installed art-3.6 coverage-4.5.3 livelossplot-0.4.0 pycm-2.1\n",
            "Populating the interactive namespace from numpy and matplotlib\n"
          ],
          "name": "stdout"
        }
      ]
    },
    {
      "cell_type": "markdown",
      "metadata": {
        "id": "5gKjhgzi_qph",
        "colab_type": "text"
      },
      "source": [
        "Module imports"
      ]
    },
    {
      "cell_type": "code",
      "metadata": {
        "id": "aAqIjtvZiVfG",
        "colab_type": "code",
        "outputId": "55b6935e-c7c2-418a-b558-7f4110efea2e",
        "colab": {
          "base_uri": "https://localhost:8080/",
          "height": 35
        }
      },
      "source": [
        "# imports\n",
        "from sklearn.metrics import accuracy_score\n",
        "from sklearn.model_selection import StratifiedShuffleSplit\n",
        "\n",
        "from livelossplot import PlotLosses\n",
        "from pycm import *\n",
        "\n",
        "import torch\n",
        "import torch.nn as nn\n",
        "import torch.nn.functional as F\n",
        "from torch.utils.data import TensorDataset, DataLoader\n",
        "import torchvision.transforms as transforms\n",
        "\n",
        "# imports from github\n",
        "from tools import *\n",
        "from networks import *\n",
        "\n",
        "# check they worked\n",
        "set_seed(0)"
      ],
      "execution_count": 4,
      "outputs": [
        {
          "output_type": "execute_result",
          "data": {
            "text/plain": [
              "True"
            ]
          },
          "metadata": {
            "tags": []
          },
          "execution_count": 4
        }
      ]
    },
    {
      "cell_type": "markdown",
      "metadata": {
        "id": "-VOT6jtg_uLq",
        "colab_type": "text"
      },
      "source": [
        "Check runtime device"
      ]
    },
    {
      "cell_type": "code",
      "metadata": {
        "id": "xY6dnhJut2N1",
        "colab_type": "code",
        "outputId": "dba355d6-e8aa-4de7-aa6c-e8dd8e2dbc09",
        "colab": {
          "base_uri": "https://localhost:8080/",
          "height": 35
        }
      },
      "source": [
        "# check running device\n",
        "device = 'cpu'\n",
        "if torch.cuda.device_count() > 0 and torch.cuda.is_available():\n",
        "    print(\"Cuda installed! Running on GPU!\")\n",
        "    device = 'cuda'\n",
        "else:\n",
        "    print(\"No GPU available!\")"
      ],
      "execution_count": 5,
      "outputs": [
        {
          "output_type": "stream",
          "text": [
            "Cuda installed! Running on GPU!\n"
          ],
          "name": "stdout"
        }
      ]
    },
    {
      "cell_type": "markdown",
      "metadata": {
        "id": "FbfBvaS9lQwP",
        "colab_type": "text"
      },
      "source": [
        "## Load Data"
      ]
    },
    {
      "cell_type": "code",
      "metadata": {
        "id": "fbKRK5YNidaN",
        "colab_type": "code",
        "colab": {}
      },
      "source": [
        "train_feat = np.load(\"/content/data/kmnist-train-imgs.npy\")\n",
        "train_targ = np.load(\"/content/data/kmnist-train-labels.npy\")\n",
        "test_feat = np.load(\"/content/data/kmnist-test-imgs.npy\")"
      ],
      "execution_count": 0,
      "outputs": []
    },
    {
      "cell_type": "code",
      "metadata": {
        "id": "wuQSmqZ4oLdT",
        "colab_type": "code",
        "outputId": "b1f60670-f393-4a89-f8a7-8eb09ef3e52d",
        "colab": {
          "base_uri": "https://localhost:8080/",
          "height": 399
        }
      },
      "source": [
        "# check what the data looks like\n",
        "for data, data_name in zip([train_targ, test_feat, train_feat], \n",
        "                           [\"train_targ\", \"test_feat\", \"train_feat\"]):\n",
        "    \n",
        "    print(data_name)\n",
        "    \n",
        "    for name, code in zip([\"shape\", \"mean\", \"std\", \"max\", \"min\", \"type\", \"cuda\"],\n",
        "                          [\"data.shape\", \"data.mean()\", \"data.std()\", \n",
        "                           \"data.max()\", \"data.min()\", \"data.dtype\"]):\n",
        "        try:\n",
        "            exec(\"print('\\t', name, '\\t:\\t', \" + code + \")\")\n",
        "        except:\n",
        "            print(\"\\t\", name, \"\\t:\\t undefined\")"
      ],
      "execution_count": 7,
      "outputs": [
        {
          "output_type": "stream",
          "text": [
            "train_targ\n",
            "\t shape \t:\t (60000,)\n",
            "\t mean \t:\t 4.5\n",
            "\t std \t:\t 2.8722813232690143\n",
            "\t max \t:\t 9\n",
            "\t min \t:\t 0\n",
            "\t type \t:\t uint8\n",
            "test_feat\n",
            "\t shape \t:\t (10000, 28, 28)\n",
            "\t mean \t:\t 47.06204145408163\n",
            "\t std \t:\t 87.1110021912918\n",
            "\t max \t:\t 255\n",
            "\t min \t:\t 0\n",
            "\t type \t:\t uint8\n",
            "train_feat\n",
            "\t shape \t:\t (60000, 28, 28)\n",
            "\t mean \t:\t 48.89934757653061\n",
            "\t std \t:\t 88.82742173832395\n",
            "\t max \t:\t 255\n",
            "\t min \t:\t 0\n",
            "\t type \t:\t uint8\n"
          ],
          "name": "stdout"
        }
      ]
    },
    {
      "cell_type": "markdown",
      "metadata": {
        "id": "6X4oeAD6suKa",
        "colab_type": "text"
      },
      "source": [
        "## Data pre-processing\n",
        "\n",
        "First put in torch type with correct shape, dtype and device"
      ]
    },
    {
      "cell_type": "code",
      "metadata": {
        "id": "AnliM_hXstyb",
        "colab_type": "code",
        "colab": {}
      },
      "source": [
        "train_feat = torch.from_numpy(train_feat)\n",
        "train_feat = train_feat.float().view(-1, 1, 28, 28)\n",
        "\n",
        "test_feat = torch.from_numpy(test_feat)\n",
        "test_feat = test_feat.float().view(-1, 1, 28, 28)\n",
        "\n",
        "train_targ = torch.from_numpy(train_targ)\n",
        "train_targ = train_targ.long()"
      ],
      "execution_count": 0,
      "outputs": []
    },
    {
      "cell_type": "markdown",
      "metadata": {
        "id": "MKfWs9qwuPQO",
        "colab_type": "text"
      },
      "source": [
        "Now center and normalise"
      ]
    },
    {
      "cell_type": "code",
      "metadata": {
        "id": "DWOQk-_5uHjd",
        "colab_type": "code",
        "colab": {}
      },
      "source": [
        "mean, std = train_feat.mean(), train_feat.std()\n",
        "\n",
        "def normalise(data):\n",
        "    return (data - mean) / std\n",
        "\n",
        "train_feat = normalise(train_feat)\n",
        "test_feat = normalise(test_feat)"
      ],
      "execution_count": 0,
      "outputs": []
    },
    {
      "cell_type": "code",
      "metadata": {
        "id": "JBBgrcf6t9wt",
        "colab_type": "code",
        "outputId": "fd020840-13fd-4588-c962-425563de03f7",
        "colab": {
          "base_uri": "https://localhost:8080/",
          "height": 399
        }
      },
      "source": [
        "# check what the data looks like\n",
        "for data, data_name in zip([train_targ, test_feat, train_feat], \n",
        "                           [\"train_targ\", \"test_feat\", \"train_feat\"]):\n",
        "    \n",
        "    print(data_name)\n",
        "    \n",
        "    for name, code in zip([\"shape\", \"mean\", \"std\", \"max\", \"min\", \"type\", \"cuda\"],\n",
        "                          [\"data.size()\", \"data.mean()\", \"data.std()\", \n",
        "                           \"data.max()\", \"data.min()\", \"data.dtype\"]):\n",
        "        try:\n",
        "            exec(\"print('\\t', name, '\\t:\\t', \" + code + \")\")\n",
        "        except:\n",
        "            print(\"\\t\", name, \"\\t:\\t undefined\")"
      ],
      "execution_count": 10,
      "outputs": [
        {
          "output_type": "stream",
          "text": [
            "train_targ\n",
            "\t shape \t:\t torch.Size([60000])\n",
            "\t mean \t:\t undefined\n",
            "\t std \t:\t undefined\n",
            "\t max \t:\t tensor(9)\n",
            "\t min \t:\t tensor(0)\n",
            "\t type \t:\t torch.int64\n",
            "test_feat\n",
            "\t shape \t:\t torch.Size([10000, 1, 28, 28])\n",
            "\t mean \t:\t tensor(-0.0210)\n",
            "\t std \t:\t tensor(0.9807)\n",
            "\t max \t:\t tensor(2.3199)\n",
            "\t min \t:\t tensor(-0.5509)\n",
            "\t type \t:\t torch.float32\n",
            "train_feat\n",
            "\t shape \t:\t torch.Size([60000, 1, 28, 28])\n",
            "\t mean \t:\t tensor(-0.0003)\n",
            "\t std \t:\t tensor(1.)\n",
            "\t max \t:\t tensor(2.3199)\n",
            "\t min \t:\t tensor(-0.5509)\n",
            "\t type \t:\t torch.float32\n"
          ],
          "name": "stdout"
        }
      ]
    },
    {
      "cell_type": "markdown",
      "metadata": {
        "id": "6mM_X2zKtvbl",
        "colab_type": "text"
      },
      "source": [
        "Plot me some data"
      ]
    },
    {
      "cell_type": "code",
      "metadata": {
        "id": "ZiHqeD0FvhtV",
        "colab_type": "code",
        "outputId": "59d0ae58-0ba5-4b46-f165-7f73b20edd98",
        "colab": {
          "base_uri": "https://localhost:8080/",
          "height": 1043
        }
      },
      "source": [
        "# setup the figure\n",
        "fig, ax = plt.subplots(5, 5, figsize=[18,18])\n",
        "\n",
        "# for each of the first 25 samples\n",
        "for feat, targ, ax in zip(train_feat.data[:5*5],\n",
        "                          train_targ[:5*5],\n",
        "                          ax.flatten()):\n",
        "    ax.imshow(feat[0, :, :], cmap=\"gray\")\n",
        "    ax.set(title=str(targ.item()))\n",
        "    ax.axis(\"off\")"
      ],
      "execution_count": 11,
      "outputs": [
        {
          "output_type": "display_data",
          "data": {
            "image/png": "[encoded data removed]",
            "text/plain": [
              "<Figure size 1296x1296 with 25 Axes>"
            ]
          },
          "metadata": {
            "tags": []
          }
        }
      ]
    },
    {
      "cell_type": "markdown",
      "metadata": {
        "id": "ncBSrJMo0C_I",
        "colab_type": "text"
      },
      "source": [
        "## Data Splitting\n",
        "\n",
        "Split the data with a StratifiedShuffleSplit into a 90% training 10% validation data set"
      ]
    },
    {
      "cell_type": "code",
      "metadata": {
        "id": "fI9BIVRS0He7",
        "colab_type": "code",
        "outputId": "18525151-f5f9-4ff0-d095-81a56852e8cb",
        "colab": {
          "base_uri": "https://localhost:8080/",
          "height": 35
        }
      },
      "source": [
        "shuffler = StratifiedShuffleSplit(n_splits=1, test_size=0.1, random_state=42)\n",
        "shuffler = shuffler.split(train_feat, train_targ)\n",
        "\n",
        "indices = list(shuffler)[0]\n",
        "print(indices[0].shape, indices[1].shape)"
      ],
      "execution_count": 12,
      "outputs": [
        {
          "output_type": "stream",
          "text": [
            "(54000,) (6000,)\n"
          ],
          "name": "stdout"
        }
      ]
    },
    {
      "cell_type": "code",
      "metadata": {
        "id": "-LzGzeSh0dW7",
        "colab_type": "code",
        "outputId": "9ee6abc4-f120-4c78-9f9a-f72d1b7c6469",
        "colab": {
          "base_uri": "https://localhost:8080/",
          "height": 35
        }
      },
      "source": [
        "features_90 = train_feat[indices[0]]\n",
        "targets_90 = train_targ[indices[0]]\n",
        "features_10 = train_feat[indices[1]]\n",
        "targets_10 = train_targ[indices[1]]\n",
        "\n",
        "print(features_90.size(), targets_90.size(), features_10.size(), targets_10.size())"
      ],
      "execution_count": 13,
      "outputs": [
        {
          "output_type": "stream",
          "text": [
            "torch.Size([54000, 1, 28, 28]) torch.Size([54000]) torch.Size([6000, 1, 28, 28]) torch.Size([6000])\n"
          ],
          "name": "stdout"
        }
      ]
    },
    {
      "cell_type": "code",
      "metadata": {
        "id": "FnF0ikF30G07",
        "colab_type": "code",
        "colab": {}
      },
      "source": [
        "# Other Hyperparameters\n",
        "Seed = 42\n",
        "Learning_Rate = 1e-2\n",
        "Momentum = 0.5\n",
        "Batch_Size = 64\n",
        "Test_Batch_Size = 1000\n",
        "Number_of_Epochs = 30"
      ],
      "execution_count": 0,
      "outputs": []
    },
    {
      "cell_type": "code",
      "metadata": {
        "id": "OF9PDz-70kuI",
        "colab_type": "code",
        "colab": {}
      },
      "source": [
        "# datasets\n",
        "train_dataset    = TensorDataset(features_90, targets_90)\n",
        "validate_dataset = TensorDataset(features_10, targets_10)\n",
        "test_dataset = TensorDataset(test_feat)\n",
        "\n",
        "# dataloaders\n",
        "train_loader    = DataLoader(train_dataset, batch_size=Batch_Size, shuffle=True)\n",
        "validate_loader = DataLoader(validate_dataset, batch_size=Test_Batch_Size, shuffle=False)\n",
        "test_loader = DataLoader(test_dataset, batch_size=Test_Batch_Size, shuffle=False)"
      ],
      "execution_count": 0,
      "outputs": []
    },
    {
      "cell_type": "code",
      "metadata": {
        "id": "BtjY_HMZmfVR",
        "colab_type": "code",
        "colab": {}
      },
      "source": [
        "# # AlexNet_half\n",
        "# class AlexNet_half(nn.Module):\n",
        "#     \"\"\"\n",
        "    \n",
        "#     \"\"\"\n",
        "\n",
        "#     def __init__(self, bias=True):\n",
        "#         \"setup the neural network\"\n",
        "        \n",
        "#         # initalise\n",
        "#         super(AlexNet_half, self).__init__()\n",
        "\n",
        "#         # Original AlexNet\n",
        "#         # self.C1_layer = nn.Conv2d(3, 48, padding=0, kernel_size=11, stride=4, bias=bias)\n",
        "#         # self.P1_layer = nn.MaxPool2d(kernel_size=3, stride=2)\n",
        "#         # self.C2_layer = nn.Conv2d(48, 128, padding=2, kernel_size=5, stride=1, bias=bias)\n",
        "#         # self.P2_layer = nn.MaxPool2d(kernel_size=3, stride=2)\n",
        "#         # self.C3_layer = nn.Conv2d(128, 192, padding=2, kernel_size=3, stride=1, bias=bias)\n",
        "#         # self.C4_layer = nn.Conv2d(192, 128, padding=0, kernel_size=3, stride=1, bias=bias)\n",
        "#         # self.F5_layer = nn.Linear(4068, 2048, bias=bias)\n",
        "#         # self.F6_layer = nn.Linear(2048, 2048, bias=bias)\n",
        "#         # self.output = nn.Linear(2048, 10, bias=bias)\n",
        "        \n",
        "#         # reduced AlexNet\n",
        "#         self.C1_layer = nn.Conv2d(1, 24, padding=1, kernel_size=4, stride=1, bias=bias)\n",
        "#         self.P1_layer = nn.MaxPool2d(kernel_size=1, stride=1)\n",
        "#         self.C2_layer = nn.Conv2d(24, 64, padding=2, kernel_size=5, stride=1, bias=bias)\n",
        "#         self.P2_layer = nn.MaxPool2d(kernel_size=3, stride=2)\n",
        "#         self.C3_layer = nn.Conv2d(64, 96, padding=2, kernel_size=5, stride=1, bias=bias)\n",
        "#         self.C4_layer = nn.Conv2d(96, 96, padding=1, kernel_size=3, stride=1, bias=bias)\n",
        "#         self.C5_layer = nn.Conv2d(96, 64, padding=1, kernel_size=3, stride=1, bias=bias)\n",
        "#         self.P5_layer = nn.MaxPool2d(kernel_size=3, stride=2)\n",
        "#         self.F6_layer = nn.Linear(2304, 256, bias=bias)\n",
        "#         self.F7_layer = nn.Linear(256, 256, bias=bias)\n",
        "#         self.output = nn.Linear(256, 10, bias=bias)\n",
        "        \n",
        "#         # create the activation function\n",
        "#         act = nn.ReLU()\n",
        "        \n",
        "#         # create a list of fucntion order\n",
        "#         self.layers = [self.C1_layer, act, \n",
        "#                        self.P1_layer, act, \n",
        "#                        self.C2_layer, act, \n",
        "#                        self.P2_layer, act,\n",
        "#                        self.C3_layer, act,\n",
        "#                        self.C4_layer, act,\n",
        "#                        self.C5_layer, act,\n",
        "#                        self.P5_layer, act,\n",
        "#                        self.flatten,\n",
        "#                        self.F6_layer, act,\n",
        "#                        self.F7_layer, act,\n",
        "#                        self.output]\n",
        "        \n",
        "#     def flatten(self, T):\n",
        "#         \"flatten the image for the fully connected layers\"\n",
        "#         s = T.size(1)*T.size(2)*T.size(3)\n",
        "#         print(s)\n",
        "#         return T.view(-1, s)\n",
        "        \n",
        "        \n",
        "#     def forward(self, x):\n",
        "#         \"Pass through the neural network\"\n",
        "#         for f in self.layers:\n",
        "#             x = f(x)\n",
        "#         return x\n"
      ],
      "execution_count": 0,
      "outputs": []
    },
    {
      "cell_type": "code",
      "metadata": {
        "id": "KcxQT_zkzNLk",
        "colab_type": "code",
        "colab": {}
      },
      "source": [
        "# AlexNet_half (sequential)\n",
        "class AlexNet_half(nn.Module):\n",
        "    \"\"\"\n",
        "    Neural Network inspired on Alexnet, with a reduce number of parameters (989410).\n",
        "    \"\"\"\n",
        "\n",
        "    def __init__(self, bias=True):\n",
        "        \"setup the neural network\"\n",
        "        \n",
        "        # initalise\n",
        "        super(AlexNet_half, self).__init__()\n",
        "\n",
        "        # create the activation function\n",
        "        act = nn.ReLU()\n",
        "\n",
        "        \n",
        "        self.convolutional = nn.Sequential(\n",
        "            nn.Conv2d(1, 24, padding=1, kernel_size=4, stride=1, bias=bias), act,\n",
        "            nn.MaxPool2d(kernel_size=1, stride=1), act,\n",
        "            nn.Conv2d(24, 64, padding=2, kernel_size=5, stride=1, bias=bias), act,\n",
        "            nn.MaxPool2d(kernel_size=3, stride=2), act,\n",
        "            nn.Conv2d(64, 96, padding=2, kernel_size=5, stride=1, bias=bias), act,\n",
        "            nn.Conv2d(96, 96, padding=1, kernel_size=3, stride=1, bias=bias), act,\n",
        "            nn.Conv2d(96, 64, padding=1, kernel_size=3, stride=1, bias=bias), act,\n",
        "            nn.MaxPool2d(kernel_size=3, stride=2), act)\n",
        "        \n",
        "        self.full_connected = nn.Sequential(\n",
        "            nn.Linear(2304, 256, bias=bias), act,\n",
        "            nn.Linear(256, 256, bias=bias), act,\n",
        "            nn.Linear(256, 10, bias=bias)\n",
        "        )\n",
        "\n",
        "    def flatten(self, T):\n",
        "        \"flatten the image for the fully connected layers\"\n",
        "        return T.view(-1, T.size(1)*T.size(2)*T.size(3))\n",
        "        \n",
        "        \n",
        "    def forward(self, x):\n",
        "        \"Pass through the neural network\"\n",
        "        x = self.convolutional(x)\n",
        "        x = self.flatten(x)\n",
        "        x = self.full_connected(x)\n",
        "        return x\n"
      ],
      "execution_count": 0,
      "outputs": []
    },
    {
      "cell_type": "markdown",
      "metadata": {
        "id": "Sqw_XaOjz6g4",
        "colab_type": "text"
      },
      "source": [
        "## Training the AlexNet Model"
      ]
    },
    {
      "cell_type": "code",
      "metadata": {
        "id": "XU6yN_Eg0xqo",
        "colab_type": "code",
        "outputId": "17398d05-20f3-4131-f7e6-74ffe9b1a1a5",
        "colab": {
          "base_uri": "https://localhost:8080/",
          "height": 90
        }
      },
      "source": [
        "x = torch.randn((1, 1, 28, 28))\n",
        "test_model = AlexNet_half()\n",
        "y = test_model(x)\n",
        "print(\"Output (pre-softmax):\\n\", y.detach().numpy())\n",
        "n_params = sum([t.detach().numpy().size for t in test_model.parameters()])\n",
        "print(\"Number of model Parameters: \", n_params)"
      ],
      "execution_count": 40,
      "outputs": [
        {
          "output_type": "stream",
          "text": [
            "Output (pre-softmax):\n",
            " [[-0.05183106 -0.00023494  0.02902081  0.05070065  0.05232093 -0.02206332\n",
            "  -0.01177426  0.00702074 -0.04078042  0.041491  ]]\n",
            "Number of model Parameters:  989410\n"
          ],
          "name": "stdout"
        }
      ]
    },
    {
      "cell_type": "code",
      "metadata": {
        "id": "uwx-to7F3Klm",
        "colab_type": "code",
        "outputId": "771c92a8-1d99-4f05-c924-f76dd549db30",
        "colab": {
          "base_uri": "https://localhost:8080/",
          "height": 795
        }
      },
      "source": [
        "set_seed(Seed)\n",
        "model = LeNet5().to(device)\n",
        "optimizer = torch.optim.SGD(model.parameters(), lr=Learning_Rate, momentum=Momentum)\n",
        "criterion = nn.CrossEntropyLoss()\n",
        "\n",
        "wrapper = train_wrapper(model, optimizer, train_loader, validate_loader, validate_loader, criterion, device)\n",
        "wrapper.train_model(Number_of_Epochs)"
      ],
      "execution_count": 41,
      "outputs": [
        {
          "output_type": "display_data",
          "data": {
            "image/png": "[encoded data removed]",
            "text/plain": [
              "<Figure size 864x576 with 2 Axes>"
            ]
          },
          "metadata": {
            "tags": []
          }
        },
        {
          "output_type": "stream",
          "text": [
            "log loss:\n",
            "training   (min:    0.202, max:    0.987, cur:    0.202)\n",
            "validation (min:    0.195, max:    0.428, cur:    0.195)\n",
            "\n",
            "accuracy:\n",
            "training   (min:    0.682, max:    0.937, cur:    0.937)\n",
            "validation (min:    0.865, max:    0.939, cur:    0.939)\n"
          ],
          "name": "stdout"
        },
        {
          "output_type": "error",
          "ename": "KeyboardInterrupt",
          "evalue": "ignored",
          "traceback": [
            "\u001b[0;31m---------------------------------------------------------------------------\u001b[0m",
            "\u001b[0;31mKeyboardInterrupt\u001b[0m                         Traceback (most recent call last)",
            "\u001b[0;32m<ipython-input-41-fd7a132ceb7e>\u001b[0m in \u001b[0;36m<module>\u001b[0;34m()\u001b[0m\n\u001b[1;32m      5\u001b[0m \u001b[0;34m\u001b[0m\u001b[0m\n\u001b[1;32m      6\u001b[0m \u001b[0mwrapper\u001b[0m \u001b[0;34m=\u001b[0m \u001b[0mtrain_wrapper\u001b[0m\u001b[0;34m(\u001b[0m\u001b[0mmodel\u001b[0m\u001b[0;34m,\u001b[0m \u001b[0moptimizer\u001b[0m\u001b[0;34m,\u001b[0m \u001b[0mtrain_loader\u001b[0m\u001b[0;34m,\u001b[0m \u001b[0mvalidate_loader\u001b[0m\u001b[0;34m,\u001b[0m \u001b[0mvalidate_loader\u001b[0m\u001b[0;34m,\u001b[0m \u001b[0mcriterion\u001b[0m\u001b[0;34m,\u001b[0m \u001b[0mdevice\u001b[0m\u001b[0;34m)\u001b[0m\u001b[0;34m\u001b[0m\u001b[0;34m\u001b[0m\u001b[0m\n\u001b[0;32m----> 7\u001b[0;31m \u001b[0mwrapper\u001b[0m\u001b[0;34m.\u001b[0m\u001b[0mtrain_model\u001b[0m\u001b[0;34m(\u001b[0m\u001b[0mNumber_of_Epochs\u001b[0m\u001b[0;34m)\u001b[0m\u001b[0;34m\u001b[0m\u001b[0;34m\u001b[0m\u001b[0m\n\u001b[0m",
            "\u001b[0;32m/content/tools.py\u001b[0m in \u001b[0;36mtrain_model\u001b[0;34m(self, epochs)\u001b[0m\n\u001b[1;32m    173\u001b[0m         \u001b[0;32mfor\u001b[0m \u001b[0mepoch\u001b[0m \u001b[0;32min\u001b[0m \u001b[0mrange\u001b[0m\u001b[0;34m(\u001b[0m\u001b[0mepochs\u001b[0m\u001b[0;34m)\u001b[0m\u001b[0;34m:\u001b[0m\u001b[0;34m\u001b[0m\u001b[0;34m\u001b[0m\u001b[0m\n\u001b[1;32m    174\u001b[0m             \u001b[0mlogs\u001b[0m \u001b[0;34m=\u001b[0m \u001b[0;34m{\u001b[0m\u001b[0;34m}\u001b[0m\u001b[0;34m\u001b[0m\u001b[0;34m\u001b[0m\u001b[0m\n\u001b[0;32m--> 175\u001b[0;31m             \u001b[0mtrain_loss\u001b[0m\u001b[0;34m,\u001b[0m \u001b[0mtrain_accuracy\u001b[0m \u001b[0;34m=\u001b[0m \u001b[0mself\u001b[0m\u001b[0;34m.\u001b[0m\u001b[0mtrain\u001b[0m\u001b[0;34m(\u001b[0m\u001b[0;34m)\u001b[0m\u001b[0;34m\u001b[0m\u001b[0;34m\u001b[0m\u001b[0m\n\u001b[0m\u001b[1;32m    176\u001b[0m \u001b[0;34m\u001b[0m\u001b[0m\n\u001b[1;32m    177\u001b[0m             \u001b[0mlogs\u001b[0m\u001b[0;34m[\u001b[0m\u001b[0;34m''\u001b[0m \u001b[0;34m+\u001b[0m \u001b[0;34m'log loss'\u001b[0m\u001b[0;34m]\u001b[0m \u001b[0;34m=\u001b[0m \u001b[0mtrain_loss\u001b[0m\u001b[0;34m.\u001b[0m\u001b[0mitem\u001b[0m\u001b[0;34m(\u001b[0m\u001b[0;34m)\u001b[0m\u001b[0;34m\u001b[0m\u001b[0;34m\u001b[0m\u001b[0m\n",
            "\u001b[0;32m/content/tools.py\u001b[0m in \u001b[0;36mtrain\u001b[0;34m(self)\u001b[0m\n\u001b[1;32m     55\u001b[0m \u001b[0;34m\u001b[0m\u001b[0m\n\u001b[1;32m     56\u001b[0m             \u001b[0;31m# put the samples on the device\u001b[0m\u001b[0;34m\u001b[0m\u001b[0;34m\u001b[0m\u001b[0;34m\u001b[0m\u001b[0m\n\u001b[0;32m---> 57\u001b[0;31m             \u001b[0mX\u001b[0m\u001b[0;34m,\u001b[0m \u001b[0my\u001b[0m \u001b[0;34m=\u001b[0m \u001b[0mX\u001b[0m\u001b[0;34m.\u001b[0m\u001b[0mto\u001b[0m\u001b[0;34m(\u001b[0m\u001b[0mself\u001b[0m\u001b[0;34m.\u001b[0m\u001b[0mdevice\u001b[0m\u001b[0;34m)\u001b[0m\u001b[0;34m,\u001b[0m \u001b[0my\u001b[0m\u001b[0;34m.\u001b[0m\u001b[0mto\u001b[0m\u001b[0;34m(\u001b[0m\u001b[0mself\u001b[0m\u001b[0;34m.\u001b[0m\u001b[0mdevice\u001b[0m\u001b[0;34m)\u001b[0m\u001b[0;34m\u001b[0m\u001b[0;34m\u001b[0m\u001b[0m\n\u001b[0m\u001b[1;32m     58\u001b[0m \u001b[0;34m\u001b[0m\u001b[0m\n\u001b[1;32m     59\u001b[0m             \u001b[0;31m# zero the gradent\u001b[0m\u001b[0;34m\u001b[0m\u001b[0;34m\u001b[0m\u001b[0;34m\u001b[0m\u001b[0m\n",
            "\u001b[0;31mKeyboardInterrupt\u001b[0m: "
          ]
        }
      ]
    },
    {
      "cell_type": "code",
      "metadata": {
        "id": "-oP0UQr_AtVW",
        "colab_type": "code",
        "colab": {}
      },
      "source": [
        "wrapper = train_wrapper(model, optimizer, train_loader, validate_loader, test_loader, criterion, device)"
      ],
      "execution_count": 0,
      "outputs": []
    },
    {
      "cell_type": "code",
      "metadata": {
        "id": "U5-VzDheANMd",
        "colab_type": "code",
        "outputId": "9eebddab-d61c-4a27-b65d-85c75b18f338",
        "colab": {
          "base_uri": "https://localhost:8080/",
          "height": 35
        }
      },
      "source": [
        "output = wrapper.evaluate()\n",
        "print(output)\n",
        "# save_csv(output, \"LeNet5_test\")"
      ],
      "execution_count": 0,
      "outputs": [
        {
          "output_type": "stream",
          "text": [
            "[2 9 3 ... 9 4 2]\n"
          ],
          "name": "stdout"
        }
      ]
    }
  ]
}