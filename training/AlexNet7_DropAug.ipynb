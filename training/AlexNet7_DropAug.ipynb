{
  "nbformat": 4,
  "nbformat_minor": 0,
  "metadata": {
    "colab": {
      "name": "AlexNet7_DropAug.ipynb",
      "version": "0.3.2",
      "provenance": [],
      "collapsed_sections": [],
      "toc_visible": true
    },
    "kernelspec": {
      "name": "python3",
      "display_name": "Python 3"
    },
    "accelerator": "GPU"
  },
  "cells": [
    {
      "cell_type": "markdown",
      "metadata": {
        "id": "B2qaT25ZiS-P",
        "colab_type": "text"
      },
      "source": [
        "## Setup Github"
      ]
    },
    {
      "cell_type": "markdown",
      "metadata": {
        "id": "o6Q3FPg4-bWw",
        "colab_type": "text"
      },
      "source": [
        "Import the github repository and move it into the local directory (also remove the defult samples directoy if it exists)"
      ]
    },
    {
      "cell_type": "code",
      "metadata": {
        "id": "Q9pnfHbSqgXh",
        "colab_type": "code",
        "outputId": "d829214b-28db-4d7d-c112-9f90c95813aa",
        "colab": {
          "base_uri": "https://localhost:8080/",
          "height": 163
        }
      },
      "source": [
        "from getpass import getpass\n",
        "import os\n",
        "\n",
        "user = \"mattiaguerri\"\n",
        "password = getpass('github password')\n",
        "os.environ['GITHUB_AUTH'] = user + ':' + password\n",
        "\n",
        "# clone the repo\n",
        "!git clone https://$GITHUB_AUTH@github.com/msc-acse/acse-8-miniproject-softmax.git repo\n",
        "    \n",
        "# move the repo up one\n",
        "!mv repo/* .\n",
        "!mv repo/.git .\n",
        "\n",
        "# delete un needed stuff\n",
        "!rm -r repo\n",
        "!rm -r sample_data/"
      ],
      "execution_count": 1,
      "outputs": [
        {
          "output_type": "stream",
          "text": [
            "github password··········\n",
            "Cloning into 'repo'...\n",
            "remote: Enumerating objects: 46, done.\u001b[K\n",
            "remote: Counting objects: 100% (46/46), done.\u001b[K\n",
            "remote: Compressing objects: 100% (40/40), done.\u001b[K\n",
            "remote: Total 633 (delta 13), reused 33 (delta 6), pack-reused 587\u001b[K\n",
            "Receiving objects: 100% (633/633), 171.79 MiB | 34.21 MiB/s, done.\n",
            "Resolving deltas: 100% (333/333), done.\n"
          ],
          "name": "stdout"
        }
      ]
    },
    {
      "cell_type": "markdown",
      "metadata": {
        "id": "taP042kg_fDc",
        "colab_type": "text"
      },
      "source": [
        "### Github Commands"
      ]
    },
    {
      "cell_type": "code",
      "metadata": {
        "id": "LinpUehg09_o",
        "colab_type": "code",
        "outputId": "9836763c-2d50-4aae-86ad-739c930a6493",
        "colab": {
          "base_uri": "https://localhost:8080/",
          "height": 15855
        }
      },
      "source": [
        "# !git checkout mattia\n",
        "# !git reset --hard\n",
        "# !git pull origin mattia\n",
        "!ls -l\n",
        "!git log"
      ],
      "execution_count": 2,
      "outputs": [
        {
          "output_type": "stream",
          "text": [
            "total 32\n",
            "drwxr-xr-x 2 root root  4096 May 22 23:08 data\n",
            "drwxr-xr-x 7 root root  4096 May 22 23:08 models\n",
            "-rw-r--r-- 1 root root   771 May 22 23:08 README.md\n",
            "drwxr-xr-x 2 root root  4096 May 22 23:08 spec\n",
            "-rw-r--r-- 1 root root 10208 May 22 23:08 tools.py\n",
            "drwxr-xr-x 3 root root  4096 May 22 23:08 training\n",
            "\u001b[33mcommit 42de5218865d1204e48eeda14606a8317b3239b2\u001b[m\u001b[33m (\u001b[m\u001b[1;36mHEAD -> \u001b[m\u001b[1;32mmaster\u001b[m\u001b[33m, \u001b[m\u001b[1;31morigin/master\u001b[m\u001b[33m, \u001b[m\u001b[1;31morigin/HEAD\u001b[m\u001b[33m)\u001b[m\n",
            "Merge: 9ad4b2d 35e837c\n",
            "Author: JiaYe Mao <610275388@qq.com>\n",
            "Date:   Wed May 22 20:23:12 2019 +0100\n",
            "\n",
            "    Merge pull request #17 from msc-acse/gary-mao\n",
            "    \n",
            "    Gary mao\n",
            "\n",
            "\u001b[33mcommit 35e837ca5db7c8b6668d3fb6ae734a0ccff07124\u001b[m\u001b[33m (\u001b[m\u001b[1;31morigin/gary-mao\u001b[m\u001b[33m)\u001b[m\n",
            "Author: jiaye-mao <610275388@qq.com>\n",
            "Date:   Wed May 22 20:22:09 2019 +0100\n",
            "\n",
            "    add Log of momentum and weight_decay\n",
            "\n",
            "\u001b[33mcommit 529b1e0505c6bdfd25c18052bba80df712a387f5\u001b[m\n",
            "Merge: 6dbcf3e 9ad4b2d\n",
            "Author: jiaye-mao <610275388@qq.com>\n",
            "Date:   Wed May 22 20:09:05 2019 +0100\n",
            "\n",
            "    Merge branch 'master' into gary-mao\n",
            "\n",
            "\u001b[33mcommit 6dbcf3e52842e4b9dee3c31c97484549d6fc79e2\u001b[m\n",
            "Author: jiaye-mao <610275388@qq.com>\n",
            "Date:   Wed May 22 18:01:00 2019 +0100\n",
            "\n",
            "    add optimizer tests\n",
            "\n",
            "\u001b[33mcommit 9ad4b2d4ffb5b30818df485a8db0c4e10d34b849\u001b[m\u001b[33m (\u001b[m\u001b[1;31morigin/mattia\u001b[m\u001b[33m)\u001b[m\n",
            "Merge: 85604ce e85d775\n",
            "Author: mattia <mattguerri1@gmail.com>\n",
            "Date:   Wed May 22 17:42:46 2019 +0100\n",
            "\n",
            "    Merge pull request #16 from msc-acse/mattia\n",
            "    \n",
            "    Mattia\n",
            "\n",
            "\u001b[33mcommit e85d7750567c592d8a0d27ba73655048626901d6\u001b[m\n",
            "Author: mattiaguerri <mattguerri1@gmail.com>\n",
            "Date:   Wed May 22 17:40:22 2019 +0100\n",
            "\n",
            "    add heavy augmentation\n",
            "\n",
            "\u001b[33mcommit 267ce3540116e01ba79dc71e66fedba2cb9a5d8a\u001b[m\n",
            "Author: mattiaguerri <mattguerri1@gmail.com>\n",
            "Date:   Wed May 22 14:19:18 2019 +0100\n",
            "\n",
            "    add WD log\n",
            "\n",
            "\u001b[33mcommit 57eec8f10a69e1273dd54e766209936e9aaa98c7\u001b[m\n",
            "Merge: da838b9 ac7080b\n",
            "Author: jiaye-mao <610275388@qq.com>\n",
            "Date:   Wed May 22 10:30:45 2019 +0100\n",
            "\n",
            "    Merge branch 'richard' into gary-mao\n",
            "\n",
            "\u001b[33mcommit ac7080bcb1776ed72464e11568e59e40ab1432d8\u001b[m\n",
            "Author: Boyne272 <boynerichard@yahoo.co.uk>\n",
            "Date:   Wed May 22 10:29:14 2019 +0100\n",
            "\n",
            "    updated Log\n",
            "\n",
            "\u001b[33mcommit 85604ce0fb222b9ce7f76bed373da1d666705af8\u001b[m\n",
            "Merge: 11255be 4298748\n",
            "Author: mattia <mattguerri1@gmail.com>\n",
            "Date:   Wed May 22 10:08:52 2019 +0100\n",
            "\n",
            "    Merge pull request #15 from msc-acse/richard\n",
            "    \n",
            "    Richard\n",
            "\n",
            "\u001b[33mcommit 42987488d70a0513bd7471b9261a08cfa76fe12b\u001b[m\n",
            "Author: Boyne272 <boynerichard@yahoo.co.uk>\n",
            "Date:   Wed May 22 10:07:42 2019 +0100\n",
            "\n",
            "    added template notebook and some of yesterdays notebooks aswell\n",
            "\n",
            "\u001b[33mcommit 4c2dc54f6f26762ff2e30f3d65fb610639cbd08c\u001b[m\n",
            "Author: Boyne272 <boynerichard@yahoo.co.uk>\n",
            "Date:   Wed May 22 10:02:47 2019 +0100\n",
            "\n",
            "    minor bug fix in tools\n",
            "\n",
            "\u001b[33mcommit e2dd4dd43759b0f9bfc2b83435455d6fa7f82b25\u001b[m\n",
            "Author: Boyne272 <boynerichard@yahoo.co.uk>\n",
            "Date:   Wed May 22 09:55:19 2019 +0100\n",
            "\n",
            "    added a keep best model option to the wrapper\n",
            "\n",
            "\u001b[33mcommit caa47ba3cfcbc7168cc8bcd7ca267005ed657497\u001b[m\n",
            "Merge: eca6f00 11255be\n",
            "Author: mattiaguerri <mattguerri1@gmail.com>\n",
            "Date:   Wed May 22 09:26:23 2019 +0100\n",
            "\n",
            "    Merge branch 'master' into mattia\n",
            "\n",
            "\u001b[33mcommit da838b9a6dc52a830c8931cca895e301a193b9c6\u001b[m\n",
            "Merge: 4753c9e 6419425\n",
            "Author: jiaye-mao <610275388@qq.com>\n",
            "Date:   Wed May 22 09:20:44 2019 +0100\n",
            "\n",
            "    Merge branch 'richard' into gary-mao\n",
            "\n",
            "\u001b[33mcommit 11255be6ac67e1775d7bd1c25ff494ebc1003e73\u001b[m\n",
            "Merge: 57e627f 6419425\n",
            "Author: mattia <mattguerri1@gmail.com>\n",
            "Date:   Wed May 22 09:19:09 2019 +0100\n",
            "\n",
            "    Merge pull request #14 from msc-acse/richard\n",
            "    \n",
            "    tools, AlexNet and Clean\n",
            "\n",
            "\u001b[33mcommit 6419425fa78d5a76377b5408465b18fdf701de5c\u001b[m\n",
            "Author: Boyne272 <boynerichard@yahoo.co.uk>\n",
            "Date:   Wed May 22 07:41:16 2019 +0100\n",
            "\n",
            "    added DropAugBatch notebook\n",
            "\n",
            "\u001b[33mcommit 5dd5266332b00947a29e4d34611eb797a16df936\u001b[m\n",
            "Author: Boyne272 <boynerichard@yahoo.co.uk>\n",
            "Date:   Wed May 22 07:39:37 2019 +0100\n",
            "\n",
            "    added DropAugBatch and cleaned the models directory\n",
            "\n",
            "\u001b[33mcommit 809df0ad4df8bd6b0f073f176db8f1926f483f60\u001b[m\n",
            "Author: Boyne272 <boynerichard@yahoo.co.uk>\n",
            "Date:   Wed May 22 07:37:19 2019 +0100\n",
            "\n",
            "    updated and cleaned the log\n",
            "\n",
            "\u001b[33mcommit 874162a033c1abac5441b0fb319a133b8713015e\u001b[m\n",
            "Author: Boyne272 <boynerichard@yahoo.co.uk>\n",
            "Date:   Wed May 22 07:20:44 2019 +0100\n",
            "\n",
            "    added to tools\n",
            "    \n",
            "    now it saves the liveplot data too (incase the notebook crashes as it did for me), fixed the num parameters function and added a confusion matrix function\n",
            "\n",
            "\u001b[33mcommit 57e627fc07650a9550843467a30846707bc0f82b\u001b[m\n",
            "Merge: 6b527af e93bc22\n",
            "Author: mattia <mattguerri1@gmail.com>\n",
            "Date:   Tue May 21 18:20:54 2019 +0100\n",
            "\n",
            "    Merge pull request #13 from msc-acse/richard\n",
            "    \n",
            "    98.1% test accuracy confirmed\n",
            "\n",
            "\u001b[33mcommit e93bc22b8843f230623f0c73de8517c8d1167bbc\u001b[m\n",
            "Merge: 19b2c96 1074f15\n",
            "Author: Boyne272 <boynerichard@yahoo.co.uk>\n",
            "Date:   Tue May 21 18:18:50 2019 +0100\n",
            "\n",
            "    Merge branch 'uni_machine' of https://github.com/msc-acse/acse-8-miniproject-softmax into richard\n",
            "\n",
            "\u001b[33mcommit 1074f15acc6b7af2a07fc73647b6a6c0d6f69dc8\u001b[m\n",
            "Author: Boyne <rmb115@ic.ac.uk>\n",
            "Date:   Tue May 21 18:18:22 2019 +0100\n",
            "\n",
            "    added the slightly longer model\n",
            "\n",
            "\u001b[33mcommit 4753c9ea3d9919daf335c9af87147a4fbbd197a7\u001b[m\n",
            "Merge: 2e97d93 19b2c96\n",
            "Author: jiaye-mao <610275388@qq.com>\n",
            "Date:   Tue May 21 18:17:55 2019 +0100\n",
            "\n",
            "    Merge branch 'richard' into gary-mao\n",
            "\n",
            "\u001b[33mcommit 19b2c967281046e308d0993b1ae54d5e9909578b\u001b[m\n",
            "Merge: b32a31b b51c81c\n",
            "Author: Boyne272 <boynerichard@yahoo.co.uk>\n",
            "Date:   Tue May 21 18:15:53 2019 +0100\n",
            "\n",
            "    Merge branch 'uni_machine' of https://github.com/msc-acse/acse-8-miniproject-softmax into richard\n",
            "\n",
            "\u001b[33mcommit 2e97d93736c96c514e4a34eeaf912958e29610b5\u001b[m\n",
            "Author: jiaye-mao <610275388@qq.com>\n",
            "Date:   Tue May 21 18:15:47 2019 +0100\n",
            "\n",
            "    add google accounts\n",
            "\n",
            "\u001b[33mcommit b32a31bab75d65fed724a0d0f1b1cc9ccfcc570f\u001b[m\n",
            "Author: Boyne272 <boynerichard@yahoo.co.uk>\n",
            "Date:   Tue May 21 18:15:02 2019 +0100\n",
            "\n",
            "    create the ensemble\n",
            "\n",
            "\u001b[33mcommit eca6f005c4ad17ac75cdfc3f11865edaa9913b71\u001b[m\n",
            "Author: mattiaguerri <mattguerri1@gmail.com>\n",
            "Date:   Tue May 21 17:57:51 2019 +0100\n",
            "\n",
            "    AlexNet_drop fix\n",
            "\n",
            "\u001b[33mcommit b51c81cce4fd750a3a337f6bef4c09d4db6d85ec\u001b[m\n",
            "Merge: 1147c75 9580dfe\n",
            "Author: Boyne <rmb115@ic.ac.uk>\n",
            "Date:   Tue May 21 17:51:16 2019 +0100\n",
            "\n",
            "    Merge branch 'mattia' of https://github.com/msc-acse/acse-8-miniproject-softmax into uni_machine\n",
            "\n",
            "\u001b[33mcommit 1147c75709556e229a615f6be6db848c8ff4b597\u001b[m\n",
            "Author: Boyne <rmb115@ic.ac.uk>\n",
            "Date:   Tue May 21 17:51:03 2019 +0100\n",
            "\n",
            "    heavy aug added\n",
            "\n",
            "\u001b[33mcommit fdfcff963c6c962b3b99663a575c0f3514379ce7\u001b[m\n",
            "Merge: f82a2cf 9580dfe\n",
            "Author: Boyne272 <boynerichard@yahoo.co.uk>\n",
            "Date:   Tue May 21 17:45:47 2019 +0100\n",
            "\n",
            "    Merge branch 'mattia' of https://github.com/msc-acse/acse-8-miniproject-softmax into richard\n",
            "\n",
            "\u001b[33mcommit f82a2cf3c339adb737e5b82a306d1c5b53dc19a5\u001b[m\n",
            "Author: Boyne272 <boynerichard@yahoo.co.uk>\n",
            "Date:   Tue May 21 17:45:15 2019 +0100\n",
            "\n",
            "    failed run at alexnet drop crop rot\n",
            "\n",
            "\u001b[33mcommit 9580dfe4ecb9a5147957440d4b814ea3ee1d18da\u001b[m\n",
            "Author: mattiaguerri <mattguerri1@gmail.com>\n",
            "Date:   Tue May 21 17:44:19 2019 +0100\n",
            "\n",
            "    add results\n",
            "\n",
            "\u001b[33mcommit e60656822d5c801a3149cebde147f5b36827f141\u001b[m\n",
            "Merge: 38bb8b6 9f74a53\n",
            "Author: Boyne272 <boynerichard@yahoo.co.uk>\n",
            "Date:   Tue May 21 17:40:52 2019 +0100\n",
            "\n",
            "    account doc merge fix\n",
            "\n",
            "\u001b[33mcommit 9f74a5321a02bae40de61fa2997d4711478462f0\u001b[m\n",
            "Author: jiaye-mao <610275388@qq.com>\n",
            "Date:   Tue May 21 17:39:13 2019 +0100\n",
            "\n",
            "    modified logs\n",
            "\n",
            "\u001b[33mcommit 38bb8b6e7dd5e1c3dd16a3a4f43850f928870dc6\u001b[m\n",
            "Author: Boyne272 <boynerichard@yahoo.co.uk>\n",
            "Date:   Tue May 21 17:38:54 2019 +0100\n",
            "\n",
            "    made another google account\n",
            "\n",
            "\u001b[33mcommit 8f6bcc581fe0baee5e11aa98c8e2768cc25e9acb\u001b[m\n",
            "Merge: 1288aab a729913\n",
            "Author: jiaye-mao <610275388@qq.com>\n",
            "Date:   Tue May 21 16:44:26 2019 +0100\n",
            "\n",
            "    Merge branch 'mattia' of https://github.com/msc-acse/acse-8-miniproject-softmax into gary-mao\n",
            "\n",
            "\u001b[33mcommit 1288aab543cdefef970f600a8faaa0228239853e\u001b[m\n",
            "Author: jiaye-mao <610275388@qq.com>\n",
            "Date:   Tue May 21 16:44:10 2019 +0100\n",
            "\n",
            "    add log for AlexNet dropout\n",
            "\n",
            "\u001b[33mcommit 643b0459eba5d5adad969d001b6f2a55de98c0d3\u001b[m\n",
            "Author: jiaye-mao <610275388@qq.com>\n",
            "Date:   Tue May 21 16:21:55 2019 +0100\n",
            "\n",
            "    add colorjitter result to log\n",
            "\n",
            "\u001b[33mcommit 6b527af4a594f4f13c1097fe50fd106052bc560b\u001b[m\n",
            "Merge: ab971ba a729913\n",
            "Author: Richard Boyne <31725818+Boyne272@users.noreply.github.com>\n",
            "Date:   Tue May 21 15:57:56 2019 +0100\n",
            "\n",
            "    Merge pull request #12 from msc-acse/mattia\n",
            "\n",
            "\u001b[33mcommit a7299137737b908058ce5518e1a1a6e866b2eb89\u001b[m\n",
            "Merge: 338e816 1dc2984\n",
            "Author: mattiaguerri <mattguerri1@gmail.com>\n",
            "Date:   Tue May 21 15:54:21 2019 +0100\n",
            "\n",
            "    Merge branch 'richard' of https://github.com/msc-acse/acse-8-miniproject-softmax into mattia\n",
            "\n",
            "\u001b[33mcommit 338e816d7e95c00c7d7c552d8675d27b968d05b5\u001b[m\n",
            "Author: mattiaguerri <mattguerri1@gmail.com>\n",
            "Date:   Tue May 21 15:52:17 2019 +0100\n",
            "\n",
            "    restructure AlexNets\n",
            "\n",
            "\u001b[33mcommit 1dc2984cfc283f50f81b4ad80c74863ea941774b\u001b[m\n",
            "Merge: f024bd8 a252fd8\n",
            "Author: Boyne272 <boynerichard@yahoo.co.uk>\n",
            "Date:   Tue May 21 15:50:52 2019 +0100\n",
            "\n",
            "    Merge branch 'gary-mao' of https://github.com/msc-acse/acse-8-miniproject-softmax into richard\n",
            "\n",
            "\u001b[33mcommit f024bd8c9d00a0225c630d2c4bdbf7acbbd36b29\u001b[m\n",
            "Merge: b7b3eab d0015db\n",
            "Author: Boyne272 <boynerichard@yahoo.co.uk>\n",
            "Date:   Tue May 21 15:50:41 2019 +0100\n",
            "\n",
            "    Merge branch 'uni_machine' of https://github.com/msc-acse/acse-8-miniproject-softmax into richard\n",
            "\n",
            "\u001b[33mcommit b7b3eabf78b625c50aeb25d4e76206c44b187462\u001b[m\n",
            "Author: Boyne272 <boynerichard@yahoo.co.uk>\n",
            "Date:   Tue May 21 15:50:16 2019 +0100\n",
            "\n",
            "    made all old notebooks up to date with most recent data importing methods\n",
            "\n",
            "\u001b[33mcommit d0015db19428ecf2acdb591fbea4e157b03648ab\u001b[m\n",
            "Author: Boyne <rmb115@ic.ac.uk>\n",
            "Date:   Tue May 21 15:45:34 2019 +0100\n",
            "\n",
            "    AlexNet Data aug ran for 60 epoch, bet validate yet 99.3%\n",
            "\n",
            "\u001b[33mcommit a252fd847e95fc7148683d679baf1ee36f6faa01\u001b[m\n",
            "Author: jiaye-mao <610275388@qq.com>\n",
            "Date:   Tue May 21 15:40:25 2019 +0100\n",
            "\n",
            "    modified log, add AlexNet dropout and data augmentation log\n",
            "\n",
            "\u001b[33mcommit 703d37264e58fa5a9d12069f7111b96a34c5ba33\u001b[m\n",
            "Merge: 680273b 66fabd0\n",
            "Author: jiaye-mao <610275388@qq.com>\n",
            "Date:   Tue May 21 15:16:43 2019 +0100\n",
            "\n",
            "    Merge branch 'gary-mao' of https://github.com/msc-acse/acse-8-miniproject-softmax into gary-mao\n",
            "\n",
            "\u001b[33mcommit 66fabd06405b29828ea31ca42ef4c8b8419cbebd\u001b[m\n",
            "Author: Boyne272 <boynerichard@yahoo.co.uk>\n",
            "Date:   Tue May 21 15:03:28 2019 +0100\n",
            "\n",
            "    Updated the Logs for everything that has been done so far\n",
            "\n",
            "\u001b[33mcommit ab971ba82d3ba45e15e64ee9d5d4206283733796\u001b[m\n",
            "Merge: 591e1df 0ffe7f5\n",
            "Author: mattia <mattguerri1@gmail.com>\n",
            "Date:   Tue May 21 14:57:14 2019 +0100\n",
            "\n",
            "    Merge pull request #11 from msc-acse/mattia\n",
            "    \n",
            "    add alexnet dropout\n",
            "\n",
            "\u001b[33mcommit e583d603161957233feb68308bdb6d5f3a9248bf\u001b[m\n",
            "Merge: 301ae45 272ce8b\n",
            "Author: Boyne272 <boynerichard@yahoo.co.uk>\n",
            "Date:   Tue May 21 14:56:16 2019 +0100\n",
            "\n",
            "    Merge branch 'gary-mao' of https://github.com/msc-acse/acse-8-miniproject-softmax into gary-mao\n",
            "\n",
            "\u001b[33mcommit 0ffe7f5e0ac68b8db10a5d2a8856e6a7948d0e84\u001b[m\n",
            "Author: mattiaguerri <mattguerri1@gmail.com>\n",
            "Date:   Tue May 21 14:56:04 2019 +0100\n",
            "\n",
            "    add alexnet dropout\n",
            "\n",
            "\u001b[33mcommit 680273bcdbcaae910011e2197fb3c5f85eb98886\u001b[m\n",
            "Merge: 272ce8b 301ae45\n",
            "Author: jiaye-mao <610275388@qq.com>\n",
            "Date:   Tue May 21 14:51:15 2019 +0100\n",
            "\n",
            "    Merge branch 'richard' of https://github.com/msc-acse/acse-8-miniproject-softmax into gary-mao\n",
            "\n",
            "\u001b[33mcommit c65a0ab437067406faf48d3ecf010e61f793602f\u001b[m\n",
            "Author: Boyne <rmb115@ic.ac.uk>\n",
            "Date:   Tue May 21 14:50:33 2019 +0100\n",
            "\n",
            "    added the text doc with the tmp google accounts\n",
            "\n",
            "\u001b[33mcommit b01a0e3091e8496caef3d70689c8d94ea7a6ee41\u001b[m\n",
            "Merge: 8f9b0d8 591e1df\n",
            "Author: Boyne <rmb115@ic.ac.uk>\n",
            "Date:   Tue May 21 14:40:36 2019 +0100\n",
            "\n",
            "    Merge branch 'master' of https://github.com/msc-acse/acse-8-miniproject-softmax into uni_machine\n",
            "\n",
            "\u001b[33mcommit 591e1df8f3f4604084af0cbda0a66fb5faf82074\u001b[m\n",
            "Merge: 450e672 e41b7b3\n",
            "Author: mattia <mattguerri1@gmail.com>\n",
            "Date:   Tue May 21 14:40:19 2019 +0100\n",
            "\n",
            "    Merge pull request #10 from msc-acse/mattia\n",
            "    \n",
            "    Mattia\n",
            "\n",
            "\u001b[33mcommit 8f9b0d87a16f126a9f5183db556dbd32c1f154b7\u001b[m\n",
            "Merge: 450e672 301ae45\n",
            "Author: Boyne <rmb115@ic.ac.uk>\n",
            "Date:   Tue May 21 14:40:01 2019 +0100\n",
            "\n",
            "    Merge branch 'richard' of https://github.com/msc-acse/acse-8-miniproject-softmax into uni_machine\n",
            "\n",
            "\u001b[33mcommit e41b7b30e83ba000b7ec52f86b2743f41d3cea2f\u001b[m\n",
            "Author: mattiaguerri <mattguerri1@gmail.com>\n",
            "Date:   Tue May 21 14:38:33 2019 +0100\n",
            "\n",
            "    AlexNet DropOut\n",
            "\n",
            "\u001b[33mcommit 301ae4522f77df94a35219a97bba2fb567aec263\u001b[m\n",
            "Author: Boyne272 <boynerichard@yahoo.co.uk>\n",
            "Date:   Tue May 21 14:36:44 2019 +0100\n",
            "\n",
            "    added mouse jiggle\n",
            "\n",
            "\u001b[33mcommit 272ce8be31299d26ce2f8435a7ab9cb24fe5ca1f\u001b[m\n",
            "Author: jiaye-mao <610275388@qq.com>\n",
            "Date:   Tue May 21 14:32:37 2019 +0100\n",
            "\n",
            "    modified logs\n",
            "\n",
            "\u001b[33mcommit 53ce963e7ff3983eb118a70b7f44b110b55bffdb\u001b[m\n",
            "Merge: 017c440 450e672\n",
            "Author: mattiaguerri <mattguerri1@gmail.com>\n",
            "Date:   Tue May 21 14:24:05 2019 +0100\n",
            "\n",
            "    Merge branch 'master' into mattia\n",
            "    \n",
            "    fix tool\n",
            "\n",
            "\u001b[33mcommit 450e672e6c1b8eccf355552150bee2564cbfe96a\u001b[m\n",
            "Merge: 4ef4ff9 6e0faea\n",
            "Author: JiaYe Mao <610275388@qq.com>\n",
            "Date:   Tue May 21 13:58:11 2019 +0100\n",
            "\n",
            "    Merge pull request #9 from msc-acse/richard\n",
            "    \n",
            "    Both mine and Gary's models\n",
            "\n",
            "\u001b[33mcommit 6e0faea1cae0670b24a01c8b00757a1fbae1953a\u001b[m\n",
            "Author: jiaye-mao <610275388@qq.com>\n",
            "Date:   Tue May 21 13:51:54 2019 +0100\n",
            "\n",
            "    add result for LeNet5_basic\n",
            "\n",
            "\u001b[33mcommit 183efb4fdd149f8048441234eacee5e98840d9be\u001b[m\n",
            "Merge: 6b62c8a 6df00d6\n",
            "Author: jiaye-mao <610275388@qq.com>\n",
            "Date:   Tue May 21 13:50:14 2019 +0100\n",
            "\n",
            "    Merge branch 'richard' of https://github.com/msc-acse/acse-8-miniproject-softmax into gary-mao\n",
            "\n",
            "\u001b[33mcommit 6df00d62b118348bb87a664f30da7fe4402e34b6\u001b[m\n",
            "Author: Boyne272 <boynerichard@yahoo.co.uk>\n",
            "Date:   Tue May 21 13:50:02 2019 +0100\n",
            "\n",
            "    added augmentation LeNet5 results\n",
            "\n",
            "\u001b[33mcommit 5f863bfa94ff174926d870fe3b23b399bcc07f8f\u001b[m\n",
            "Author: Boyne272 <boynerichard@yahoo.co.uk>\n",
            "Date:   Tue May 21 13:40:20 2019 +0100\n",
            "\n",
            "    added to the log and edited tools to keep the same liveloss between runs\n",
            "\n",
            "\u001b[33mcommit 6b62c8a2bdd5a58094b4d4c8b39ddf4068905732\u001b[m\n",
            "Merge: 7cb366d 4ef4ff9\n",
            "Author: jiaye-mao <610275388@qq.com>\n",
            "Date:   Tue May 21 12:52:21 2019 +0100\n",
            "\n",
            "    Merge branch 'master' of https://github.com/msc-acse/acse-8-miniproject-softmax into gary-mao\n",
            "\n",
            "\u001b[33mcommit 017c440e301dc9433c6eed60addb6a6d4f9c3781\u001b[m\n",
            "Merge: 64dbb8b 687554f\n",
            "Author: mattiaguerri <mattguerri1@gmail.com>\n",
            "Date:   Tue May 21 12:49:56 2019 +0100\n",
            "\n",
            "    Merge branch 'mattia' of https://github.com/msc-acse/acse-8-miniproject-softmax into mattia\n",
            "\n",
            "\u001b[33mcommit 64dbb8bace552bba799597766edad4be19c2685b\u001b[m\n",
            "Author: mattiaguerri <mattguerri1@gmail.com>\n",
            "Date:   Tue May 21 12:46:49 2019 +0100\n",
            "\n",
            "    fix tools\n",
            "\n",
            "\u001b[33mcommit 1d345f0bbe5fc75f7ac5f58248f86a4322d6159e\u001b[m\n",
            "Author: Boyne272 <boynerichard@yahoo.co.uk>\n",
            "Date:   Tue May 21 12:45:32 2019 +0100\n",
            "\n",
            "    another tool fix\n",
            "\n",
            "\u001b[33mcommit c4237d81b073f755ee5f423321bf303b4d5b9e01\u001b[m\n",
            "Merge: 7cb366d 4ef4ff9\n",
            "Author: Boyne272 <boynerichard@yahoo.co.uk>\n",
            "Date:   Tue May 21 12:43:37 2019 +0100\n",
            "\n",
            "    Merge branch 'master' of https://github.com/msc-acse/acse-8-miniproject-softmax into richard\n",
            "\n",
            "\u001b[33mcommit 4ef4ff9cafe5363b7dcf1458e20a91d1fab34e73\u001b[m\n",
            "Merge: c9f71e0 687554f\n",
            "Author: Richard Boyne <31725818+Boyne272@users.noreply.github.com>\n",
            "Date:   Tue May 21 12:43:27 2019 +0100\n",
            "\n",
            "    Merge pull request #8 from msc-acse/mattia\n",
            "    \n",
            "    cheers for fixing ma bug Mattia\n",
            "\n",
            "\u001b[33mcommit 687554fe98991c28589e0000d3da3c4084dade5b\u001b[m\n",
            "Merge: 5d276d4 c9f71e0\n",
            "Author: Richard Boyne <31725818+Boyne272@users.noreply.github.com>\n",
            "Date:   Tue May 21 12:43:12 2019 +0100\n",
            "\n",
            "    Merge branch 'master' into mattia\n",
            "\n",
            "\u001b[33mcommit 5d276d4403408318b195eb56811242ab901a35d0\u001b[m\n",
            "Author: mattiaguerri <mattguerri1@gmail.com>\n",
            "Date:   Tue May 21 12:41:32 2019 +0100\n",
            "\n",
            "    fix tools\n",
            "\n",
            "\u001b[33mcommit 7cb366d755d8370f8d97b5188022ac954fe58c67\u001b[m\n",
            "Merge: 449b3d7 f26b4cf\n",
            "Author: Boyne272 <boynerichard@yahoo.co.uk>\n",
            "Date:   Tue May 21 12:34:31 2019 +0100\n",
            "\n",
            "    Merge branch 'gary-mao' of https://github.com/msc-acse/acse-8-miniproject-softmax into richard\n",
            "\n",
            "\u001b[33mcommit c9f71e0e7812c018e0a9a4bd0056d454a1f655cf\u001b[m\n",
            "Merge: e3f639f 449b3d7\n",
            "Author: JiaYe Mao <610275388@qq.com>\n",
            "Date:   Tue May 21 12:34:01 2019 +0100\n",
            "\n",
            "    Merge pull request #7 from msc-acse/richard\n",
            "    \n",
            "    Data augmentation working\n",
            "\n",
            "\u001b[33mcommit 449b3d7736556d13bfe90ebc84ba927547bbbbf6\u001b[m\n",
            "Author: Boyne272 <boynerichard@yahoo.co.uk>\n",
            "Date:   Tue May 21 12:31:40 2019 +0100\n",
            "\n",
            "    data augmentation working\n",
            "\n",
            "\u001b[33mcommit f26b4cf35b14b438597b5368e1d451cef950be8f\u001b[m\n",
            "Author: jiaye-mao <610275388@qq.com>\n",
            "Date:   Tue May 21 12:30:01 2019 +0100\n",
            "\n",
            "    add batch_norm for LeNet5\n",
            "\n",
            "\u001b[33mcommit 1ca872311f6843d39f58c02acb45e0cbd22430c8\u001b[m\n",
            "Author: Boyne272 <boynerichard@yahoo.co.uk>\n",
            "Date:   Tue May 21 12:18:52 2019 +0100\n",
            "\n",
            "    added max epoch finder to wrapper class\n",
            "\n",
            "\u001b[33mcommit 8924d6ac41b56653d4e1c5fd4bd2f65fe6f06177\u001b[m\n",
            "Author: mattiaguerri <mattguerri1@gmail.com>\n",
            "Date:   Tue May 21 12:16:01 2019 +0100\n",
            "\n",
            "    AlexNet fixed\n",
            "\n",
            "\u001b[33mcommit bb60c54e25534e786b6aabebf531a7969bff90bb\u001b[m\n",
            "Author: jiaye-mao <610275388@qq.com>\n",
            "Date:   Tue May 21 11:42:51 2019 +0100\n",
            "\n",
            "    complete dropout on last layer\n",
            "\n",
            "\u001b[33mcommit 4774ee868344442761e9649df511ef86f2ee43ec\u001b[m\n",
            "Merge: 206b254 e3f639f\n",
            "Author: mattiaguerri <mattguerri1@gmail.com>\n",
            "Date:   Tue May 21 11:08:23 2019 +0100\n",
            "\n",
            "    conflicts fixed\n",
            "\n",
            "\u001b[33mcommit 206b2549e686b71f5ca0ef90f7e49afc5305bc0f\u001b[m\n",
            "Author: mattiaguerri <mattguerri1@gmail.com>\n",
            "Date:   Tue May 21 11:04:58 2019 +0100\n",
            "\n",
            "    alexnet_sequential\n",
            "\n",
            "\u001b[33mcommit e3f639f322cf1190a23042e71b6bb902255fb8a0\u001b[m\n",
            "Merge: 81163aa 7c60030\n",
            "Author: JiaYe Mao <610275388@qq.com>\n",
            "Date:   Tue May 21 11:02:43 2019 +0100\n",
            "\n",
            "    Merge pull request #5 from msc-acse/richard\n",
            "    \n",
            "    New structure, LeNet5 working nicely\n",
            "\n",
            "\u001b[33mcommit 7c600306b20d4377072971509cd0af73059a739a\u001b[m\n",
            "Author: Boyne272 <boynerichard@yahoo.co.uk>\n",
            "Date:   Tue May 21 11:01:00 2019 +0100\n",
            "\n",
            "    fixed earlier notebooks\n",
            "\n",
            "\u001b[33mcommit 3f436aa091c69ecdabdf027cdbc0f9170665ae39\u001b[m\n",
            "Merge: 79c31e5 54d7ff8\n",
            "Author: jiaye-mao <610275388@qq.com>\n",
            "Date:   Tue May 21 10:59:51 2019 +0100\n",
            "\n",
            "    merge richard and add two dropout model\n",
            "\n",
            "\u001b[33mcommit 54d7ff8d92445ba5db7abaf268c4518deaebc695\u001b[m\n",
            "Author: Boyne272 <boynerichard@yahoo.co.uk>\n",
            "Date:   Tue May 21 10:54:32 2019 +0100\n",
            "\n",
            "    made a new better format with LeNet5 dropout\n",
            "\n",
            "\u001b[33mcommit bd027c9889146cc09f7f530c0a1488803ff6791f\u001b[m\n",
            "Author: Boyne272 <boynerichard@yahoo.co.uk>\n",
            "Date:   Tue May 21 10:39:47 2019 +0100\n",
            "\n",
            "    minor tweak to tools, removed networks.py\n",
            "\n",
            "\u001b[33mcommit 743cef8b5d356dfb07b22c3d6cfc46cf403587a5\u001b[m\n",
            "Author: mattiaguerri <mattguerri1@gmail.com>\n",
            "Date:   Tue May 21 09:50:49 2019 +0100\n",
            "\n",
            "    fix_alexnet\n",
            "\n",
            "\u001b[33mcommit 830d436acf0d1e297275686f5868737c62e631f5\u001b[m\n",
            "Author: mattiaguerri <mattguerri1@gmail.com>\n",
            "Date:   Tue May 21 09:42:02 2019 +0100\n",
            "\n",
            "    add AlexNet\n",
            "\n",
            "\u001b[33mcommit c93bb5bcda5b0ba904b0b12a4dc6e70158d74bb9\u001b[m\n",
            "Author: Boyne272 <boynerichard@yahoo.co.uk>\n",
            "Date:   Mon May 20 20:03:29 2019 +0100\n",
            "\n",
            "    edited tools and made the k folding document\n",
            "\n",
            "\u001b[33mcommit ead4e4de561ad7e3e6d887f6677cb9d93725c220\u001b[m\n",
            "Merge: b9c28eb 9b6c311\n",
            "Author: Boyne272 <boynerichard@yahoo.co.uk>\n",
            "Date:   Mon May 20 19:10:18 2019 +0100\n",
            "\n",
            "    matt is a god\n",
            "\n",
            "\u001b[33mcommit b9c28eb70a2d5ee0b4c83889d39536c017cd90e5\u001b[m\n",
            "Author: Boyne272 <boynerichard@yahoo.co.uk>\n",
            "Date:   Mon May 20 19:09:19 2019 +0100\n",
            "\n",
            "    mattia to the rescue\n",
            "\n",
            "\u001b[33mcommit 9b6c311f44765ddf2635fa91fa2c390fa912d7f3\u001b[m\n",
            "Author: Richard Boyne <31725818+Boyne272@users.noreply.github.com>\n",
            "Date:   Mon May 20 19:04:58 2019 +0100\n",
            "\n",
            "    4th times the charm\n",
            "\n",
            "\u001b[33mcommit 476294193fd97885b5a0fcf09aa2a26122e2d111\u001b[m\n",
            "Author: Richard Boyne <31725818+Boyne272@users.noreply.github.com>\n",
            "Date:   Mon May 20 19:02:53 2019 +0100\n",
            "\n",
            "    attempting to fix the bug 3rd time\n",
            "\n",
            "\u001b[33mcommit 2c3cbf4105bd10d5eab21b4970a0ffa3d8976bc3\u001b[m\n",
            "Author: Boyne272 <boynerichard@yahoo.co.uk>\n",
            "Date:   Mon May 20 18:59:40 2019 +0100\n",
            "\n",
            "    pleae work this time\n",
            "\n",
            "\u001b[33mcommit 8f4472362e1503437a35c63eef71660a5064ea4b\u001b[m\n",
            "Author: Boyne272 <boynerichard@yahoo.co.uk>\n",
            "Date:   Mon May 20 18:58:00 2019 +0100\n",
            "\n",
            "    tab bug fix in tools\n",
            "\n",
            "\u001b[33mcommit 8570d82952f8720e2477a62296a2d2547da482d5\u001b[m\n",
            "Author: Boyne272 <boynerichard@yahoo.co.uk>\n",
            "Date:   Mon May 20 18:55:43 2019 +0100\n",
            "\n",
            "    some additions to tools.py\n",
            "\n",
            "\u001b[33mcommit 79c31e5b4ff518020681acd39e6497835580b11f\u001b[m\n",
            "Author: jiaye-mao <610275388@qq.com>\n",
            "Date:   Mon May 20 17:46:35 2019 +0100\n",
            "\n",
            "    merge LeNet4_with_dropout to networks.py\n",
            "\n",
            "\u001b[33mcommit dbe827057baaa72d5a9d86cf3f9009d0a3c194b7\u001b[m\n",
            "Author: jiaye-mao <610275388@qq.com>\n",
            "Date:   Mon May 20 17:27:35 2019 +0100\n",
            "\n",
            "    fix bug\n",
            "\n",
            "\u001b[33mcommit 40b3ced4ca873fbcc930a9e583e1374301cdb190\u001b[m\n",
            "Author: jiaye-mao <610275388@qq.com>\n",
            "Date:   Mon May 20 16:32:24 2019 +0100\n",
            "\n",
            "    add dropout choices in each layer\n",
            "\n",
            "\u001b[33mcommit c3f69d288d2b22ddbf927508d77420638c5e9181\u001b[m\n",
            "Author: jiaye-mao <610275388@qq.com>\n",
            "Date:   Mon May 20 15:28:39 2019 +0100\n",
            "\n",
            "    fix bug\n",
            "\n",
            "\u001b[33mcommit 7266b7ce271d86f5abfab820f5abfaf2c892bf59\u001b[m\n",
            "Author: jiaye-mao <610275388@qq.com>\n",
            "Date:   Mon May 20 15:17:59 2019 +0100\n",
            "\n",
            "    fix bug\n",
            "\n",
            "\u001b[33mcommit 82fd2d7f48a6a8143b9c2e9e73f52af7449721d3\u001b[m\n",
            "Author: jiaye-mao <610275388@qq.com>\n",
            "Date:   Mon May 20 15:14:57 2019 +0100\n",
            "\n",
            "    add Dropout file\n",
            "\n",
            "\u001b[33mcommit 22a8e167166768b32d469f44784ff19c17815f94\u001b[m\n",
            "Author: jiaye-mao <610275388@qq.com>\n",
            "Date:   Mon May 20 14:42:09 2019 +0100\n",
            "\n",
            "    fix bug\n",
            "\n",
            "\u001b[33mcommit 1348faaf97baecc8b7cc9234351a3115a72ca910\u001b[m\n",
            "Author: jiaye-mao <610275388@qq.com>\n",
            "Date:   Mon May 20 14:14:53 2019 +0100\n",
            "\n",
            "    add dropout options\n",
            "\n",
            "\u001b[33mcommit d525bda0fdc7367c1d18d602177d5a2ac94d590e\u001b[m\n",
            "Author: mattiaguerri <mattguerri1@gmail.com>\n",
            "Date:   Mon May 20 13:57:08 2019 +0100\n",
            "\n",
            "    add LeNet6\n",
            "\n",
            "\u001b[33mcommit 81163aa999c710cf1e8a3c6656939ec01f144b58\u001b[m\n",
            "Merge: a558253 9bdbf8d\n",
            "Author: JiaYe Mao <610275388@qq.com>\n",
            "Date:   Mon May 20 12:55:37 2019 +0100\n",
            "\n",
            "    Merge pull request #3 from msc-acse/richard\n",
            "    \n",
            "    Finished LeNet5 first attempt\n",
            "\n",
            "\u001b[33mcommit 9bdbf8d80950c786786871c23c7f92f3b24cd18e\u001b[m\n",
            "Author: Boyne272 <boynerichard@yahoo.co.uk>\n",
            "Date:   Mon May 20 12:54:55 2019 +0100\n",
            "\n",
            "    added the LeNet5 notebook and updated view_data\n",
            "\n",
            "\u001b[33mcommit 57677bfbe6a9db23754deb3d2072975e797437db\u001b[m\n",
            "Author: Boyne272 <boynerichard@yahoo.co.uk>\n",
            "Date:   Mon May 20 12:45:35 2019 +0100\n",
            "\n",
            "    added first result and minor tool bug fix (for evalute)\n",
            "\n",
            "\u001b[33mcommit 080c46ab20898f0548a518a1b54f5809162ed4b5\u001b[m\n",
            "Merge: 441f2ce 1f84113\n",
            "Author: Boyne272 <boynerichard@yahoo.co.uk>\n",
            "Date:   Mon May 20 12:20:16 2019 +0100\n",
            "\n",
            "    Merge branch 'richard' of https://github.com/msc-acse/acse-8-miniproject-softmax into richard\n",
            "\n",
            "\u001b[33mcommit 441f2ce1d2932585f2e26250be41969bfe0eabfe\u001b[m\n",
            "Author: Boyne272 <boynerichard@yahoo.co.uk>\n",
            "Date:   Mon May 20 12:19:58 2019 +0100\n",
            "\n",
            "    fixed my gitignore\n",
            "\n",
            "\u001b[33mcommit faf124a9af6691eae52870f29e7fe3ac64a50e6c\u001b[m\n",
            "Author: Boyne272 <boynerichard@yahoo.co.uk>\n",
            "Date:   Mon May 20 12:19:21 2019 +0100\n",
            "\n",
            "    added save to tools and pickeled LeNet5 model\n",
            "\n",
            "\u001b[33mcommit cefe2c7302c32fe2b580d0e736e00546d193fb84\u001b[m\n",
            "Author: Boyne272 <boynerichard@yahoo.co.uk>\n",
            "Date:   Mon May 20 11:59:49 2019 +0100\n",
            "\n",
            "    minor bug fixs in networks and tools\n",
            "\n",
            "\u001b[33mcommit 1f841130f1119104582adff4c741933acb213617\u001b[m\n",
            "Author: Richard Boyne <31725818+Boyne272@users.noreply.github.com>\n",
            "Date:   Mon May 20 11:34:58 2019 +0100\n",
            "\n",
            "    Edited LeNet5 for single channel and one padding\n",
            "\n",
            "\u001b[33mcommit a5582535004864590b18227c50e45176a939b885\u001b[m\n",
            "Merge: 5a46710 4f4f33a\n",
            "Author: mattia <mattguerri1@gmail.com>\n",
            "Date:   Mon May 20 11:26:20 2019 +0100\n",
            "\n",
            "    Merge pull request #2 from msc-acse/richard\n",
            "    \n",
            "    Added view data notebook\n",
            "\n",
            "\u001b[33mcommit 4f4f33af4e23ff871b14e40b9162e3caaeab12d1\u001b[m\n",
            "Merge: a2852e3 5a46710\n",
            "Author: Boyne272 <boynerichard@yahoo.co.uk>\n",
            "Date:   Mon May 20 11:25:18 2019 +0100\n",
            "\n",
            "    Merge branch 'master' of https://github.com/msc-acse/acse-8-miniproject-softmax into richard\n",
            "\n",
            "\u001b[33mcommit a2852e3c11e43bc42769442d1826f1db95798450\u001b[m\n",
            "Author: Boyne272 <boynerichard@yahoo.co.uk>\n",
            "Date:   Mon May 20 11:24:41 2019 +0100\n",
            "\n",
            "    added the view data notebook\n",
            "\n",
            "\u001b[33mcommit 5a46710545cf420f5a4d822ac9936c1d8c307870\u001b[m\n",
            "Merge: 8b85c07 c9801c3\n",
            "Author: Richard Boyne <31725818+Boyne272@users.noreply.github.com>\n",
            "Date:   Mon May 20 11:00:12 2019 +0100\n",
            "\n",
            "    Merge pull request #1 from msc-acse/richard\n",
            "    \n",
            "    added the data for fast sync to google colab\n",
            "\n",
            "\u001b[33mcommit c9801c33031d29a5113514952bf507d8d36874f3\u001b[m\n",
            "Author: Boyne272 <boynerichard@yahoo.co.uk>\n",
            "Date:   Mon May 20 10:59:37 2019 +0100\n",
            "\n",
            "    added the data for fast sync to google colab\n",
            "\n",
            "\u001b[33mcommit 8b85c075009e69335169d120603f28182a02cd35\u001b[m\n",
            "Author: Richard Boyne <31725818+Boyne272@users.noreply.github.com>\n",
            "Date:   Mon May 20 10:20:42 2019 +0100\n",
            "\n",
            "    bug fix\n",
            "\n",
            "\u001b[33mcommit a94f01a6c1125d4c57ecbc01c215b50129b2a967\u001b[m\n",
            "Author: Richard Boyne <31725818+Boyne272@users.noreply.github.com>\n",
            "Date:   Mon May 20 09:53:44 2019 +0100\n",
            "\n",
            "    added training directory\n",
            "\n",
            "\u001b[33mcommit 71ae3fdde08d4c32fc4ee9a442ce50c0f25c53de\u001b[m\n",
            "Author: Boyne272 <boynerichard@yahoo.co.uk>\n",
            "Date:   Mon May 20 09:53:03 2019 +0100\n",
            "\n",
            "    added the training directory\n",
            "\n",
            "\u001b[33mcommit 7ca53cf32133f9b72934576f60171a536ef46319\u001b[m\n",
            "Author: Boyne272 <boynerichard@yahoo.co.uk>\n",
            "Date:   Mon May 20 09:51:48 2019 +0100\n",
            "\n",
            "    added model directory\n",
            "\n",
            "\u001b[33mcommit 2594a4fd1d8462341290a2c320ff3c2cff0bc767\u001b[m\n",
            "Author: Richard Boyne <31725818+Boyne272@users.noreply.github.com>\n",
            "Date:   Mon May 20 09:50:03 2019 +0100\n",
            "\n",
            "    added models directory to readme\n",
            "\n",
            "\u001b[33mcommit 44bff80a2fc72197f1b09812be6930cfc1e482c9\u001b[m\n",
            "Author: Richard Boyne <31725818+Boyne272@users.noreply.github.com>\n",
            "Date:   Mon May 20 09:47:19 2019 +0100\n",
            "\n",
            "    added the repo structure to the readme\n",
            "\n",
            "\u001b[33mcommit f1f8624f9058f65c84636bd3b477a632d1d3d327\u001b[m\n",
            "Author: Boyne272 <boynerichard@yahoo.co.uk>\n",
            "Date:   Mon May 20 09:42:26 2019 +0100\n",
            "\n",
            "    made the repo format\n",
            "\n",
            "\u001b[33mcommit 398e91e4a0dfc7a4fe91476e9635ddb2c5582a18\u001b[m\n",
            "Author: Boyne272 <boynerichard@yahoo.co.uk>\n",
            "Date:   Mon May 20 09:32:11 2019 +0100\n",
            "\n",
            "    git ignore to leave data directory\n",
            "\n",
            "\u001b[33mcommit 0caa0ae2168b370d0f3f3f1e995e88c1d5dc30a0\u001b[m\n",
            "Author: Boyne272 <boynerichard@yahoo.co.uk>\n",
            "Date:   Mon May 20 09:15:30 2019 +0100\n",
            "\n",
            "    added project specification\n",
            "\n",
            "\u001b[33mcommit 6cf527feefc65ccc401f5b7ef7cfbe731d1ad664\u001b[m\n",
            "Author: lukas.mosser <lukas.mosser@gmail.com>\n",
            "Date:   Mon May 20 08:16:53 2019 +0100\n",
            "\n",
            "    added readme\n",
            "\n",
            "\u001b[33mcommit fe8aa3315d13803796d926c7cb9c77a0b9583d2d\u001b[m\n",
            "Author: Lukas Mosser <lukas.mosser@stud.unileoben.ac.at>\n",
            "Date:   Mon May 20 08:14:33 2019 +0100\n",
            "\n",
            "    Initial commit\n"
          ],
          "name": "stdout"
        }
      ]
    },
    {
      "cell_type": "markdown",
      "metadata": {
        "id": "4iGLYFKY1CnP",
        "colab_type": "text"
      },
      "source": [
        "## Setup Imports"
      ]
    },
    {
      "cell_type": "markdown",
      "metadata": {
        "id": "EvJ4qN51_mPP",
        "colab_type": "text"
      },
      "source": [
        "Ipython imports and functions"
      ]
    },
    {
      "cell_type": "code",
      "metadata": {
        "id": "kdWZQ7cefhiI",
        "colab_type": "code",
        "outputId": "3fc95b43-4557-45ea-d712-c0457eccb1ce",
        "colab": {
          "base_uri": "https://localhost:8080/",
          "height": 1092
        }
      },
      "source": [
        "# ipython setup\n",
        "!pip install pycm livelossplot\n",
        "%pylab inline\n",
        "%load_ext autoreload\n",
        "%autoreload 2"
      ],
      "execution_count": 3,
      "outputs": [
        {
          "output_type": "stream",
          "text": [
            "Collecting pycm\n",
            "\u001b[?25l  Downloading https://files.pythonhosted.org/packages/35/86/14ebc41098fb81eb7e458d234622a9ce50857bb7d6f350b29765273c00f5/pycm-2.1-py2.py3-none-any.whl (45kB)\n",
            "\u001b[K     |████████████████████████████████| 51kB 5.3MB/s \n",
            "\u001b[?25hCollecting livelossplot\n",
            "  Downloading https://files.pythonhosted.org/packages/55/2b/4be0b3de085cfacf25fc1934f391bd85f90565db4f110f3f7b2220666b09/livelossplot-0.4.0-py3-none-any.whl\n",
            "Requirement already satisfied: numpy>=1.9.0 in /usr/local/lib/python3.6/dist-packages (from pycm) (1.16.3)\n",
            "Collecting art>=1.8 (from pycm)\n",
            "\u001b[?25l  Downloading https://files.pythonhosted.org/packages/6e/cb/12329146ae052d8cc797edec123f87ff54f349af34438d01f1ffe7fc6e1c/art-3.6-py2.py3-none-any.whl (489kB)\n",
            "\u001b[K     |████████████████████████████████| 491kB 25.6MB/s \n",
            "\u001b[?25hRequirement already satisfied: matplotlib in /usr/local/lib/python3.6/dist-packages (from livelossplot) (3.0.3)\n",
            "Requirement already satisfied: notebook in /usr/local/lib/python3.6/dist-packages (from livelossplot) (5.2.2)\n",
            "Collecting coverage>=4.1 (from art>=1.8->pycm)\n",
            "\u001b[?25l  Downloading https://files.pythonhosted.org/packages/f8/4e/f28fc04019bac97d301512d904992791569234a06826cd420f78fba9a361/coverage-4.5.3-cp36-cp36m-manylinux1_x86_64.whl (205kB)\n",
            "\u001b[K     |████████████████████████████████| 215kB 60.5MB/s \n",
            "\u001b[?25hRequirement already satisfied: pyparsing!=2.0.4,!=2.1.2,!=2.1.6,>=2.0.1 in /usr/local/lib/python3.6/dist-packages (from matplotlib->livelossplot) (2.4.0)\n",
            "Requirement already satisfied: cycler>=0.10 in /usr/local/lib/python3.6/dist-packages (from matplotlib->livelossplot) (0.10.0)\n",
            "Requirement already satisfied: python-dateutil>=2.1 in /usr/local/lib/python3.6/dist-packages (from matplotlib->livelossplot) (2.5.3)\n",
            "Requirement already satisfied: kiwisolver>=1.0.1 in /usr/local/lib/python3.6/dist-packages (from matplotlib->livelossplot) (1.1.0)\n",
            "Requirement already satisfied: jinja2 in /usr/local/lib/python3.6/dist-packages (from notebook->livelossplot) (2.10.1)\n",
            "Requirement already satisfied: nbconvert in /usr/local/lib/python3.6/dist-packages (from notebook->livelossplot) (5.5.0)\n",
            "Requirement already satisfied: traitlets>=4.2.1 in /usr/local/lib/python3.6/dist-packages (from notebook->livelossplot) (4.3.2)\n",
            "Requirement already satisfied: terminado>=0.3.3; sys_platform != \"win32\" in /usr/local/lib/python3.6/dist-packages (from notebook->livelossplot) (0.8.2)\n",
            "Requirement already satisfied: jupyter-client in /usr/local/lib/python3.6/dist-packages (from notebook->livelossplot) (5.2.4)\n",
            "Requirement already satisfied: ipykernel in /usr/local/lib/python3.6/dist-packages (from notebook->livelossplot) (4.6.1)\n",
            "Requirement already satisfied: jupyter-core in /usr/local/lib/python3.6/dist-packages (from notebook->livelossplot) (4.4.0)\n",
            "Requirement already satisfied: tornado>=4 in /usr/local/lib/python3.6/dist-packages (from notebook->livelossplot) (4.5.3)\n",
            "Requirement already satisfied: nbformat in /usr/local/lib/python3.6/dist-packages (from notebook->livelossplot) (4.4.0)\n",
            "Requirement already satisfied: ipython-genutils in /usr/local/lib/python3.6/dist-packages (from notebook->livelossplot) (0.2.0)\n",
            "Requirement already satisfied: six in /usr/local/lib/python3.6/dist-packages (from cycler>=0.10->matplotlib->livelossplot) (1.12.0)\n",
            "Requirement already satisfied: setuptools in /usr/local/lib/python3.6/dist-packages (from kiwisolver>=1.0.1->matplotlib->livelossplot) (41.0.1)\n",
            "Requirement already satisfied: MarkupSafe>=0.23 in /usr/local/lib/python3.6/dist-packages (from jinja2->notebook->livelossplot) (1.1.1)\n",
            "Requirement already satisfied: entrypoints>=0.2.2 in /usr/local/lib/python3.6/dist-packages (from nbconvert->notebook->livelossplot) (0.3)\n",
            "Requirement already satisfied: bleach in /usr/local/lib/python3.6/dist-packages (from nbconvert->notebook->livelossplot) (3.1.0)\n",
            "Requirement already satisfied: testpath in /usr/local/lib/python3.6/dist-packages (from nbconvert->notebook->livelossplot) (0.4.2)\n",
            "Requirement already satisfied: defusedxml in /usr/local/lib/python3.6/dist-packages (from nbconvert->notebook->livelossplot) (0.6.0)\n",
            "Requirement already satisfied: mistune>=0.8.1 in /usr/local/lib/python3.6/dist-packages (from nbconvert->notebook->livelossplot) (0.8.4)\n",
            "Requirement already satisfied: pandocfilters>=1.4.1 in /usr/local/lib/python3.6/dist-packages (from nbconvert->notebook->livelossplot) (1.4.2)\n",
            "Requirement already satisfied: pygments in /usr/local/lib/python3.6/dist-packages (from nbconvert->notebook->livelossplot) (2.1.3)\n",
            "Requirement already satisfied: decorator in /usr/local/lib/python3.6/dist-packages (from traitlets>=4.2.1->notebook->livelossplot) (4.4.0)\n",
            "Requirement already satisfied: ptyprocess; os_name != \"nt\" in /usr/local/lib/python3.6/dist-packages (from terminado>=0.3.3; sys_platform != \"win32\"->notebook->livelossplot) (0.6.0)\n",
            "Requirement already satisfied: pyzmq>=13 in /usr/local/lib/python3.6/dist-packages (from jupyter-client->notebook->livelossplot) (17.0.0)\n",
            "Requirement already satisfied: ipython>=4.0.0 in /usr/local/lib/python3.6/dist-packages (from ipykernel->notebook->livelossplot) (5.5.0)\n",
            "Requirement already satisfied: jsonschema!=2.5.0,>=2.4 in /usr/local/lib/python3.6/dist-packages (from nbformat->notebook->livelossplot) (2.6.0)\n",
            "Requirement already satisfied: webencodings in /usr/local/lib/python3.6/dist-packages (from bleach->nbconvert->notebook->livelossplot) (0.5.1)\n",
            "Requirement already satisfied: simplegeneric>0.8 in /usr/local/lib/python3.6/dist-packages (from ipython>=4.0.0->ipykernel->notebook->livelossplot) (0.8.1)\n",
            "Requirement already satisfied: prompt-toolkit<2.0.0,>=1.0.4 in /usr/local/lib/python3.6/dist-packages (from ipython>=4.0.0->ipykernel->notebook->livelossplot) (1.0.16)\n",
            "Requirement already satisfied: pickleshare in /usr/local/lib/python3.6/dist-packages (from ipython>=4.0.0->ipykernel->notebook->livelossplot) (0.7.5)\n",
            "Requirement already satisfied: pexpect; sys_platform != \"win32\" in /usr/local/lib/python3.6/dist-packages (from ipython>=4.0.0->ipykernel->notebook->livelossplot) (4.7.0)\n",
            "Requirement already satisfied: wcwidth in /usr/local/lib/python3.6/dist-packages (from prompt-toolkit<2.0.0,>=1.0.4->ipython>=4.0.0->ipykernel->notebook->livelossplot) (0.1.7)\n",
            "\u001b[31mERROR: datascience 0.10.6 has requirement coverage==3.7.1, but you'll have coverage 4.5.3 which is incompatible.\u001b[0m\n",
            "\u001b[31mERROR: datascience 0.10.6 has requirement folium==0.2.1, but you'll have folium 0.8.3 which is incompatible.\u001b[0m\n",
            "\u001b[31mERROR: coveralls 0.5 has requirement coverage<3.999,>=3.6, but you'll have coverage 4.5.3 which is incompatible.\u001b[0m\n",
            "Installing collected packages: coverage, art, pycm, livelossplot\n",
            "  Found existing installation: coverage 3.7.1\n",
            "    Uninstalling coverage-3.7.1:\n",
            "      Successfully uninstalled coverage-3.7.1\n",
            "Successfully installed art-3.6 coverage-4.5.3 livelossplot-0.4.0 pycm-2.1\n",
            "Populating the interactive namespace from numpy and matplotlib\n"
          ],
          "name": "stdout"
        }
      ]
    },
    {
      "cell_type": "markdown",
      "metadata": {
        "id": "5gKjhgzi_qph",
        "colab_type": "text"
      },
      "source": [
        "Module imports"
      ]
    },
    {
      "cell_type": "code",
      "metadata": {
        "id": "aAqIjtvZiVfG",
        "colab_type": "code",
        "colab": {}
      },
      "source": [
        "# imports\n",
        "from sklearn.metrics import accuracy_score\n",
        "from sklearn.model_selection import StratifiedShuffleSplit, StratifiedKFold\n",
        "from torchvision.transforms import Compose, ToTensor, Normalize, RandomRotation, RandomCrop, ToPILImage, Pad, RandomAffine, ColorJitter\n",
        "\n",
        "from livelossplot import PlotLosses\n",
        "from pycm import *\n",
        "\n",
        "import torch\n",
        "import torch.nn as nn\n",
        "import torch.nn.functional as F\n",
        "from torch.utils.data import TensorDataset, DataLoader\n",
        "import torchvision.transforms as transforms\n",
        "\n",
        "# imports from github\n",
        "from tools import *"
      ],
      "execution_count": 0,
      "outputs": []
    },
    {
      "cell_type": "markdown",
      "metadata": {
        "id": "-VOT6jtg_uLq",
        "colab_type": "text"
      },
      "source": [
        "Check runtime device"
      ]
    },
    {
      "cell_type": "code",
      "metadata": {
        "id": "xY6dnhJut2N1",
        "colab_type": "code",
        "outputId": "6d043215-3b34-4042-f0df-494a73a6ad6b",
        "colab": {
          "base_uri": "https://localhost:8080/",
          "height": 35
        }
      },
      "source": [
        "# check running device\n",
        "device = 'cpu'\n",
        "if torch.cuda.device_count() > 0 and torch.cuda.is_available():\n",
        "    print(\"Cuda installed! Running on GPU!\")\n",
        "    device = 'cuda'\n",
        "else:\n",
        "    print(\"No GPU available!\")"
      ],
      "execution_count": 5,
      "outputs": [
        {
          "output_type": "stream",
          "text": [
            "Cuda installed! Running on GPU!\n"
          ],
          "name": "stdout"
        }
      ]
    },
    {
      "cell_type": "markdown",
      "metadata": {
        "id": "FbfBvaS9lQwP",
        "colab_type": "text"
      },
      "source": [
        "## Load Data"
      ]
    },
    {
      "cell_type": "code",
      "metadata": {
        "id": "fbKRK5YNidaN",
        "colab_type": "code",
        "colab": {}
      },
      "source": [
        "train_feat = np.load(\"/content/data/kmnist-train-imgs.npy\")\n",
        "train_targ = np.load(\"/content/data/kmnist-train-labels.npy\")\n",
        "test_feat = np.load(\"/content/data/kmnist-test-imgs.npy\")"
      ],
      "execution_count": 0,
      "outputs": []
    },
    {
      "cell_type": "code",
      "metadata": {
        "id": "wuQSmqZ4oLdT",
        "colab_type": "code",
        "outputId": "65b62674-09c5-4fde-d659-2f96af27702f",
        "colab": {
          "base_uri": "https://localhost:8080/",
          "height": 399
        }
      },
      "source": [
        "# check what the data looks like\n",
        "for data, data_name in zip([train_targ, test_feat, train_feat], \n",
        "                           [\"train_targ\", \"test_feat\", \"train_feat\"]):\n",
        "    \n",
        "    print(data_name)\n",
        "    \n",
        "    for name, code in zip([\"shape\", \"mean\", \"std\", \"max\", \"min\", \"type\", \"cuda\"],\n",
        "                          [\"data.shape\", \"data.mean()\", \"data.std()\", \n",
        "                           \"data.max()\", \"data.min()\", \"data.dtype\"]):\n",
        "        try:\n",
        "            exec(\"print('\\t', name, '\\t:\\t', \" + code + \")\")\n",
        "        except:\n",
        "            print(\"\\t\", name, \"\\t:\\t undefined\")"
      ],
      "execution_count": 7,
      "outputs": [
        {
          "output_type": "stream",
          "text": [
            "train_targ\n",
            "\t shape \t:\t (60000,)\n",
            "\t mean \t:\t 4.5\n",
            "\t std \t:\t 2.8722813232690143\n",
            "\t max \t:\t 9\n",
            "\t min \t:\t 0\n",
            "\t type \t:\t uint8\n",
            "test_feat\n",
            "\t shape \t:\t (10000, 28, 28)\n",
            "\t mean \t:\t 47.06204145408163\n",
            "\t std \t:\t 87.1110021912918\n",
            "\t max \t:\t 255\n",
            "\t min \t:\t 0\n",
            "\t type \t:\t uint8\n",
            "train_feat\n",
            "\t shape \t:\t (60000, 28, 28)\n",
            "\t mean \t:\t 48.89934757653061\n",
            "\t std \t:\t 88.82742173832395\n",
            "\t max \t:\t 255\n",
            "\t min \t:\t 0\n",
            "\t type \t:\t uint8\n"
          ],
          "name": "stdout"
        }
      ]
    },
    {
      "cell_type": "markdown",
      "metadata": {
        "id": "2bJ96jN0_KMk",
        "colab_type": "text"
      },
      "source": [
        "Now set our parameters"
      ]
    },
    {
      "cell_type": "code",
      "metadata": {
        "id": "Jo-vgjQzIIEB",
        "colab_type": "code",
        "colab": {}
      },
      "source": [
        "# Other Hyperparameters\n",
        "Seed = 42\n",
        "Learning_Rate = 1e-2\n",
        "Momentum = 0.5\n",
        "Batch_Size = 64\n",
        "Test_Batch_Size = 1000\n",
        "Number_of_Epochs = 10"
      ],
      "execution_count": 0,
      "outputs": []
    },
    {
      "cell_type": "markdown",
      "metadata": {
        "id": "6X4oeAD6suKa",
        "colab_type": "text"
      },
      "source": [
        "## Data pre-processing\n",
        "\n",
        "Define the data set creation function with the transformations."
      ]
    },
    {
      "cell_type": "code",
      "metadata": {
        "id": "3FbwEr7VBgPL",
        "colab_type": "code",
        "colab": {}
      },
      "source": [
        "def create_dataset(train, targ, t_id, v_id):\n",
        "    \n",
        "    # make trgets torch type and shape\n",
        "    targ = torch.from_numpy(targ)\n",
        "    targ = targ.long()\n",
        "    # (features are changed in the transofrmations)\n",
        "    \n",
        "    # seperate the data\n",
        "    t_feat = train[t_id]\n",
        "    v_feat = train[v_id]\n",
        "    t_targ = targ[t_id]\n",
        "    v_targ = targ[v_id]\n",
        "    \n",
        "    # find mean and std\n",
        "    mean, std = np.mean(t_feat)/255., np.std(t_feat)/255.\n",
        "    print(\"avg:\", mean, \"std:\", std)\n",
        "    \n",
        "    # includes data augmentation\n",
        "    train_transform = Compose([\n",
        "        ToPILImage(),\n",
        "        RandomCrop(26),\n",
        "        Pad(1),\n",
        "        RandomRotation(15),\n",
        "        RandomAffine(0, translate=(0.1, 0.1), scale=None, shear=15, resample=False, fillcolor=0),\n",
        "        ColorJitter(brightness=0.5, contrast=0.5, saturation=0, hue=0),\n",
        "        ToTensor(),\n",
        "        Normalize(mean=[mean], std=[std]),\n",
        "        ])\n",
        "\n",
        "    # only want to normalize here\n",
        "    validation_test_transform = Compose([\n",
        "        ToTensor(),\n",
        "        Normalize(mean=[mean], std=[std]),\n",
        "        ])\n",
        "    \n",
        "    # create the custom datasets\n",
        "    train_set = CustomImageTensorDataset(t_feat, t_targ, transform=train_transform)\n",
        "    valid_set = CustomImageTensorDataset(v_feat, v_targ, transform=validation_test_transform)\n",
        "\n",
        "    return train_set, valid_set"
      ],
      "execution_count": 0,
      "outputs": []
    },
    {
      "cell_type": "markdown",
      "metadata": {
        "id": "k1JQdVV75EMb",
        "colab_type": "text"
      },
      "source": [
        "Create the indicies for the data split"
      ]
    },
    {
      "cell_type": "code",
      "metadata": {
        "id": "c9gJPji_BgTY",
        "colab_type": "code",
        "outputId": "a7413561-ce71-48e3-ce3e-de4b6f1fbfc7",
        "colab": {
          "base_uri": "https://localhost:8080/",
          "height": 74
        }
      },
      "source": [
        "# do the split\n",
        "n_folds = 10\n",
        "shuffler =  StratifiedKFold(n_splits=n_folds, random_state=42, shuffle=True)\n",
        "shuffler = shuffler.split(train_feat, train_targ)\n",
        "\n",
        "# get the indices\n",
        "indices = np.array(list(shuffler))\n",
        "print(indices.shape)\n",
        "print([i.shape for i in indices.flatten()])"
      ],
      "execution_count": 14,
      "outputs": [
        {
          "output_type": "stream",
          "text": [
            "(10, 2)\n",
            "[(54000,), (6000,), (54000,), (6000,), (54000,), (6000,), (54000,), (6000,), (54000,), (6000,), (54000,), (6000,), (54000,), (6000,), (54000,), (6000,), (54000,), (6000,), (54000,), (6000,)]\n"
          ],
          "name": "stdout"
        }
      ]
    },
    {
      "cell_type": "markdown",
      "metadata": {
        "id": "ltOvsiW1_dcO",
        "colab_type": "text"
      },
      "source": [
        "Divide data into n_fold sets"
      ]
    },
    {
      "cell_type": "code",
      "metadata": {
        "id": "1WlZTchm7udb",
        "colab_type": "code",
        "outputId": "42ca2e0f-746f-4944-f3fe-7a91d85c4222",
        "colab": {
          "base_uri": "https://localhost:8080/",
          "height": 72
        }
      },
      "source": [
        "data_loders = []\n",
        "for t_index, v_index in indices[:2]:\n",
        "    t_set, v_set = create_dataset(train_feat, train_targ, t_index, v_index)\n",
        "    data_loders.append([ DataLoader(t_set, batch_size=Batch_Size, shuffle=True),\n",
        "                         DataLoader(v_set, batch_size=Test_Batch_Size, shuffle=False)])\n",
        "    \n",
        "data_loders = np.array(data_loders)\n",
        "data_loders.shape"
      ],
      "execution_count": 15,
      "outputs": [
        {
          "output_type": "stream",
          "text": [
            "avg: 0.19193742228372832 std: 0.3484717402643013\n",
            "avg: 0.1917338998562388 std: 0.34832169306624683\n"
          ],
          "name": "stdout"
        },
        {
          "output_type": "execute_result",
          "data": {
            "text/plain": [
              "(2, 2)"
            ]
          },
          "metadata": {
            "tags": []
          },
          "execution_count": 15
        }
      ]
    },
    {
      "cell_type": "markdown",
      "metadata": {
        "id": "01WhI7nN6YSD",
        "colab_type": "text"
      },
      "source": [
        "Look at the data to check it is all still good"
      ]
    },
    {
      "cell_type": "code",
      "metadata": {
        "id": "ni4_DIKrAzlr",
        "colab_type": "code",
        "outputId": "5e9e4d22-1e62-4afc-bc68-67f293abbebf",
        "colab": {
          "base_uri": "https://localhost:8080/",
          "height": 1115
        }
      },
      "source": [
        "train_loader = data_loders[0, 0]\n",
        "for X, y in train_loader:\n",
        "    \n",
        "    print(\"Loaded Feature Shape:\", X.size())\n",
        "    print(\"Loaded Target Shape:\", y.size())\n",
        "    print(\"batch mean:\", X.mean())\n",
        "    print(\"batch std:\", X.std())\n",
        "    \n",
        "    fig, axs = plt.subplots(8, 8, figsize=[18, 18])\n",
        "    \n",
        "    for img, lab, ax in zip(X, y, axs.flatten()):\n",
        "        ax.imshow(img[0], cmap='gray')\n",
        "        ax.axis(\"off\")\n",
        "        ax.set(title=str(lab.item()))\n",
        "    break"
      ],
      "execution_count": 16,
      "outputs": [
        {
          "output_type": "stream",
          "text": [
            "Loaded Feature Shape: torch.Size([64, 1, 28, 28])\n",
            "Loaded Target Shape: torch.Size([64])\n",
            "batch mean: tensor(-0.0727)\n",
            "batch std: tensor(0.8365)\n"
          ],
          "name": "stdout"
        },
        {
          "output_type": "display_data",
          "data": {
            "image/png": "[encoded data removed]",
            "text/plain": [
              "<Figure size 1296x1296 with 64 Axes>"
            ]
          },
          "metadata": {
            "tags": []
          }
        }
      ]
    },
    {
      "cell_type": "markdown",
      "metadata": {
        "id": "O_9-58fa7dOH",
        "colab_type": "text"
      },
      "source": [
        "What about the standard deviation and mean. Here I manually do the transformation on each sample and look at the transformed data mean, std and shape."
      ]
    },
    {
      "cell_type": "code",
      "metadata": {
        "id": "E1QgG05T9hMl",
        "colab_type": "code",
        "outputId": "2f5abf72-ea9a-4b3b-df4f-eed2d64551cd",
        "colab": {
          "base_uri": "https://localhost:8080/",
          "height": 35
        }
      },
      "source": [
        "norm = data_loders[0, 1].dataset.transform\n",
        "manual = [norm(t) for t in train_feat]\n",
        "manual = torch.stack(manual)\n",
        "manual.mean(), manual.std(), manual.size()"
      ],
      "execution_count": 17,
      "outputs": [
        {
          "output_type": "execute_result",
          "data": {
            "text/plain": [
              "(tensor(-0.0005), tensor(0.9996), torch.Size([60000, 1, 28, 28]))"
            ]
          },
          "metadata": {
            "tags": []
          },
          "execution_count": 17
        }
      ]
    },
    {
      "cell_type": "markdown",
      "metadata": {
        "id": "jDRzG_60rYQL",
        "colab_type": "text"
      },
      "source": [
        "## Define the Network"
      ]
    },
    {
      "cell_type": "code",
      "metadata": {
        "id": "XHJdfip6rXhX",
        "colab_type": "code",
        "colab": {}
      },
      "source": [
        "# AlexNet with 7 conv layers instead of 5.\n",
        "class AlexNet_half(nn.Module):\n",
        "    \"\"\"\n",
        "    Neural Network inspired on Alexnet.\n",
        "    \"\"\"\n",
        "\n",
        "    def __init__(self, bias=True):\n",
        "        \"setup the neural network\"\n",
        "        \n",
        "        # initalise\n",
        "        super(AlexNet_half, self).__init__()\n",
        "\n",
        "        # create the activation function\n",
        "        act = nn.ReLU()\n",
        "        \n",
        "        self.convolutional = nn.Sequential(\n",
        "            nn.Conv2d(1, 24, padding=1, kernel_size=4, stride=1, bias=bias), act,\n",
        "            nn.Conv2d(24, 64, padding=2, kernel_size=5, stride=1, bias=bias), act,\n",
        "            nn.Conv2d(64, 64, padding=2, kernel_size=5, stride=1, bias=bias), act,\n",
        "            nn.Conv2d(64, 96, padding=0, kernel_size=4, stride=1, bias=bias), act,\n",
        "            nn.MaxPool2d(kernel_size=4, padding=2, stride=2), act,\n",
        "            nn.Conv2d(96, 96, padding=2, kernel_size=5, stride=1, bias=bias), act,\n",
        "            nn.Conv2d(96, 96, padding=1, kernel_size=3, stride=1, bias=bias), act,\n",
        "            nn.Conv2d(96, 64, padding=1, kernel_size=3, stride=1, bias=bias), act,\n",
        "            nn.MaxPool2d(kernel_size=3, stride=2), act)\n",
        "        \n",
        "        self.full_connected = nn.Sequential(\n",
        "            nn.Linear(2304, 512, bias=bias), act,\n",
        "            nn.Dropout(),\n",
        "            nn.Linear(512, 256, bias=bias), act,\n",
        "            nn.Dropout(),\n",
        "            nn.Linear(256, 10, bias=bias)\n",
        "        )\n",
        "\n",
        "    def flatten(self, T):\n",
        "        \"flatten the image for the fully connected layers\"\n",
        "        return T.view(-1, T.size(1)*T.size(2)*T.size(3))\n",
        "        \n",
        "        \n",
        "    def forward(self, x):\n",
        "        \"Pass through the neural network\"\n",
        "        x = self.convolutional(x)\n",
        "        x = self.flatten(x)\n",
        "        x = self.full_connected(x)\n",
        "        return x"
      ],
      "execution_count": 0,
      "outputs": []
    },
    {
      "cell_type": "markdown",
      "metadata": {
        "id": "SpzSJeoy8wuu",
        "colab_type": "text"
      },
      "source": [
        "## Model Training"
      ]
    },
    {
      "cell_type": "code",
      "metadata": {
        "id": "sCfmC3Myxyzk",
        "colab_type": "code",
        "outputId": "2f807906-6495-4f6a-e664-b354538acb70",
        "colab": {
          "base_uri": "https://localhost:8080/",
          "height": 128
        }
      },
      "source": [
        "from google.colab import drive\n",
        "drive.mount('/content/gdrive/')"
      ],
      "execution_count": 19,
      "outputs": [
        {
          "output_type": "stream",
          "text": [
            "Go to this URL in a browser: https://accounts.google.com/o/oauth2/auth?client_id=947318989803-6bn6qk8qdgf4n4g3pfee6491hc0brc4i.apps.googleusercontent.com&redirect_uri=urn%3Aietf%3Awg%3Aoauth%3A2.0%3Aoob&scope=email%20https%3A%2F%2Fwww.googleapis.com%2Fauth%2Fdocs.test%20https%3A%2F%2Fwww.googleapis.com%2Fauth%2Fdrive%20https%3A%2F%2Fwww.googleapis.com%2Fauth%2Fdrive.photos.readonly%20https%3A%2F%2Fwww.googleapis.com%2Fauth%2Fpeopleapi.readonly&response_type=code\n",
            "\n",
            "Enter your authorization code:\n",
            "··········\n",
            "Mounted at /content/gdrive/\n"
          ],
          "name": "stdout"
        }
      ]
    },
    {
      "cell_type": "code",
      "metadata": {
        "id": "l-04i0cKkxKT",
        "colab_type": "code",
        "outputId": "1455d3d7-5b85-4b9a-cb36-a11fe65bb4fe",
        "colab": {
          "base_uri": "https://localhost:8080/",
          "height": 472
        }
      },
      "source": [
        "set_seed(Seed)\n",
        "model = AlexNet_half().to(device)\n",
        "optimizer = torch.optim.SGD(model.parameters(), lr=Learning_Rate, momentum=Momentum)\n",
        "criterion = nn.CrossEntropyLoss()\n",
        "train_loader, validate_loader = data_loders[0]\n",
        "\n",
        "wrapper = train_wrapper(model, optimizer, train_loader, validate_loader, \n",
        "                        criterion=criterion, device=device)\n",
        "wrapper.train_model(Number_of_Epochs)"
      ],
      "execution_count": 20,
      "outputs": [
        {
          "output_type": "display_data",
          "data": {
            "image/png": "[encoded data removed]",
            "text/plain": [
              "<Figure size 864x576 with 2 Axes>"
            ]
          },
          "metadata": {
            "tags": []
          }
        },
        {
          "output_type": "stream",
          "text": [
            "log loss:\n",
            "training   (min:    0.330, max:    2.303, cur:    0.330)\n",
            "validation (min:    0.118, max:    2.303, cur:    0.118)\n",
            "\n",
            "accuracy:\n",
            "training   (min:    0.097, max:    0.902, cur:    0.902)\n",
            "validation (min:    0.100, max:    0.965, cur:    0.965)\n",
            "Training Finished\n"
          ],
          "name": "stdout"
        }
      ]
    },
    {
      "cell_type": "code",
      "metadata": {
        "id": "6QYLFf4kEcPc",
        "colab_type": "code",
        "outputId": "05bc7fc0-ff7f-4794-f00a-8594cea4803e",
        "colab": {
          "base_uri": "https://localhost:8080/",
          "height": 546
        }
      },
      "source": [
        "Number_of_Epochs = 15\n",
        "wrapper.train_model(Number_of_Epochs)\n",
        "wrapper.save_model(\"AlexNet7_DropAug_25.pth\", path=\"/content/gdrive/My Drive/\")"
      ],
      "execution_count": 21,
      "outputs": [
        {
          "output_type": "display_data",
          "data": {
            "image/png": "[encoded data removed]",
            "text/plain": [
              "<Figure size 864x576 with 2 Axes>"
            ]
          },
          "metadata": {
            "tags": []
          }
        },
        {
          "output_type": "stream",
          "text": [
            "log loss:\n",
            "training   (min:    0.114, max:    2.303, cur:    0.114)\n",
            "validation (min:    0.041, max:    2.303, cur:    0.041)\n",
            "\n",
            "accuracy:\n",
            "training   (min:    0.097, max:    0.966, cur:    0.966)\n",
            "validation (min:    0.100, max:    0.990, cur:    0.989)\n",
            "Training Finished\n",
            "saved to /AlexNet7_DropAug_25.pth\n"
          ],
          "name": "stdout"
        },
        {
          "output_type": "stream",
          "text": [
            "/usr/local/lib/python3.6/dist-packages/torch/serialization.py:256: UserWarning: Couldn't retrieve source code for container of type AlexNet_half. It won't be checked for correctness upon loading.\n",
            "  \"type \" + obj.__name__ + \". It won't be checked \"\n"
          ],
          "name": "stderr"
        }
      ]
    },
    {
      "cell_type": "code",
      "metadata": {
        "id": "_oVIdZV80h1w",
        "colab_type": "code",
        "colab": {
          "base_uri": "https://localhost:8080/",
          "height": 546
        },
        "outputId": "afe469f4-dded-4833-fb92-418c21b69624"
      },
      "source": [
        "Number_of_Epochs = 25\n",
        "wrapper.train_model(Number_of_Epochs)\n",
        "wrapper.save_model(\"AlexNet7_DropAug_50.pth\", path=\"/content/gdrive/My Drive/\")"
      ],
      "execution_count": 22,
      "outputs": [
        {
          "output_type": "display_data",
          "data": {
            "image/png": "[encoded data removed]",
            "text/plain": [
              "<Figure size 864x576 with 2 Axes>"
            ]
          },
          "metadata": {
            "tags": []
          }
        },
        {
          "output_type": "stream",
          "text": [
            "log loss:\n",
            "training   (min:    0.059, max:    2.303, cur:    0.059)\n",
            "validation (min:    0.025, max:    2.303, cur:    0.028)\n",
            "\n",
            "accuracy:\n",
            "training   (min:    0.097, max:    0.983, cur:    0.983)\n",
            "validation (min:    0.100, max:    0.995, cur:    0.994)\n",
            "Training Finished\n",
            "saved to /AlexNet7_DropAug_50.pth\n"
          ],
          "name": "stdout"
        },
        {
          "output_type": "stream",
          "text": [
            "/usr/local/lib/python3.6/dist-packages/torch/serialization.py:256: UserWarning: Couldn't retrieve source code for container of type AlexNet_half. It won't be checked for correctness upon loading.\n",
            "  \"type \" + obj.__name__ + \". It won't be checked \"\n"
          ],
          "name": "stderr"
        }
      ]
    },
    {
      "cell_type": "code",
      "metadata": {
        "id": "3_ICBioJ0koi",
        "colab_type": "code",
        "colab": {
          "base_uri": "https://localhost:8080/",
          "height": 546
        },
        "outputId": "3871d186-f7da-43b7-ea69-1291a9a9b4c6"
      },
      "source": [
        "Number_of_Epochs = 25\n",
        "wrapper.train_model(Number_of_Epochs)\n",
        "wrapper.save_model(\"AlexNet7_DropAug_75.pth\", path=\"/content/gdrive/My Drive/\")"
      ],
      "execution_count": 23,
      "outputs": [
        {
          "output_type": "display_data",
          "data": {
            "image/png": "[encoded data removed]",
            "text/plain": [
              "<Figure size 864x576 with 2 Axes>"
            ]
          },
          "metadata": {
            "tags": []
          }
        },
        {
          "output_type": "stream",
          "text": [
            "log loss:\n",
            "training   (min:    0.038, max:    2.303, cur:    0.039)\n",
            "validation (min:    0.024, max:    2.303, cur:    0.024)\n",
            "\n",
            "accuracy:\n",
            "training   (min:    0.097, max:    0.989, cur:    0.988)\n",
            "validation (min:    0.100, max:    0.996, cur:    0.995)\n",
            "Training Finished\n",
            "saved to /AlexNet7_DropAug_75.pth\n"
          ],
          "name": "stdout"
        },
        {
          "output_type": "stream",
          "text": [
            "/usr/local/lib/python3.6/dist-packages/torch/serialization.py:256: UserWarning: Couldn't retrieve source code for container of type AlexNet_half. It won't be checked for correctness upon loading.\n",
            "  \"type \" + obj.__name__ + \". It won't be checked \"\n"
          ],
          "name": "stderr"
        }
      ]
    },
    {
      "cell_type": "code",
      "metadata": {
        "id": "GVJv4X8i0oF8",
        "colab_type": "code",
        "colab": {
          "base_uri": "https://localhost:8080/",
          "height": 546
        },
        "outputId": "8fe8075e-ee04-400e-81b0-af6b2d11cfcd"
      },
      "source": [
        "Number_of_Epochs = 25\n",
        "wrapper.train_model(Number_of_Epochs)\n",
        "wrapper.save_model(\"AlexNet7_DropAug_100.pth\", path=\"/content/gdrive/My Drive/\")"
      ],
      "execution_count": 24,
      "outputs": [
        {
          "output_type": "display_data",
          "data": {
            "image/png": "[encoded data removed]",
            "text/plain": [
              "<Figure size 864x576 with 2 Axes>"
            ]
          },
          "metadata": {
            "tags": []
          }
        },
        {
          "output_type": "stream",
          "text": [
            "log loss:\n",
            "training   (min:    0.030, max:    2.303, cur:    0.030)\n",
            "validation (min:    0.022, max:    2.303, cur:    0.026)\n",
            "\n",
            "accuracy:\n",
            "training   (min:    0.097, max:    0.991, cur:    0.991)\n",
            "validation (min:    0.100, max:    0.996, cur:    0.996)\n",
            "Training Finished\n",
            "saved to /AlexNet7_DropAug_100.pth\n"
          ],
          "name": "stdout"
        },
        {
          "output_type": "stream",
          "text": [
            "/usr/local/lib/python3.6/dist-packages/torch/serialization.py:256: UserWarning: Couldn't retrieve source code for container of type AlexNet_half. It won't be checked for correctness upon loading.\n",
            "  \"type \" + obj.__name__ + \". It won't be checked \"\n"
          ],
          "name": "stderr"
        }
      ]
    },
    {
      "cell_type": "code",
      "metadata": {
        "id": "T7oLXlD90rtL",
        "colab_type": "code",
        "colab": {
          "base_uri": "https://localhost:8080/",
          "height": 546
        },
        "outputId": "7cd29e7f-d616-4723-e8e4-1d2f5ca6f338"
      },
      "source": [
        "Number_of_Epochs = 25\n",
        "wrapper.train_model(Number_of_Epochs)\n",
        "wrapper.save_model(\"AlexNet7_DropAug_125.pth\", path=\"/content/gdrive/My Drive/\")"
      ],
      "execution_count": 25,
      "outputs": [
        {
          "output_type": "display_data",
          "data": {
            "image/png": "[encoded data removed]",
            "text/plain": [
              "<Figure size 864x576 with 2 Axes>"
            ]
          },
          "metadata": {
            "tags": []
          }
        },
        {
          "output_type": "stream",
          "text": [
            "log loss:\n",
            "training   (min:    0.025, max:    2.303, cur:    0.025)\n",
            "validation (min:    0.022, max:    2.303, cur:    0.026)\n",
            "\n",
            "accuracy:\n",
            "training   (min:    0.097, max:    0.993, cur:    0.992)\n",
            "validation (min:    0.100, max:    0.997, cur:    0.997)\n",
            "Training Finished\n",
            "saved to /AlexNet7_DropAug_125.pth\n"
          ],
          "name": "stdout"
        },
        {
          "output_type": "stream",
          "text": [
            "/usr/local/lib/python3.6/dist-packages/torch/serialization.py:256: UserWarning: Couldn't retrieve source code for container of type AlexNet_half. It won't be checked for correctness upon loading.\n",
            "  \"type \" + obj.__name__ + \". It won't be checked \"\n"
          ],
          "name": "stderr"
        }
      ]
    },
    {
      "cell_type": "markdown",
      "metadata": {
        "id": "ugHIHOpt1UZf",
        "colab_type": "text"
      },
      "source": [
        "## Save Model"
      ]
    },
    {
      "cell_type": "code",
      "metadata": {
        "id": "o6AE6gjQzfMk",
        "colab_type": "code",
        "outputId": "b3d445bb-f4e3-4753-b05f-2972ad020eda",
        "colab": {
          "base_uri": "https://localhost:8080/",
          "height": 171
        }
      },
      "source": [
        "wrapper.save_model(\"AlexNet7_DropAug_125.pth\", path=\"/content/gdrive/My Drive/\")"
      ],
      "execution_count": 1,
      "outputs": [
        {
          "output_type": "error",
          "ename": "NameError",
          "evalue": "ignored",
          "traceback": [
            "\u001b[0;31m---------------------------------------------------------------------------\u001b[0m",
            "\u001b[0;31mNameError\u001b[0m                                 Traceback (most recent call last)",
            "\u001b[0;32m<ipython-input-1-df2e178d8400>\u001b[0m in \u001b[0;36m<module>\u001b[0;34m()\u001b[0m\n\u001b[0;32m----> 1\u001b[0;31m \u001b[0mwrapper\u001b[0m\u001b[0;34m.\u001b[0m\u001b[0msave_model\u001b[0m\u001b[0;34m(\u001b[0m\u001b[0;34m\"AlexNet7_DropAug_125.pth\"\u001b[0m\u001b[0;34m,\u001b[0m \u001b[0mpath\u001b[0m\u001b[0;34m=\u001b[0m\u001b[0;34m\"/content/gdrive/My Drive/\"\u001b[0m\u001b[0;34m)\u001b[0m\u001b[0;34m\u001b[0m\u001b[0;34m\u001b[0m\u001b[0m\n\u001b[0m",
            "\u001b[0;31mNameError\u001b[0m: name 'wrapper' is not defined"
          ]
        }
      ]
    },
    {
      "cell_type": "code",
      "metadata": {
        "id": "RJSljwBl1EUM",
        "colab_type": "code",
        "outputId": "054266b5-77d1-4df3-e4dc-a0c6b180856c",
        "colab": {
          "base_uri": "https://localhost:8080/",
          "height": 34
        }
      },
      "source": [
        "wrapper.max_acc_epoch()"
      ],
      "execution_count": 0,
      "outputs": [
        {
          "output_type": "execute_result",
          "data": {
            "text/plain": [
              "56"
            ]
          },
          "metadata": {
            "tags": []
          },
          "execution_count": 23
        }
      ]
    },
    {
      "cell_type": "markdown",
      "metadata": {
        "id": "szVW2hU34fh6",
        "colab_type": "text"
      },
      "source": [
        "Make a prediction"
      ]
    },
    {
      "cell_type": "code",
      "metadata": {
        "id": "SRKf0CI01Roh",
        "colab_type": "code",
        "outputId": "a53d44bc-2163-496d-dabc-b4e82bf8582a",
        "colab": {
          "base_uri": "https://localhost:8080/",
          "height": 34
        }
      },
      "source": [
        "pred = wrapper.evaluate(test_feat, False)\n",
        "save_csv(pred, \"prediction\", path=\"/\")"
      ],
      "execution_count": 0,
      "outputs": [
        {
          "output_type": "stream",
          "text": [
            "successfully saved in /prediction.csv\n"
          ],
          "name": "stdout"
        }
      ]
    }
  ]
}