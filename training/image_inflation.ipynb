{
  "nbformat": 4,
  "nbformat_minor": 0,
  "metadata": {
    "colab": {
      "name": "Symbol_inflation.ipynb",
      "version": "0.3.2",
      "provenance": [],
      "collapsed_sections": [],
      "toc_visible": true
    },
    "kernelspec": {
      "name": "python3",
      "display_name": "Python 3"
    },
    "accelerator": "GPU"
  },
  "cells": [
    {
      "cell_type": "markdown",
      "metadata": {
        "id": "B2qaT25ZiS-P",
        "colab_type": "text"
      },
      "source": [
        "## Setup Github"
      ]
    },
    {
      "cell_type": "markdown",
      "metadata": {
        "id": "o6Q3FPg4-bWw",
        "colab_type": "text"
      },
      "source": [
        "Import the github repository and move it into the local directory (also remove the defult samples directoy if it exists)"
      ]
    },
    {
      "cell_type": "code",
      "metadata": {
        "id": "Q9pnfHbSqgXh",
        "colab_type": "code",
        "colab": {
          "base_uri": "https://localhost:8080/",
          "height": 102
        },
        "outputId": "02458254-3b92-4bef-fb32-26ac7b5dd3a4"
      },
      "source": [
        "from getpass import getpass\n",
        "import os\n",
        "\n",
        "user = \"jiaye-mao\"\n",
        "password = getpass('github password')\n",
        "os.environ['GITHUB_AUTH'] = user + ':' + password\n",
        "\n",
        "# clone the repo\n",
        "!git clone https://$GITHUB_AUTH@github.com/msc-acse/acse-8-miniproject-softmax.git repo\n",
        "    \n",
        "# move the repo up one\n",
        "!mv repo/* .\n",
        "!mv repo/.git .\n",
        "\n",
        "# delete un needed stuff\n",
        "!rm -r repo\n",
        "!rm -r sample_data/"
      ],
      "execution_count": 1,
      "outputs": [
        {
          "output_type": "stream",
          "text": [
            "Cloning into 'repo'...\n",
            "remote: Enumerating objects: 678, done.\u001b[K\n",
            "remote: Total 678 (delta 0), reused 0 (delta 0), pack-reused 678\u001b[K\n",
            "Receiving objects: 100% (678/678), 193.50 MiB | 33.32 MiB/s, done.\n",
            "Resolving deltas: 100% (367/367), done.\n"
          ],
          "name": "stdout"
        }
      ]
    },
    {
      "cell_type": "markdown",
      "metadata": {
        "id": "taP042kg_fDc",
        "colab_type": "text"
      },
      "source": [
        "### Github Commands"
      ]
    },
    {
      "cell_type": "code",
      "metadata": {
        "id": "LinpUehg09_o",
        "colab_type": "code",
        "colab": {
          "base_uri": "https://localhost:8080/",
          "height": 323
        },
        "outputId": "c25e4f89-d127-4fc9-85e4-e101fcdd718f"
      },
      "source": [
        "!git checkout richard\n",
        "# !git reset --hard\n",
        "!git pull origin richard\n",
        "!ls -l\n",
        "!git log -1"
      ],
      "execution_count": 2,
      "outputs": [
        {
          "output_type": "stream",
          "text": [
            "D\t.gitignore\n",
            "Branch 'richard' set up to track remote branch 'richard' from 'origin'.\n",
            "Switched to a new branch 'richard'\n",
            "From https://github.com/msc-acse/acse-8-miniproject-softmax\n",
            " * branch            richard    -> FETCH_HEAD\n",
            "Already up to date.\n",
            "total 32\n",
            "drwxr-xr-x  2 root root  4096 May 23 13:25 data\n",
            "drwxr-xr-x 13 root root  4096 May 23 13:26 models\n",
            "-rw-r--r--  1 root root   771 May 23 13:25 README.md\n",
            "drwxr-xr-x  2 root root  4096 May 23 13:26 spec\n",
            "-rw-r--r--  1 root root 10208 May 23 13:25 tools.py\n",
            "drwxr-xr-x  3 root root  4096 May 23 13:26 training\n",
            "\u001b[33mcommit 3f0369b68a7f2437e6943031276a104cc8f59bd4\u001b[m\u001b[33m (\u001b[m\u001b[1;36mHEAD -> \u001b[m\u001b[1;32mrichard\u001b[m\u001b[33m, \u001b[m\u001b[1;31morigin/richard\u001b[m\u001b[33m)\u001b[m\n",
            "Author: Boyne272 <boynerichard@yahoo.co.uk>\n",
            "Date:   Thu May 23 11:49:24 2019 +0100\n",
            "\n",
            "    added my version of a larger nural network\n"
          ],
          "name": "stdout"
        }
      ]
    },
    {
      "cell_type": "markdown",
      "metadata": {
        "id": "4iGLYFKY1CnP",
        "colab_type": "text"
      },
      "source": [
        "## Setup Imports"
      ]
    },
    {
      "cell_type": "markdown",
      "metadata": {
        "id": "EvJ4qN51_mPP",
        "colab_type": "text"
      },
      "source": [
        "Ipython imports and functions"
      ]
    },
    {
      "cell_type": "code",
      "metadata": {
        "id": "kdWZQ7cefhiI",
        "colab_type": "code",
        "colab": {
          "base_uri": "https://localhost:8080/",
          "height": 1023
        },
        "outputId": "654d89bf-d019-4fed-f8ff-1b11e3f935ca"
      },
      "source": [
        "# ipython setup\n",
        "!pip install pycm livelossplot\n",
        "%pylab inline\n",
        "%load_ext autoreload\n",
        "%autoreload 2"
      ],
      "execution_count": 3,
      "outputs": [
        {
          "output_type": "stream",
          "text": [
            "Collecting pycm\n",
            "\u001b[?25l  Downloading https://files.pythonhosted.org/packages/35/86/14ebc41098fb81eb7e458d234622a9ce50857bb7d6f350b29765273c00f5/pycm-2.1-py2.py3-none-any.whl (45kB)\n",
            "\r\u001b[K     |███████▎                        | 10kB 14.8MB/s eta 0:00:01\r\u001b[K     |██████████████▌                 | 20kB 1.2MB/s eta 0:00:01\r\u001b[K     |█████████████████████▊          | 30kB 1.8MB/s eta 0:00:01\r\u001b[K     |█████████████████████████████   | 40kB 1.2MB/s eta 0:00:01\r\u001b[K     |████████████████████████████████| 51kB 1.4MB/s \n",
            "\u001b[?25hCollecting livelossplot\n",
            "  Downloading https://files.pythonhosted.org/packages/55/2b/4be0b3de085cfacf25fc1934f391bd85f90565db4f110f3f7b2220666b09/livelossplot-0.4.0-py3-none-any.whl\n",
            "Collecting art>=1.8 (from pycm)\n",
            "\u001b[?25l  Downloading https://files.pythonhosted.org/packages/6e/cb/12329146ae052d8cc797edec123f87ff54f349af34438d01f1ffe7fc6e1c/art-3.6-py2.py3-none-any.whl (489kB)\n",
            "\r\u001b[K     |▊                               | 10kB 25.9MB/s eta 0:00:01\r\u001b[K     |█▍                              | 20kB 33.5MB/s eta 0:00:01\r\u001b[K     |██                              | 30kB 41.3MB/s eta 0:00:01\r\u001b[K     |██▊                             | 40kB 45.1MB/s eta 0:00:01\r\u001b[K     |███▍                            | 51kB 2.9MB/s eta 0:00:01\r\u001b[K     |████                            | 61kB 3.5MB/s eta 0:00:01\r\u001b[K     |████▊                           | 71kB 4.0MB/s eta 0:00:01\r\u001b[K     |█████▍                          | 81kB 4.6MB/s eta 0:00:01\r\u001b[K     |██████                          | 92kB 5.1MB/s eta 0:00:01\r\u001b[K     |██████▊                         | 102kB 5.6MB/s eta 0:00:01\r\u001b[K     |███████▍                        | 112kB 5.6MB/s eta 0:00:01\r\u001b[K     |████████                        | 122kB 5.6MB/s eta 0:00:01\r\u001b[K     |████████▊                       | 133kB 5.6MB/s eta 0:00:01\r\u001b[K     |█████████▍                      | 143kB 5.6MB/s eta 0:00:01\r\u001b[K     |██████████                      | 153kB 5.6MB/s eta 0:00:01\r\u001b[K     |██████████▊                     | 163kB 5.6MB/s eta 0:00:01\r\u001b[K     |███████████▍                    | 174kB 5.6MB/s eta 0:00:01\r\u001b[K     |████████████                    | 184kB 5.6MB/s eta 0:00:01\r\u001b[K     |████████████▊                   | 194kB 5.6MB/s eta 0:00:01\r\u001b[K     |█████████████▍                  | 204kB 5.6MB/s eta 0:00:01\r\u001b[K     |██████████████                  | 215kB 5.6MB/s eta 0:00:01\r\u001b[K     |██████████████▊                 | 225kB 5.6MB/s eta 0:00:01\r\u001b[K     |███████████████▍                | 235kB 5.6MB/s eta 0:00:01\r\u001b[K     |████████████████                | 245kB 5.6MB/s eta 0:00:01\r\u001b[K     |████████████████▊               | 256kB 5.6MB/s eta 0:00:01\r\u001b[K     |█████████████████▍              | 266kB 5.6MB/s eta 0:00:01\r\u001b[K     |██████████████████              | 276kB 5.6MB/s eta 0:00:01\r\u001b[K     |██████████████████▊             | 286kB 5.6MB/s eta 0:00:01\r\u001b[K     |███████████████████▍            | 296kB 5.6MB/s eta 0:00:01\r\u001b[K     |████████████████████            | 307kB 5.6MB/s eta 0:00:01\r\u001b[K     |████████████████████▊           | 317kB 5.6MB/s eta 0:00:01\r\u001b[K     |█████████████████████▍          | 327kB 5.6MB/s eta 0:00:01\r\u001b[K     |██████████████████████          | 337kB 5.6MB/s eta 0:00:01\r\u001b[K     |██████████████████████▊         | 348kB 5.6MB/s eta 0:00:01\r\u001b[K     |███████████████████████▍        | 358kB 5.6MB/s eta 0:00:01\r\u001b[K     |████████████████████████        | 368kB 5.6MB/s eta 0:00:01\r\u001b[K     |████████████████████████▊       | 378kB 5.6MB/s eta 0:00:01\r\u001b[K     |█████████████████████████▍      | 389kB 5.6MB/s eta 0:00:01\r\u001b[K     |██████████████████████████      | 399kB 5.6MB/s eta 0:00:01\r\u001b[K     |██████████████████████████▊     | 409kB 5.6MB/s eta 0:00:01\r\u001b[K     |███████████████████████████▍    | 419kB 5.6MB/s eta 0:00:01\r\u001b[K     |████████████████████████████    | 430kB 5.6MB/s eta 0:00:01\r\u001b[K     |████████████████████████████▊   | 440kB 5.6MB/s eta 0:00:01\r\u001b[K     |█████████████████████████████▍  | 450kB 5.6MB/s eta 0:00:01\r\u001b[K     |██████████████████████████████  | 460kB 5.6MB/s eta 0:00:01\r\u001b[K     |██████████████████████████████▊ | 471kB 5.6MB/s eta 0:00:01\r\u001b[K     |███████████████████████████████▌| 481kB 5.6MB/s eta 0:00:01\r\u001b[K     |████████████████████████████████| 491kB 5.6MB/s \n",
            "\u001b[?25hRequirement already satisfied: numpy>=1.9.0 in /usr/local/lib/python3.6/dist-packages (from pycm) (1.16.3)\n",
            "Requirement already satisfied: notebook in /usr/local/lib/python3.6/dist-packages (from livelossplot) (5.2.2)\n",
            "Requirement already satisfied: matplotlib in /usr/local/lib/python3.6/dist-packages (from livelossplot) (3.0.3)\n",
            "Collecting coverage>=4.1 (from art>=1.8->pycm)\n",
            "\u001b[?25l  Downloading https://files.pythonhosted.org/packages/f8/4e/f28fc04019bac97d301512d904992791569234a06826cd420f78fba9a361/coverage-4.5.3-cp36-cp36m-manylinux1_x86_64.whl (205kB)\n",
            "\r\u001b[K     |█▋                              | 10kB 22.4MB/s eta 0:00:01\r\u001b[K     |███▏                            | 20kB 30.4MB/s eta 0:00:01\r\u001b[K     |████▉                           | 30kB 37.7MB/s eta 0:00:01\r\u001b[K     |██████▍                         | 40kB 42.5MB/s eta 0:00:01\r\u001b[K     |████████                        | 51kB 46.0MB/s eta 0:00:01\r\u001b[K     |█████████▋                      | 61kB 49.5MB/s eta 0:00:01\r\u001b[K     |███████████▏                    | 71kB 49.7MB/s eta 0:00:01\r\u001b[K     |████████████▉                   | 81kB 49.9MB/s eta 0:00:01\r\u001b[K     |██████████████▍                 | 92kB 52.0MB/s eta 0:00:01\r\u001b[K     |████████████████                | 102kB 53.4MB/s eta 0:00:01\r\u001b[K     |█████████████████▋              | 112kB 53.4MB/s eta 0:00:01\r\u001b[K     |███████████████████▏            | 122kB 53.4MB/s eta 0:00:01\r\u001b[K     |████████████████████▉           | 133kB 53.4MB/s eta 0:00:01\r\u001b[K     |██████████████████████▍         | 143kB 53.4MB/s eta 0:00:01\r\u001b[K     |████████████████████████        | 153kB 53.4MB/s eta 0:00:01\r\u001b[K     |█████████████████████████▋      | 163kB 53.4MB/s eta 0:00:01\r\u001b[K     |███████████████████████████▏    | 174kB 53.4MB/s eta 0:00:01\r\u001b[K     |████████████████████████████▊   | 184kB 53.4MB/s eta 0:00:01\r\u001b[K     |██████████████████████████████▍ | 194kB 53.4MB/s eta 0:00:01\r\u001b[K     |████████████████████████████████| 204kB 53.4MB/s eta 0:00:01\r\u001b[K     |████████████████████████████████| 215kB 53.4MB/s \n",
            "\u001b[?25hRequirement already satisfied: ipykernel in /usr/local/lib/python3.6/dist-packages (from notebook->livelossplot) (4.6.1)\n",
            "Requirement already satisfied: traitlets>=4.2.1 in /usr/local/lib/python3.6/dist-packages (from notebook->livelossplot) (4.3.2)\n",
            "Requirement already satisfied: nbconvert in /usr/local/lib/python3.6/dist-packages (from notebook->livelossplot) (5.5.0)\n",
            "Requirement already satisfied: nbformat in /usr/local/lib/python3.6/dist-packages (from notebook->livelossplot) (4.4.0)\n",
            "Requirement already satisfied: tornado>=4 in /usr/local/lib/python3.6/dist-packages (from notebook->livelossplot) (4.5.3)\n",
            "Requirement already satisfied: jupyter-client in /usr/local/lib/python3.6/dist-packages (from notebook->livelossplot) (5.2.4)\n",
            "Requirement already satisfied: ipython-genutils in /usr/local/lib/python3.6/dist-packages (from notebook->livelossplot) (0.2.0)\n",
            "Requirement already satisfied: jinja2 in /usr/local/lib/python3.6/dist-packages (from notebook->livelossplot) (2.10.1)\n",
            "Requirement already satisfied: jupyter-core in /usr/local/lib/python3.6/dist-packages (from notebook->livelossplot) (4.4.0)\n",
            "Requirement already satisfied: terminado>=0.3.3; sys_platform != \"win32\" in /usr/local/lib/python3.6/dist-packages (from notebook->livelossplot) (0.8.2)\n",
            "Requirement already satisfied: pyparsing!=2.0.4,!=2.1.2,!=2.1.6,>=2.0.1 in /usr/local/lib/python3.6/dist-packages (from matplotlib->livelossplot) (2.4.0)\n",
            "Requirement already satisfied: kiwisolver>=1.0.1 in /usr/local/lib/python3.6/dist-packages (from matplotlib->livelossplot) (1.1.0)\n",
            "Requirement already satisfied: python-dateutil>=2.1 in /usr/local/lib/python3.6/dist-packages (from matplotlib->livelossplot) (2.5.3)\n",
            "Requirement already satisfied: cycler>=0.10 in /usr/local/lib/python3.6/dist-packages (from matplotlib->livelossplot) (0.10.0)\n",
            "Requirement already satisfied: ipython>=4.0.0 in /usr/local/lib/python3.6/dist-packages (from ipykernel->notebook->livelossplot) (5.5.0)\n",
            "Requirement already satisfied: decorator in /usr/local/lib/python3.6/dist-packages (from traitlets>=4.2.1->notebook->livelossplot) (4.4.0)\n",
            "Requirement already satisfied: six in /usr/local/lib/python3.6/dist-packages (from traitlets>=4.2.1->notebook->livelossplot) (1.12.0)\n",
            "Requirement already satisfied: pygments in /usr/local/lib/python3.6/dist-packages (from nbconvert->notebook->livelossplot) (2.1.3)\n",
            "Requirement already satisfied: pandocfilters>=1.4.1 in /usr/local/lib/python3.6/dist-packages (from nbconvert->notebook->livelossplot) (1.4.2)\n",
            "Requirement already satisfied: testpath in /usr/local/lib/python3.6/dist-packages (from nbconvert->notebook->livelossplot) (0.4.2)\n",
            "Requirement already satisfied: bleach in /usr/local/lib/python3.6/dist-packages (from nbconvert->notebook->livelossplot) (3.1.0)\n",
            "Requirement already satisfied: mistune>=0.8.1 in /usr/local/lib/python3.6/dist-packages (from nbconvert->notebook->livelossplot) (0.8.4)\n",
            "Requirement already satisfied: defusedxml in /usr/local/lib/python3.6/dist-packages (from nbconvert->notebook->livelossplot) (0.6.0)\n",
            "Requirement already satisfied: entrypoints>=0.2.2 in /usr/local/lib/python3.6/dist-packages (from nbconvert->notebook->livelossplot) (0.3)\n",
            "Requirement already satisfied: jsonschema!=2.5.0,>=2.4 in /usr/local/lib/python3.6/dist-packages (from nbformat->notebook->livelossplot) (2.6.0)\n",
            "Requirement already satisfied: pyzmq>=13 in /usr/local/lib/python3.6/dist-packages (from jupyter-client->notebook->livelossplot) (17.0.0)\n",
            "Requirement already satisfied: MarkupSafe>=0.23 in /usr/local/lib/python3.6/dist-packages (from jinja2->notebook->livelossplot) (1.1.1)\n",
            "Requirement already satisfied: ptyprocess; os_name != \"nt\" in /usr/local/lib/python3.6/dist-packages (from terminado>=0.3.3; sys_platform != \"win32\"->notebook->livelossplot) (0.6.0)\n",
            "Requirement already satisfied: setuptools in /usr/local/lib/python3.6/dist-packages (from kiwisolver>=1.0.1->matplotlib->livelossplot) (41.0.1)\n",
            "Requirement already satisfied: pexpect; sys_platform != \"win32\" in /usr/local/lib/python3.6/dist-packages (from ipython>=4.0.0->ipykernel->notebook->livelossplot) (4.7.0)\n",
            "Requirement already satisfied: simplegeneric>0.8 in /usr/local/lib/python3.6/dist-packages (from ipython>=4.0.0->ipykernel->notebook->livelossplot) (0.8.1)\n",
            "Requirement already satisfied: pickleshare in /usr/local/lib/python3.6/dist-packages (from ipython>=4.0.0->ipykernel->notebook->livelossplot) (0.7.5)\n",
            "Requirement already satisfied: prompt-toolkit<2.0.0,>=1.0.4 in /usr/local/lib/python3.6/dist-packages (from ipython>=4.0.0->ipykernel->notebook->livelossplot) (1.0.16)\n",
            "Requirement already satisfied: webencodings in /usr/local/lib/python3.6/dist-packages (from bleach->nbconvert->notebook->livelossplot) (0.5.1)\n",
            "Requirement already satisfied: wcwidth in /usr/local/lib/python3.6/dist-packages (from prompt-toolkit<2.0.0,>=1.0.4->ipython>=4.0.0->ipykernel->notebook->livelossplot) (0.1.7)\n",
            "\u001b[31mERROR: datascience 0.10.6 has requirement coverage==3.7.1, but you'll have coverage 4.5.3 which is incompatible.\u001b[0m\n",
            "\u001b[31mERROR: datascience 0.10.6 has requirement folium==0.2.1, but you'll have folium 0.8.3 which is incompatible.\u001b[0m\n",
            "\u001b[31mERROR: coveralls 0.5 has requirement coverage<3.999,>=3.6, but you'll have coverage 4.5.3 which is incompatible.\u001b[0m\n",
            "Installing collected packages: coverage, art, pycm, livelossplot\n",
            "  Found existing installation: coverage 3.7.1\n",
            "    Uninstalling coverage-3.7.1:\n",
            "      Successfully uninstalled coverage-3.7.1\n",
            "Successfully installed art-3.6 coverage-4.5.3 livelossplot-0.4.0 pycm-2.1\n",
            "Populating the interactive namespace from numpy and matplotlib\n"
          ],
          "name": "stdout"
        }
      ]
    },
    {
      "cell_type": "markdown",
      "metadata": {
        "id": "5gKjhgzi_qph",
        "colab_type": "text"
      },
      "source": [
        "Module imports"
      ]
    },
    {
      "cell_type": "code",
      "metadata": {
        "id": "aAqIjtvZiVfG",
        "colab_type": "code",
        "colab": {}
      },
      "source": [
        "# imports\n",
        "from sklearn.metrics import accuracy_score\n",
        "from sklearn.model_selection import StratifiedShuffleSplit, StratifiedKFold\n",
        "from torchvision.transforms import Compose, ToTensor, Normalize, RandomRotation, RandomCrop, ToPILImage, Pad\n",
        "\n",
        "from livelossplot import PlotLosses\n",
        "from pycm import *\n",
        "\n",
        "import torch\n",
        "import torch.nn as nn\n",
        "import torch.nn.functional as F\n",
        "from torch.utils.data import TensorDataset, DataLoader\n",
        "import torchvision.transforms as transforms\n",
        "import matplotlib.pyplot as plt\n",
        "\n",
        "# imports from github\n",
        "from tools import *"
      ],
      "execution_count": 0,
      "outputs": []
    },
    {
      "cell_type": "markdown",
      "metadata": {
        "id": "-VOT6jtg_uLq",
        "colab_type": "text"
      },
      "source": [
        "Check runtime device"
      ]
    },
    {
      "cell_type": "code",
      "metadata": {
        "id": "xY6dnhJut2N1",
        "colab_type": "code",
        "colab": {
          "base_uri": "https://localhost:8080/",
          "height": 34
        },
        "outputId": "e2064246-8a91-436d-c8af-427c01a40d8f"
      },
      "source": [
        "# check running device\n",
        "device = 'cpu'\n",
        "if torch.cuda.device_count() > 0 and torch.cuda.is_available():\n",
        "    print(\"Cuda installed! Running on GPU!\")\n",
        "    device = 'cuda'\n",
        "else:\n",
        "    print(\"No GPU available!\")"
      ],
      "execution_count": 5,
      "outputs": [
        {
          "output_type": "stream",
          "text": [
            "Cuda installed! Running on GPU!\n"
          ],
          "name": "stdout"
        }
      ]
    },
    {
      "cell_type": "markdown",
      "metadata": {
        "id": "hPFXq2gJkeTr",
        "colab_type": "text"
      },
      "source": [
        "Mount google drive if wanted"
      ]
    },
    {
      "cell_type": "code",
      "metadata": {
        "id": "DKYmq0jKkiHt",
        "colab_type": "code",
        "colab": {}
      },
      "source": [
        "# from google.colab import drive\n",
        "# drive.mount('/content/gdrive/')"
      ],
      "execution_count": 0,
      "outputs": []
    },
    {
      "cell_type": "markdown",
      "metadata": {
        "id": "FbfBvaS9lQwP",
        "colab_type": "text"
      },
      "source": [
        "## Load Data"
      ]
    },
    {
      "cell_type": "code",
      "metadata": {
        "id": "fbKRK5YNidaN",
        "colab_type": "code",
        "colab": {}
      },
      "source": [
        "train_feat = np.load(\"/content/data/kmnist-train-imgs.npy\")\n",
        "train_targ = np.load(\"/content/data/kmnist-train-labels.npy\")\n",
        "test_feat = np.load(\"/content/data/kmnist-test-imgs.npy\")"
      ],
      "execution_count": 0,
      "outputs": []
    },
    {
      "cell_type": "code",
      "metadata": {
        "id": "wuQSmqZ4oLdT",
        "colab_type": "code",
        "colab": {
          "base_uri": "https://localhost:8080/",
          "height": 374
        },
        "outputId": "dcb277f4-aaae-491a-9c86-03bc0363cf1e"
      },
      "source": [
        "# check what the data looks like\n",
        "for data, data_name in zip([train_targ, test_feat, train_feat], \n",
        "                           [\"train_targ\", \"test_feat\", \"train_feat\"]):\n",
        "    \n",
        "    print(data_name)\n",
        "    \n",
        "    for name, code in zip([\"shape\", \"mean\", \"std\", \"max\", \"min\", \"type\", \"cuda\"],\n",
        "                          [\"data.shape\", \"data.mean()\", \"data.std()\", \n",
        "                           \"data.max()\", \"data.min()\", \"data.dtype\"]):\n",
        "        try:\n",
        "            exec(\"print('\\t', name, '\\t:\\t', \" + code + \")\")\n",
        "        except:\n",
        "            print(\"\\t\", name, \"\\t:\\t undefined\")"
      ],
      "execution_count": 8,
      "outputs": [
        {
          "output_type": "stream",
          "text": [
            "train_targ\n",
            "\t shape \t:\t (60000,)\n",
            "\t mean \t:\t 4.5\n",
            "\t std \t:\t 2.8722813232690143\n",
            "\t max \t:\t 9\n",
            "\t min \t:\t 0\n",
            "\t type \t:\t uint8\n",
            "test_feat\n",
            "\t shape \t:\t (10000, 28, 28)\n",
            "\t mean \t:\t 47.06204145408163\n",
            "\t std \t:\t 87.1110021912918\n",
            "\t max \t:\t 255\n",
            "\t min \t:\t 0\n",
            "\t type \t:\t uint8\n",
            "train_feat\n",
            "\t shape \t:\t (60000, 28, 28)\n",
            "\t mean \t:\t 48.89934757653061\n",
            "\t std \t:\t 88.82742173832395\n",
            "\t max \t:\t 255\n",
            "\t min \t:\t 0\n",
            "\t type \t:\t uint8\n"
          ],
          "name": "stdout"
        }
      ]
    },
    {
      "cell_type": "markdown",
      "metadata": {
        "id": "2bJ96jN0_KMk",
        "colab_type": "text"
      },
      "source": [
        "Now set our parameters"
      ]
    },
    {
      "cell_type": "code",
      "metadata": {
        "id": "Jo-vgjQzIIEB",
        "colab_type": "code",
        "colab": {}
      },
      "source": [
        "# Other Hyperparameters\n",
        "Seed = 42\n",
        "Learning_Rate = 1e-2\n",
        "Momentum = 0.5\n",
        "Batch_Size = 64\n",
        "Test_Batch_Size = 1000\n",
        "Number_of_Epochs = 30"
      ],
      "execution_count": 0,
      "outputs": []
    },
    {
      "cell_type": "markdown",
      "metadata": {
        "id": "6X4oeAD6suKa",
        "colab_type": "text"
      },
      "source": [
        "## Data pre-processing\n",
        "\n",
        "Define the data set creation function with the transformations."
      ]
    },
    {
      "cell_type": "code",
      "metadata": {
        "id": "yoHi9Bv43O2E",
        "colab_type": "code",
        "colab": {}
      },
      "source": [
        "def symbol_inflation(t_feat, t_targ, symbols=[], frac=0.2):\n",
        "\n",
        "    # find every index in the training set we want to duplicate\n",
        "    dup_indexs = []    \n",
        "    for s in symbols:\n",
        "        \n",
        "        # find where the sybols are\n",
        "        symbol_ids = np.where(t_targ == s)[0]\n",
        "        \n",
        "        # randomly select the fracton of them\n",
        "        np.random.shuffle(symbol_ids)\n",
        "        N = int(symbol_ids.size * frac)\n",
        "        \n",
        "        # store these indices\n",
        "        dup_indexs.append(symbol_ids[:N])\n",
        "        \n",
        "    dup_indexs = np.array(dup_indexs).flatten()\n",
        "    \n",
        "    # find the features and targets we want to duplicate\n",
        "    dup_feat = t_feat[dup_indexs]\n",
        "    dup_targ = t_targ[dup_indexs]\n",
        "    \n",
        "    # add to the data sets\n",
        "    t_feat = np.concatenate([t_feat, dup_feat], axis=0)\n",
        "    t_targ = np.concatenate([t_targ, dup_targ], axis=0)\n",
        "\n",
        "    return t_feat, t_targ"
      ],
      "execution_count": 0,
      "outputs": []
    },
    {
      "cell_type": "code",
      "metadata": {
        "id": "3FbwEr7VBgPL",
        "colab_type": "code",
        "colab": {}
      },
      "source": [
        "def create_dataset(train, targ, t_id, v_id, symbols=[], frac=0.2):\n",
        "    \n",
        "    # make trgets torch type and shape\n",
        "    targ = torch.from_numpy(targ)\n",
        "    targ = targ.long()\n",
        "    # (features are changed in the transofrmations)\n",
        "    \n",
        "    # seperate the data\n",
        "    t_feat = train[t_id]\n",
        "    v_feat = train[v_id]\n",
        "    t_targ = targ[t_id]\n",
        "    v_targ = targ[v_id]\n",
        "    \n",
        "    # find mean and std\n",
        "    mean, std = np.mean(t_feat)/255., np.std(t_feat)/255.\n",
        "    print(\"avg:\", mean, \"std:\", std)\n",
        "    \n",
        "    # includes data augmentation\n",
        "    train_transform = Compose([\n",
        "        ToPILImage(),\n",
        "        RandomCrop(24),\n",
        "        Pad(2),\n",
        "        RandomRotation(15),\n",
        "        ToTensor(),\n",
        "        Normalize(mean=[mean], std=[std]),\n",
        "        ])\n",
        "\n",
        "    # only want to normalize here\n",
        "    validation_test_transform = Compose([\n",
        "        ToTensor(),\n",
        "        Normalize(mean=[mean], std=[std]),\n",
        "        ])\n",
        "    \n",
        "    \n",
        "    if symbols != []:\n",
        "        t_feat, t_targ = symbol_inflation(t_feat, t_targ, symbols, frac)\n",
        "    \n",
        "    # create the custom datasets\n",
        "    train_set = CustomImageTensorDataset(t_feat, t_targ, transform=train_transform)\n",
        "    valid_set = CustomImageTensorDataset(v_feat, v_targ, transform=validation_test_transform)\n",
        "\n",
        "    return train_set, valid_set"
      ],
      "execution_count": 0,
      "outputs": []
    },
    {
      "cell_type": "markdown",
      "metadata": {
        "id": "k1JQdVV75EMb",
        "colab_type": "text"
      },
      "source": [
        "Create the indicies for the data split"
      ]
    },
    {
      "cell_type": "code",
      "metadata": {
        "id": "c9gJPji_BgTY",
        "colab_type": "code",
        "colab": {
          "base_uri": "https://localhost:8080/",
          "height": 71
        },
        "outputId": "f383a64b-8124-49c9-dd5f-0874f4f82963"
      },
      "source": [
        "# do the split\n",
        "n_folds = 10\n",
        "shuffler =  StratifiedKFold(n_splits=n_folds, random_state=42, shuffle=True)\n",
        "shuffler = shuffler.split(train_feat, train_targ)\n",
        "\n",
        "# get the indices\n",
        "indices = np.array(list(shuffler))\n",
        "print(indices.shape)\n",
        "print([i.shape for i in indices.flatten()])"
      ],
      "execution_count": 12,
      "outputs": [
        {
          "output_type": "stream",
          "text": [
            "(10, 2)\n",
            "[(54000,), (6000,), (54000,), (6000,), (54000,), (6000,), (54000,), (6000,), (54000,), (6000,), (54000,), (6000,), (54000,), (6000,), (54000,), (6000,), (54000,), (6000,), (54000,), (6000,)]\n"
          ],
          "name": "stdout"
        }
      ]
    },
    {
      "cell_type": "markdown",
      "metadata": {
        "id": "ltOvsiW1_dcO",
        "colab_type": "text"
      },
      "source": [
        "Divide data into n_fold sets"
      ]
    },
    {
      "cell_type": "code",
      "metadata": {
        "id": "1WlZTchm7udb",
        "colab_type": "code",
        "colab": {
          "base_uri": "https://localhost:8080/",
          "height": 68
        },
        "outputId": "b1ab43d9-737a-4d75-d50a-1a0701a528c5"
      },
      "source": [
        "data_loders = []\n",
        "for t_index, v_index in indices[:2]:\n",
        "    t_set, v_set = create_dataset(train_feat, train_targ, t_index, v_index, symbols=[1], frac=0.5)\n",
        "    data_loders.append([ DataLoader(t_set, batch_size=Batch_Size, shuffle=True),\n",
        "                         DataLoader(v_set, batch_size=Test_Batch_Size, shuffle=False)])\n",
        "    \n",
        "data_loders = np.array(data_loders)\n",
        "data_loders.shape, len(data_loders[0, 0].dataset)"
      ],
      "execution_count": 13,
      "outputs": [
        {
          "output_type": "stream",
          "text": [
            "avg: 0.19193742228372832 std: 0.3484717402643013\n",
            "avg: 0.1917338998562388 std: 0.34832169306624683\n"
          ],
          "name": "stdout"
        },
        {
          "output_type": "execute_result",
          "data": {
            "text/plain": [
              "((2, 2), 56700)"
            ]
          },
          "metadata": {
            "tags": []
          },
          "execution_count": 13
        }
      ]
    },
    {
      "cell_type": "markdown",
      "metadata": {
        "id": "01WhI7nN6YSD",
        "colab_type": "text"
      },
      "source": [
        "Look at the data to check it is all still good"
      ]
    },
    {
      "cell_type": "code",
      "metadata": {
        "id": "ni4_DIKrAzlr",
        "colab_type": "code",
        "colab": {
          "base_uri": "https://localhost:8080/",
          "height": 1110
        },
        "outputId": "495fc93e-f5e0-47c2-c638-ba851f43a5ea"
      },
      "source": [
        "train_loader = data_loders[0, 0]\n",
        "for X, y in train_loader:\n",
        "    \n",
        "    print(\"Loaded Feature Shape:\", X.size())\n",
        "    print(\"Loaded Target Shape:\", y.size())\n",
        "    print(\"batch mean:\", X.mean())\n",
        "    print(\"batch std:\", X.std())\n",
        "    \n",
        "    fig, axs = plt.subplots(8, 8, figsize=[18, 18])\n",
        "    \n",
        "    for img, lab, ax in zip(X, y, axs.flatten()):\n",
        "        ax.imshow(img[0], cmap='gray')\n",
        "        ax.axis(\"off\")\n",
        "        ax.set(title=str(lab.item()))\n",
        "    break"
      ],
      "execution_count": 14,
      "outputs": [
        {
          "output_type": "stream",
          "text": [
            "Loaded Feature Shape: torch.Size([64, 1, 28, 28])\n",
            "Loaded Target Shape: torch.Size([64])\n",
            "batch mean: tensor(-0.1053)\n",
            "batch std: tensor(0.9230)\n"
          ],
          "name": "stdout"
        },
        {
          "output_type": "display_data",
          "data": {
            "image/png": "[encoded data removed]",
            "text/plain": [
              "<Figure size 1296x1296 with 64 Axes>"
            ]
          },
          "metadata": {
            "tags": []
          }
        }
      ]
    },
    {
      "cell_type": "markdown",
      "metadata": {
        "id": "O_9-58fa7dOH",
        "colab_type": "text"
      },
      "source": [
        "What about the standard deviation and mean. Here I manually do the transformation on each sample and look at the transformed data mean, std and shape."
      ]
    },
    {
      "cell_type": "code",
      "metadata": {
        "id": "E1QgG05T9hMl",
        "colab_type": "code",
        "outputId": "8a271b2d-1e00-4379-ebe6-84d790c260a6",
        "colab": {
          "base_uri": "https://localhost:8080/",
          "height": 35
        }
      },
      "source": [
        "norm = data_loders[0, 1].dataset.transform\n",
        "manual = [norm(t) for t in train_feat]\n",
        "manual = torch.stack(manual)\n",
        "manual.mean(), manual.std(), manual.size()"
      ],
      "execution_count": 0,
      "outputs": [
        {
          "output_type": "execute_result",
          "data": {
            "text/plain": [
              "(tensor(-0.0005), tensor(0.9996), torch.Size([60000, 1, 28, 28]))"
            ]
          },
          "metadata": {
            "tags": []
          },
          "execution_count": 52
        }
      ]
    },
    {
      "cell_type": "markdown",
      "metadata": {
        "id": "C9apXLivwNTa",
        "colab_type": "text"
      },
      "source": [
        "## Symbol Inflation\n"
      ]
    },
    {
      "cell_type": "code",
      "metadata": {
        "id": "NxgXv55pwM27",
        "colab_type": "code",
        "colab": {}
      },
      "source": [
        "def symbol_inflation(t_feat, t_targ, symbols=[], frac=0.2):\n",
        "\n",
        "    # find every index in the training set we want to duplicate\n",
        "    dup_indexs = []    \n",
        "    for s in symbols:\n",
        "        \n",
        "        # find where the sybols are\n",
        "        symbol_ids = np.where(t_targ == s)[0]\n",
        "        \n",
        "        # randomly select the fracton of them\n",
        "        np.random.shuffle(symbol_ids)\n",
        "        N = int(symbol_ids.size * frac)\n",
        "        \n",
        "        # store these indices\n",
        "        dup_indexs.append(symbol_ids[:N])\n",
        "        \n",
        "    dup_indexs = np.array(dup_indexs).flatten()\n",
        "    \n",
        "    # find the features and targets we want to duplicate\n",
        "    dup_feat = t_feat[dup_indexs]\n",
        "    dup_targ = t_targ[dup_indexs]\n",
        "    \n",
        "    # add to the data sets\n",
        "    t_feat = np.concatenate([t_feat, dup_feat], axis=0)\n",
        "    t_targ = np.concatenate([t_targ, dup_targ], axis=0)\n",
        "\n",
        "    return t_feat, t_targ"
      ],
      "execution_count": 0,
      "outputs": []
    },
    {
      "cell_type": "code",
      "metadata": {
        "id": "t-zYEujPxJ5P",
        "colab_type": "code",
        "outputId": "3698e4d1-20cd-4518-b849-e81962796fd4",
        "colab": {
          "base_uri": "https://localhost:8080/",
          "height": 88
        }
      },
      "source": [
        "# test this\n",
        "t_index, v_index = indices[0]\n",
        "t_feat, t_targ = train_feat[t_index], train_targ[t_index]\n",
        "\n",
        "print(\"pre-inflation:\", t_feat.shape, t_targ.shape)\n",
        "print(np.unique(t_targ, return_counts=True)[1])\n",
        "\n",
        "t_feat, t_targ = symbol_inflation(t_feat, t_targ, [0, 1], frac=1)\n",
        "print(\"post-inflation:\", t_feat.shape, t_targ.shape)\n",
        "print(np.unique(t_targ, return_counts=True)[1])"
      ],
      "execution_count": 0,
      "outputs": [
        {
          "output_type": "stream",
          "text": [
            "pre-inflation: (54000, 28, 28) (54000,)\n",
            "[5400 5400 5400 5400 5400 5400 5400 5400 5400 5400]\n",
            "post-inflation: (64800, 28, 28) (64800,)\n",
            "[10800 10800  5400  5400  5400  5400  5400  5400  5400  5400]\n"
          ],
          "name": "stdout"
        }
      ]
    },
    {
      "cell_type": "code",
      "metadata": {
        "id": "lbD3jSJ43zsB",
        "colab_type": "code",
        "colab": {}
      },
      "source": [
        ""
      ],
      "execution_count": 0,
      "outputs": []
    },
    {
      "cell_type": "markdown",
      "metadata": {
        "id": "hzzIW0E130ES",
        "colab_type": "text"
      },
      "source": [
        "# Image Inflation"
      ]
    },
    {
      "cell_type": "code",
      "metadata": {
        "id": "A76HVstl8Rdm",
        "colab_type": "code",
        "colab": {}
      },
      "source": [
        "# AlexNet_half (Dropout)\n",
        "class AlexNet_DAB(nn.Module):\n",
        "    \"\"\"\n",
        "    Neural Network inspired on Alexnet, with a reduced number of parameters (989410).\n",
        "    \"\"\"\n",
        "\n",
        "    def __init__(self, bias=True):\n",
        "        \"setup the neural network\"\n",
        "        \n",
        "        # initalise\n",
        "        super(AlexNet_DAB, self).__init__()\n",
        "\n",
        "        # create the activation function\n",
        "        act = nn.ReLU()\n",
        "        \n",
        "        self.convolutional = nn.Sequential(\n",
        "            nn.Conv2d(1, 24, padding=1, kernel_size=4, stride=1, bias=bias), act,\n",
        "            nn.BatchNorm2d(24),\n",
        "            nn.MaxPool2d(kernel_size=1, stride=1), act,\n",
        "            nn.Conv2d(24, 64, padding=2, kernel_size=5, stride=1, bias=bias), act,\n",
        "            nn.BatchNorm2d(64),\n",
        "            nn.MaxPool2d(kernel_size=3, stride=2), act,\n",
        "            nn.Conv2d(64, 96, padding=2, kernel_size=5, stride=1, bias=bias), act,\n",
        "            nn.Conv2d(96, 96, padding=1, kernel_size=3, stride=1, bias=bias), act,\n",
        "            nn.Conv2d(96, 64, padding=1, kernel_size=3, stride=1, bias=bias), act,\n",
        "            nn.MaxPool2d(kernel_size=3, stride=2), act)\n",
        "        \n",
        "        self.full_connected = nn.Sequential(\n",
        "            nn.Linear(2304, 256, bias=bias), act,\n",
        "            nn.Dropout(),\n",
        "            nn.Linear(256, 256, bias=bias), act,\n",
        "            nn.Dropout(),\n",
        "            nn.Linear(256, 10, bias=bias)\n",
        "        )\n",
        "\n",
        "    def flatten(self, T):\n",
        "        \"flatten the image for the fully connected layers\"\n",
        "        return T.view(-1, T.size(1)*T.size(2)*T.size(3))\n",
        "        \n",
        "        \n",
        "    def forward(self, x):\n",
        "        \"Pass through the neural network\"\n",
        "        x = self.convolutional(x)\n",
        "        x = self.flatten(x)\n",
        "        x = self.full_connected(x)\n",
        "        return x"
      ],
      "execution_count": 0,
      "outputs": []
    },
    {
      "cell_type": "code",
      "metadata": {
        "id": "dK8hKOxn4GLa",
        "colab_type": "code",
        "colab": {
          "base_uri": "https://localhost:8080/",
          "height": 629
        },
        "outputId": "ab470338-d9ff-4611-ab05-3a4ebd3dd8e4"
      },
      "source": [
        "model = torch.load(\"/content/models/AlexNet_DAB_OptParams/DAB_opt_mom_100.pth\")\n",
        "model\n",
        "\n"
      ],
      "execution_count": 32,
      "outputs": [
        {
          "output_type": "execute_result",
          "data": {
            "text/plain": [
              "{'Liveloss': <livelossplot.generic_plot.PlotLosses at 0x7f757c25dc88>,\n",
              " 'model': AlexNet_DAB(\n",
              "   (convolutional): Sequential(\n",
              "     (0): Conv2d(1, 24, kernel_size=(4, 4), stride=(1, 1), padding=(1, 1))\n",
              "     (1): ReLU()\n",
              "     (2): BatchNorm2d(24, eps=1e-05, momentum=0.1, affine=True, track_running_stats=True)\n",
              "     (3): MaxPool2d(kernel_size=1, stride=1, padding=0, dilation=1, ceil_mode=False)\n",
              "     (4): ReLU()\n",
              "     (5): Conv2d(24, 64, kernel_size=(5, 5), stride=(1, 1), padding=(2, 2))\n",
              "     (6): ReLU()\n",
              "     (7): BatchNorm2d(64, eps=1e-05, momentum=0.1, affine=True, track_running_stats=True)\n",
              "     (8): MaxPool2d(kernel_size=3, stride=2, padding=0, dilation=1, ceil_mode=False)\n",
              "     (9): ReLU()\n",
              "     (10): Conv2d(64, 96, kernel_size=(5, 5), stride=(1, 1), padding=(2, 2))\n",
              "     (11): ReLU()\n",
              "     (12): Conv2d(96, 96, kernel_size=(3, 3), stride=(1, 1), padding=(1, 1))\n",
              "     (13): ReLU()\n",
              "     (14): Conv2d(96, 64, kernel_size=(3, 3), stride=(1, 1), padding=(1, 1))\n",
              "     (15): ReLU()\n",
              "     (16): MaxPool2d(kernel_size=3, stride=2, padding=0, dilation=1, ceil_mode=False)\n",
              "     (17): ReLU()\n",
              "   )\n",
              "   (full_connected): Sequential(\n",
              "     (0): Linear(in_features=2304, out_features=256, bias=True)\n",
              "     (1): ReLU()\n",
              "     (2): Dropout(p=0.5)\n",
              "     (3): Linear(in_features=256, out_features=256, bias=True)\n",
              "     (4): ReLU()\n",
              "     (5): Dropout(p=0.5)\n",
              "     (6): Linear(in_features=256, out_features=10, bias=True)\n",
              "   )\n",
              " ),\n",
              " 'transform': Compose(\n",
              "     ToTensor()\n",
              "     Normalize(mean=[0.19193742228372832], std=[0.3484717402643013])\n",
              " )}"
            ]
          },
          "metadata": {
            "tags": []
          },
          "execution_count": 32
        }
      ]
    },
    {
      "cell_type": "code",
      "metadata": {
        "id": "DaJLFe-I4pd3",
        "colab_type": "code",
        "colab": {
          "base_uri": "https://localhost:8080/",
          "height": 51
        },
        "outputId": "02f78c6c-9f28-4530-ae25-e549231db84c"
      },
      "source": [
        "wrapper2 = train_wrapper(model[\"model\"], None, None, None, device=device)\n",
        "wrapper2.transform = model[\"transform\"]\n",
        "\n",
        "# test this\n",
        "t_index, v_index = indices[0]\n",
        "t_feat, t_targ = train_feat[t_index], train_targ[t_index]\n",
        "\n",
        "\n",
        "ypred = wrapper2.evaluate(t_feat, False)\n",
        "ypred.shape\n",
        "\n"
      ],
      "execution_count": 90,
      "outputs": [
        {
          "output_type": "stream",
          "text": [
            "No transform found, test data must be normalised manually\n"
          ],
          "name": "stdout"
        },
        {
          "output_type": "execute_result",
          "data": {
            "text/plain": [
              "(54000,)"
            ]
          },
          "metadata": {
            "tags": []
          },
          "execution_count": 90
        }
      ]
    },
    {
      "cell_type": "code",
      "metadata": {
        "id": "0fUP4QYLODhU",
        "colab_type": "code",
        "colab": {
          "base_uri": "https://localhost:8080/",
          "height": 34
        },
        "outputId": "c57bf945-b516-48b7-c625-8aaa2c5c7b73"
      },
      "source": [
        "t_targ.shape, t_feat.shape"
      ],
      "execution_count": 91,
      "outputs": [
        {
          "output_type": "execute_result",
          "data": {
            "text/plain": [
              "((54000,), (54000, 28, 28))"
            ]
          },
          "metadata": {
            "tags": []
          },
          "execution_count": 91
        }
      ]
    },
    {
      "cell_type": "code",
      "metadata": {
        "id": "FJIg06QQ4pge",
        "colab_type": "code",
        "colab": {}
      },
      "source": [
        "\n",
        "def find_failed_indexs(ypred, yact):\n",
        "  print(ypred.shape, yact.shape)\n",
        "  failed = [[],[],[],[],[],[],[],[],[],[]]\n",
        "  for i in range(len(yact)):\n",
        "    if (yact[i]!=ypred[i]):\n",
        "      failed[yact[i]].append(i)\n",
        "  return failed\n",
        "    "
      ],
      "execution_count": 0,
      "outputs": []
    },
    {
      "cell_type": "code",
      "metadata": {
        "id": "3dkvJoAN30N2",
        "colab_type": "code",
        "colab": {}
      },
      "source": [
        "def image_inflation(t_feat, t_targ, failed_indices=[], no_increase=10):\n",
        "    # find the features and targets we want to duplicate\n",
        "    \n",
        "    \n",
        "    to_dupe = []\n",
        "    \n",
        "    for sym, fails in enumerate(failed_indices):\n",
        "      \n",
        "      all_ids = np.where(t_targ == sym)[0]\n",
        "      print(all_ids.shape)\n",
        "      \n",
        "      to_dupe.append(np.random.choice(fails, no_increase))\n",
        "      \n",
        "      for n, i in enumerate(to_dupe[-1]):\n",
        "        if i == -1:\n",
        "          to_dupe[i] = np.random.choice(all_ids)\n",
        "          \n",
        "    to_dupe = np.array(to_dupe).flatten()\n",
        "    dup_feat = t_feat[to_dupe]\n",
        "    dup_targ = t_targ[to_dupe]\n",
        "    \n",
        "    # add to the data sets\n",
        "    t_feat = np.concatenate([t_feat, dup_feat], axis=0)\n",
        "    t_targ = np.concatenate([t_targ, dup_targ], axis=0)\n",
        "\n",
        "    return t_feat, t_targ"
      ],
      "execution_count": 0,
      "outputs": []
    },
    {
      "cell_type": "code",
      "metadata": {
        "id": "ntURl9kI30QU",
        "colab_type": "code",
        "colab": {
          "base_uri": "https://localhost:8080/",
          "height": 309
        },
        "outputId": "cc09d66a-3137-41f1-93e4-5e6fc1f35fb5"
      },
      "source": [
        "\n",
        "failed = find_failed_indexs(ypred, t_targ)\n",
        "\n",
        "print(failed)\n",
        "\n",
        "print(\"pre-inflation:\", t_feat.shape, t_targ.shape)\n",
        "print(np.unique(t_targ, return_counts=True)[1])\n",
        "\n",
        "t_feat, t_targ = image_inflation(t_feat, t_targ, failed_indices=failed)\n",
        "print(\"post-inflation:\", t_feat.shape, t_targ.shape)\n",
        "print(np.unique(t_targ, return_counts=True)[1])"
      ],
      "execution_count": 94,
      "outputs": [
        {
          "output_type": "stream",
          "text": [
            "(54000,) (54000,)\n",
            "[[6688, 47037, 49599, 50730], [2654, 51826], [3072, 7073, 13778, 16769, 17065, 22948, 23093, 26224, 30478, 31642, 32077, 32754, 33298, 33766, 37962, 44328, 45280, 47210, 51830, 52972], [3010, 7688, 8272, 12384, 13866, 14253, 17707, 21687, 22258, 23744, 25135, 27193, 28251, 28315, 31486, 39287, 41228, 42719, 48117, 48968, 50031], [5313, 7104, 11900, 19307, 19780, 20544, 31006, 32264, 34084, 35313, 45236, 46631, 50331, 53214, 53469], [15423, 25876, 30862, 34652, 42262], [37929, 44217], [6816, 20204, 28075], [1229, 1888, 6911, 14637, 45428, 49732], [2595, 11193, 24456, 31669, 38939]]\n",
            "pre-inflation: (54000, 28, 28) (54000,)\n",
            "[5400 5400 5400 5400 5400 5400 5400 5400 5400 5400]\n",
            "(5400,)\n",
            "(5400,)\n",
            "(5400,)\n",
            "(5400,)\n",
            "(5400,)\n",
            "(5400,)\n",
            "(5400,)\n",
            "(5400,)\n",
            "(5400,)\n",
            "(5400,)\n",
            "post-inflation: (54100, 28, 28) (54100,)\n",
            "[5410 5410 5410 5410 5410 5410 5410 5410 5410 5410]\n"
          ],
          "name": "stdout"
        }
      ]
    },
    {
      "cell_type": "code",
      "metadata": {
        "id": "uMphWh7u30Sk",
        "colab_type": "code",
        "colab": {}
      },
      "source": [
        ""
      ],
      "execution_count": 0,
      "outputs": []
    },
    {
      "cell_type": "code",
      "metadata": {
        "id": "GgizY7rV30U4",
        "colab_type": "code",
        "colab": {}
      },
      "source": [
        ""
      ],
      "execution_count": 0,
      "outputs": []
    }
  ]
}